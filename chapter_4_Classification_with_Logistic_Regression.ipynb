{
  "cells": [
    {
      "cell_type": "markdown",
      "metadata": {
        "id": "BuwSp272sa1B"
      },
      "source": [
        "# Vehicle Loan Prediction Machine Learning Model\n",
        "\n",
        "# Chapter 5 - Linear Classifiers\n",
        "\n",
        "### Load Data and Import Libraries\n",
        "\n",
        "- Notice that we have included two new modules from sklearn"
      ]
    },
    {
      "cell_type": "code",
      "execution_count": 1,
      "metadata": {
        "id": "1NgrD6Oqsa1v"
      },
      "outputs": [],
      "source": [
        "import pandas as pd\n",
        "import matplotlib.pyplot as plt\n",
        "import numpy as np\n",
        "import seaborn as sns\n",
        "from sklearn.linear_model import LogisticRegression\n",
        "from sklearn.model_selection import train_test_split"
      ]
    },
    {
      "cell_type": "code",
      "execution_count": 8,
      "metadata": {
        "id": "7nlTqjyrsa19"
      },
      "outputs": [],
      "source": [
        "loan_df = pd.read_csv('/content/vehicle_loans_feat.csv', index_col='UNIQUEID')"
      ]
    },
    {
      "cell_type": "markdown",
      "metadata": {
        "id": "h-72iIlisa3J"
      },
      "source": [
        "## Lesson 1 - Train/Test Split\n",
        "\n",
        "For the rest of this chapter, we will work through the steps of creating a simple linear classifier using Logistic Regression\n",
        "\n",
        "First let's remind ourselves of the variables we are dealing with"
      ]
    },
    {
      "cell_type": "code",
      "execution_count": 9,
      "metadata": {
        "colab": {
          "base_uri": "https://localhost:8080/"
        },
        "id": "B4KNrwllsa3N",
        "outputId": "c4658377-ec98-4e0f-ba83-3878787d23a9"
      },
      "outputs": [
        {
          "output_type": "stream",
          "name": "stdout",
          "text": [
            "<class 'pandas.core.frame.DataFrame'>\n",
            "Int64Index: 233154 entries, 420825 to 630213\n",
            "Data columns (total 31 columns):\n",
            " #   Column                               Non-Null Count   Dtype  \n",
            "---  ------                               --------------   -----  \n",
            " 0   DISBURSED_AMOUNT                     233154 non-null  float64\n",
            " 1   ASSET_COST                           233154 non-null  float64\n",
            " 2   LTV                                  233154 non-null  float64\n",
            " 3   MANUFACTURER_ID                      233154 non-null  int64  \n",
            " 4   EMPLOYMENT_TYPE                      233154 non-null  object \n",
            " 5   STATE_ID                             233154 non-null  int64  \n",
            " 6   AADHAR_FLAG                          233154 non-null  int64  \n",
            " 7   PAN_FLAG                             233154 non-null  int64  \n",
            " 8   VOTERID_FLAG                         233154 non-null  int64  \n",
            " 9   DRIVING_FLAG                         233154 non-null  int64  \n",
            " 10  PASSPORT_FLAG                        233154 non-null  int64  \n",
            " 11  PERFORM_CNS_SCORE                    233154 non-null  float64\n",
            " 12  PERFORM_CNS_SCORE_DESCRIPTION        233154 non-null  object \n",
            " 13  NEW_ACCTS_IN_LAST_SIX_MONTHS         233154 non-null  float64\n",
            " 14  DELINQUENT_ACCTS_IN_LAST_SIX_MONTHS  233154 non-null  float64\n",
            " 15  NO_OF_INQUIRIES                      233154 non-null  float64\n",
            " 16  LOAN_DEFAULT                         233154 non-null  int64  \n",
            " 17  AGE                                  233154 non-null  float64\n",
            " 18  DISBURSAL_MONTH                      233154 non-null  int64  \n",
            " 19  AVERAGE_ACCT_AGE_MONTHS              233154 non-null  float64\n",
            " 20  CREDIT_HISTORY_LENGTH_MONTHS         233154 non-null  float64\n",
            " 21  DISBURSED_CAT                        233154 non-null  object \n",
            " 22  DISBURSAL_DIFFERENCE                 233154 non-null  float64\n",
            " 23  TOTAL_ACCTS                          233154 non-null  float64\n",
            " 24  TOTAL_ACTIVE_ACCTS                   233154 non-null  float64\n",
            " 25  TOTAL_OVERDUE_ACCTS                  233154 non-null  float64\n",
            " 26  TOTAL_CURRENT_BALANCE                233154 non-null  float64\n",
            " 27  TOTAL_SANCTIONED_AMOUNT              233154 non-null  float64\n",
            " 28  TOTAL_DISBURSED_AMOUNT               233154 non-null  float64\n",
            " 29  TOTAL_INSTAL_AMT                     233154 non-null  float64\n",
            " 30  OVERDUE_PCT                          233154 non-null  float64\n",
            "dtypes: float64(19), int64(9), object(3)\n",
            "memory usage: 56.9+ MB\n"
          ]
        }
      ],
      "source": [
        "#look at the columns\n",
        "loan_df.info()"
      ]
    },
    {
      "cell_type": "markdown",
      "metadata": {
        "id": "F6s_gv_Fsa3Q"
      },
      "source": [
        "It is important that our classifier recognises categorical variables where appropriate.\n",
        "\n",
        "Lets use the dtypes property to look at the variable types of our categorical feilds."
      ]
    },
    {
      "cell_type": "code",
      "execution_count": 10,
      "metadata": {
        "colab": {
          "base_uri": "https://localhost:8080/"
        },
        "id": "_hlp5Ki5sa3U",
        "outputId": "1e682329-441f-4be4-d789-6745eb20bb5f"
      },
      "outputs": [
        {
          "output_type": "execute_result",
          "data": {
            "text/plain": [
              "MANUFACTURER_ID                   int64\n",
              "STATE_ID                          int64\n",
              "DISBURSAL_MONTH                   int64\n",
              "DISBURSED_CAT                    object\n",
              "PERFORM_CNS_SCORE_DESCRIPTION    object\n",
              "EMPLOYMENT_TYPE                  object\n",
              "dtype: object"
            ]
          },
          "metadata": {},
          "execution_count": 10
        }
      ],
      "source": [
        "#look at categorical data types\n",
        "category_cols = ['MANUFACTURER_ID', 'STATE_ID', 'DISBURSAL_MONTH', 'DISBURSED_CAT', 'PERFORM_CNS_SCORE_DESCRIPTION', 'EMPLOYMENT_TYPE']\n",
        "loan_df[category_cols].dtypes"
      ]
    },
    {
      "cell_type": "markdown",
      "metadata": {
        "id": "EkebeXCksa3Y"
      },
      "source": [
        "\n",
        "- We do not want to treat MANUFACTURER_ID, STATE_ID and DISBURSAL_MONTH as integers\n",
        "- We can encode our categorical columns with the category data type"
      ]
    },
    {
      "cell_type": "code",
      "execution_count": 11,
      "metadata": {
        "colab": {
          "base_uri": "https://localhost:8080/"
        },
        "id": "7_m2yifSsa3c",
        "outputId": "e5587563-5da0-445a-bad1-d781cbf9bbac"
      },
      "outputs": [
        {
          "output_type": "execute_result",
          "data": {
            "text/plain": [
              "MANUFACTURER_ID                  category\n",
              "STATE_ID                         category\n",
              "DISBURSAL_MONTH                  category\n",
              "DISBURSED_CAT                    category\n",
              "PERFORM_CNS_SCORE_DESCRIPTION    category\n",
              "EMPLOYMENT_TYPE                  category\n",
              "dtype: object"
            ]
          },
          "metadata": {},
          "execution_count": 11
        }
      ],
      "source": [
        "#convert to categorical type\n",
        "loan_df[category_cols] = loan_df[category_cols].astype('category')\n",
        "loan_df[category_cols].dtypes"
      ]
    },
    {
      "cell_type": "markdown",
      "metadata": {
        "id": "S9jcEgXhsa3i"
      },
      "source": [
        "### EXERCISE \n",
        "\n",
        "- To keep our first model simple, select 6 variables including 'LOAN_DEFAULT' and 'DISBURSED_CAT'\n",
        "- Using these variables create a subset of loan_df and store it as a separate DataFrame loan_df_sml\n",
        "- HINT: Think about the results of your exploratory analysis, which variables might be good predictors?"
      ]
    },
    {
      "cell_type": "markdown",
      "metadata": {
        "id": "yuhjoXPbsa3n"
      },
      "source": [
        "### SOLUTION\n",
        "\n",
        "- I have selected the following 6 columns, 'STATE_ID', 'LTV', 'DISBURSED_CAT', 'PERFORM_CNS_SCORE', 'DISBURSAL_MONTH', 'LOAN_DEFAULT'\n",
        "- You could have selected any five which you are interested in, so long as one of them is 'LOAN_DEFAULT' and you have 'DISBURSED_CAT' which we will use later in this chapter"
      ]
    },
    {
      "cell_type": "code",
      "execution_count": 12,
      "metadata": {
        "id": "BpLrV7Yksa3x"
      },
      "outputs": [],
      "source": [
        "#type solution here\n",
        "\n",
        "loan_df_sml = loan_df[['STATE_ID', 'LTV', 'DISBURSED_CAT', 'PERFORM_CNS_SCORE', 'DISBURSAL_MONTH', 'LOAN_DEFAULT']]"
      ]
    },
    {
      "cell_type": "markdown",
      "metadata": {
        "id": "xUs0MZizsa31"
      },
      "source": [
        "Nice! Let's have a quick look at our new dataframe"
      ]
    },
    {
      "cell_type": "code",
      "execution_count": 13,
      "metadata": {
        "colab": {
          "base_uri": "https://localhost:8080/"
        },
        "id": "sc_lJqagsa33",
        "outputId": "7fa0081e-1639-4f5e-8ec0-dea002d3a4a7"
      },
      "outputs": [
        {
          "output_type": "execute_result",
          "data": {
            "text/plain": [
              "(233154, 6)"
            ]
          },
          "metadata": {},
          "execution_count": 13
        }
      ],
      "source": [
        "#check the dimensions\n",
        "loan_df_sml.shape"
      ]
    },
    {
      "cell_type": "markdown",
      "metadata": {
        "id": "byF8IwcOsa37"
      },
      "source": [
        "We still have 233154 rows but now there are only 6 columns"
      ]
    },
    {
      "cell_type": "code",
      "execution_count": 14,
      "metadata": {
        "colab": {
          "base_uri": "https://localhost:8080/"
        },
        "id": "5lC_z9oIsa39",
        "outputId": "8d20953e-6c09-4dd4-8bdd-f07f5032480a"
      },
      "outputs": [
        {
          "output_type": "stream",
          "name": "stdout",
          "text": [
            "<class 'pandas.core.frame.DataFrame'>\n",
            "Int64Index: 233154 entries, 420825 to 630213\n",
            "Data columns (total 6 columns):\n",
            " #   Column             Non-Null Count   Dtype   \n",
            "---  ------             --------------   -----   \n",
            " 0   STATE_ID           233154 non-null  category\n",
            " 1   LTV                233154 non-null  float64 \n",
            " 2   DISBURSED_CAT      233154 non-null  category\n",
            " 3   PERFORM_CNS_SCORE  233154 non-null  float64 \n",
            " 4   DISBURSAL_MONTH    233154 non-null  category\n",
            " 5   LOAN_DEFAULT       233154 non-null  int64   \n",
            "dtypes: category(3), float64(2), int64(1)\n",
            "memory usage: 7.8 MB\n"
          ]
        }
      ],
      "source": [
        "#look at the columns\n",
        "loan_df_sml.info()"
      ]
    },
    {
      "cell_type": "markdown",
      "metadata": {
        "id": "ZZWsllhgsa4A"
      },
      "source": [
        "### Training/Test Split\n",
        "\n",
        "- Before we fit (train) our basic linear model we need to split our data into training and test sets.\n",
        "- Training Data: used to fit the model to our specific data\n",
        "- Test Data: used to test the predictive power of the trained model  \n",
        "\n",
        "We can use the [train_test_split](https://scikit-learn.org/stable/modules/generated/sklearn.model_selection.train_test_split.html) from sklearn to create our training and test sets\n",
        "\n",
        "[train_test_split](https://scikit-learn.org/stable/modules/generated/sklearn.model_selection.train_test_split.html) has two required parameters \n",
        "\n",
        "- x: all of the rows and columns except the target variable \n",
        "- y: all of the rows but just the target variable column\n",
        "\n",
        "### EXERCISE\n",
        "\n",
        "- Create two variables x and y to match the required parameters for [train_test_split](https://scikit-learn.org/stable/modules/generated/sklearn.model_selection.train_test_split.html)"
      ]
    },
    {
      "cell_type": "markdown",
      "metadata": {
        "id": "QQqFVwFZsa4E"
      },
      "source": [
        "### SOLUTION"
      ]
    },
    {
      "cell_type": "code",
      "execution_count": 15,
      "metadata": {
        "id": "OJF4913isa4H"
      },
      "outputs": [],
      "source": [
        "#type solution here\n",
        "x = loan_df_sml.drop(['LOAN_DEFAULT'], axis=1)\n",
        "y = loan_df_sml['LOAN_DEFAULT']"
      ]
    },
    {
      "cell_type": "markdown",
      "metadata": {
        "id": "MLLwS4Ecsa4K"
      },
      "source": [
        "We should investigate the dimensions of x and y to make sure the above solution is correct"
      ]
    },
    {
      "cell_type": "code",
      "execution_count": 19,
      "metadata": {
        "colab": {
          "base_uri": "https://localhost:8080/"
        },
        "id": "GjgY88BBsa4N",
        "outputId": "0074ce6d-439b-433e-cf19-9fab0445b76b"
      },
      "outputs": [
        {
          "output_type": "stream",
          "name": "stdout",
          "text": [
            "x has 233154 rows and 5 columns\n",
            "y has 233154 rows\n"
          ]
        }
      ],
      "source": [
        "#check the rows and columns\n",
        "print(\"x has {0} rows and {1} columns\".format(x.shape[0], x.shape[1]))\n",
        "print(\"y has {0} rows\".format(y.count()))"
      ]
    },
    {
      "cell_type": "code",
      "execution_count": 16,
      "metadata": {
        "colab": {
          "base_uri": "https://localhost:8080/"
        },
        "id": "_IjQSybzsa4P",
        "outputId": "02f2c4b0-1ef5-4b25-a3a0-ce8a7759fcae"
      },
      "outputs": [
        {
          "output_type": "stream",
          "name": "stdout",
          "text": [
            "<class 'pandas.core.frame.DataFrame'>\n",
            "Int64Index: 233154 entries, 420825 to 630213\n",
            "Data columns (total 5 columns):\n",
            " #   Column             Non-Null Count   Dtype   \n",
            "---  ------             --------------   -----   \n",
            " 0   STATE_ID           233154 non-null  category\n",
            " 1   LTV                233154 non-null  float64 \n",
            " 2   DISBURSED_CAT      233154 non-null  category\n",
            " 3   PERFORM_CNS_SCORE  233154 non-null  float64 \n",
            " 4   DISBURSAL_MONTH    233154 non-null  category\n",
            "dtypes: category(3), float64(2)\n",
            "memory usage: 6.0 MB\n"
          ]
        }
      ],
      "source": [
        "#x info\n",
        "x.info()"
      ]
    },
    {
      "cell_type": "code",
      "execution_count": 17,
      "metadata": {
        "colab": {
          "base_uri": "https://localhost:8080/"
        },
        "id": "nylrwE2Xsa5B",
        "outputId": "3bd00fb6-a9b4-4707-ece0-b4853c228405"
      },
      "outputs": [
        {
          "output_type": "stream",
          "name": "stdout",
          "text": [
            "<class 'pandas.core.series.Series'>\n",
            "Int64Index: 233154 entries, 420825 to 630213\n",
            "Series name: LOAN_DEFAULT\n",
            "Non-Null Count   Dtype\n",
            "--------------   -----\n",
            "233154 non-null  int64\n",
            "dtypes: int64(1)\n",
            "memory usage: 3.6 MB\n"
          ]
        }
      ],
      "source": [
        "#y info\n",
        "y.info()"
      ]
    },
    {
      "cell_type": "markdown",
      "metadata": {
        "id": "hmND9FWrsa5O"
      },
      "source": [
        "Great! Looks like we have what need, now we can create our training/test data sets \n",
        "\n",
        "In addition to the required parameters of [train_test_split](https://scikit-learn.org/stable/modules/generated/sklearn.model_selection.train_test_split.html) we will also use \n",
        "- test_size: floating value between 0 and 1 indicating the size of the test set \n",
        "- random_state: integer value used for random seeding, allows for repeatability of the split"
      ]
    },
    {
      "cell_type": "code",
      "execution_count": 21,
      "metadata": {
        "id": "IQAwkEZOsa5R"
      },
      "outputs": [],
      "source": [
        "#train test split\n",
        "x_train, x_test, y_train, y_test = train_test_split(x, y, test_size = 0.2, random_state=42)\n"
      ]
    },
    {
      "cell_type": "markdown",
      "metadata": {
        "id": "sqDafQiusa5T"
      },
      "source": [
        "Notice that [train_test_split](https://scikit-learn.org/stable/modules/generated/sklearn.model_selection.train_test_split.html) returns 4 output values \n",
        "\n",
        "- x_train: the training rows without the target variable \n",
        "- x_test: the test rows without the target variable \n",
        "- y_train: the training rows, target variable only \n",
        "- y_test: the test rows, target variable only \n",
        "\n",
        "Let's familiarize ourselves with this output"
      ]
    },
    {
      "cell_type": "code",
      "execution_count": 22,
      "metadata": {
        "colab": {
          "base_uri": "https://localhost:8080/"
        },
        "id": "nLBfXm5Tsa5W",
        "outputId": "d7a1372b-8a3a-44df-b4ff-7d96374458c1"
      },
      "outputs": [
        {
          "output_type": "stream",
          "name": "stdout",
          "text": [
            "x_train has 186523 rows and 5 columns\n",
            "y_train has 186523 rows\n",
            "x_test has 46631 rows and 5 columns\n",
            "y_test has 46631 rows\n"
          ]
        }
      ],
      "source": [
        "#check rows and columns\n",
        "print(\"x_train has {0} rows and {1} columns\".format(x_train.shape[0], x_train.shape[1]))\n",
        "print(\"y_train has {0} rows\".format(y_train.count()))\n",
        "print(\"x_test has {0} rows and {1} columns\".format(x_test.shape[0], x_test.shape[1]))\n",
        "print(\"y_test has {0} rows\".format(y_test.count()))"
      ]
    },
    {
      "cell_type": "markdown",
      "metadata": {
        "id": "Cy6BPWVxsa5Y"
      },
      "source": [
        "Looks like the number of rows and columns is what we would expect"
      ]
    },
    {
      "cell_type": "code",
      "execution_count": 23,
      "metadata": {
        "colab": {
          "base_uri": "https://localhost:8080/"
        },
        "id": "VG115Zx6sa5b",
        "outputId": "8a680e9c-4059-4687-9ab2-c559bac0c8eb"
      },
      "outputs": [
        {
          "output_type": "stream",
          "name": "stdout",
          "text": [
            "<class 'pandas.core.frame.DataFrame'>\n",
            "Int64Index: 186523 entries, 633275 to 501520\n",
            "Data columns (total 5 columns):\n",
            " #   Column             Non-Null Count   Dtype   \n",
            "---  ------             --------------   -----   \n",
            " 0   STATE_ID           186523 non-null  category\n",
            " 1   LTV                186523 non-null  float64 \n",
            " 2   DISBURSED_CAT      186523 non-null  category\n",
            " 3   PERFORM_CNS_SCORE  186523 non-null  float64 \n",
            " 4   DISBURSAL_MONTH    186523 non-null  category\n",
            "dtypes: category(3), float64(2)\n",
            "memory usage: 4.8 MB\n"
          ]
        }
      ],
      "source": [
        "#x train info\n",
        "x_train.info()"
      ]
    },
    {
      "cell_type": "code",
      "execution_count": 24,
      "metadata": {
        "colab": {
          "base_uri": "https://localhost:8080/"
        },
        "id": "Peo2VY60sa5e",
        "outputId": "18dcc4ba-4227-4072-8fad-eb2f4d1e1b71"
      },
      "outputs": [
        {
          "output_type": "execute_result",
          "data": {
            "text/plain": [
              "UNIQUEID\n",
              "633275    1\n",
              "646002    0\n",
              "591252    0\n",
              "475736    0\n",
              "639478    0\n",
              "Name: LOAN_DEFAULT, dtype: int64"
            ]
          },
          "metadata": {},
          "execution_count": 24
        }
      ],
      "source": [
        "#y train info\n",
        "y_train.head()"
      ]
    },
    {
      "cell_type": "code",
      "execution_count": 25,
      "metadata": {
        "colab": {
          "base_uri": "https://localhost:8080/"
        },
        "id": "agyVlf_Zsa5i",
        "outputId": "aa31a9bd-634f-492a-f174-cbb295422bba"
      },
      "outputs": [
        {
          "output_type": "stream",
          "name": "stdout",
          "text": [
            "<class 'pandas.core.frame.DataFrame'>\n",
            "Int64Index: 46631 entries, 617183 to 626383\n",
            "Data columns (total 5 columns):\n",
            " #   Column             Non-Null Count  Dtype   \n",
            "---  ------             --------------  -----   \n",
            " 0   STATE_ID           46631 non-null  category\n",
            " 1   LTV                46631 non-null  float64 \n",
            " 2   DISBURSED_CAT      46631 non-null  category\n",
            " 3   PERFORM_CNS_SCORE  46631 non-null  float64 \n",
            " 4   DISBURSAL_MONTH    46631 non-null  category\n",
            "dtypes: category(3), float64(2)\n",
            "memory usage: 1.2 MB\n"
          ]
        }
      ],
      "source": [
        "#x test info\n",
        "x_test.info()"
      ]
    },
    {
      "cell_type": "code",
      "execution_count": 26,
      "metadata": {
        "colab": {
          "base_uri": "https://localhost:8080/"
        },
        "id": "5HW-LRhqsa5l",
        "outputId": "824f2601-8178-4ece-d05f-4e52642cbd04"
      },
      "outputs": [
        {
          "output_type": "execute_result",
          "data": {
            "text/plain": [
              "UNIQUEID\n",
              "617183    1\n",
              "515702    0\n",
              "466872    0\n",
              "632384    0\n",
              "461426    0\n",
              "Name: LOAN_DEFAULT, dtype: int64"
            ]
          },
          "metadata": {},
          "execution_count": 26
        }
      ],
      "source": [
        "#y test info\n",
        "y_test.head()"
      ]
    },
    {
      "cell_type": "markdown",
      "metadata": {
        "id": "dx4WsUAdsa5p"
      },
      "source": [
        "Brilliant! All the train and test data has the correct columns \n",
        "\n",
        "Now let's use [value_counts](https://pandas.pydata.org/pandas-docs/stable/reference/api/pandas.Series.value_counts.html) to check the distribution of the class variable"
      ]
    },
    {
      "cell_type": "code",
      "execution_count": 27,
      "metadata": {
        "colab": {
          "base_uri": "https://localhost:8080/"
        },
        "id": "yWHwO3S8sa5r",
        "outputId": "b3175bcb-6af4-42d8-e0dc-62aea4b3e186"
      },
      "outputs": [
        {
          "output_type": "execute_result",
          "data": {
            "text/plain": [
              "0    0.783099\n",
              "1    0.216901\n",
              "Name: LOAN_DEFAULT, dtype: float64"
            ]
          },
          "metadata": {},
          "execution_count": 27
        }
      ],
      "source": [
        "#check the training target variable\n",
        "y_train.value_counts(normalize=True)"
      ]
    },
    {
      "cell_type": "code",
      "execution_count": 28,
      "metadata": {
        "colab": {
          "base_uri": "https://localhost:8080/"
        },
        "id": "XThPusSGsa5u",
        "outputId": "ea0f485e-e4c4-4b3e-9298-44184b1dc364"
      },
      "outputs": [
        {
          "output_type": "execute_result",
          "data": {
            "text/plain": [
              "0    0.782248\n",
              "1    0.217752\n",
              "Name: LOAN_DEFAULT, dtype: float64"
            ]
          },
          "metadata": {},
          "execution_count": 28
        }
      ],
      "source": [
        "#check the test target variable\n",
        "y_test.value_counts(normalize=True)"
      ]
    },
    {
      "cell_type": "markdown",
      "metadata": {
        "id": "tMB2o1vmsa5y"
      },
      "source": [
        "Great! Both the training and test set contain defaulted loans at 21.7%! \n",
        "\n",
        "We did not need to stratify due to the size of the dataset and the random nature of the sampling in [train_test_split](https://scikit-learn.org/stable/modules/generated/sklearn.model_selection.train_test_split.html)"
      ]
    },
    {
      "cell_type": "markdown",
      "metadata": {
        "id": "PwpnopSIsa50"
      },
      "source": [
        "## Lesson 2 - Variable Encoding"
      ]
    },
    {
      "cell_type": "markdown",
      "metadata": {
        "id": "bfIqthbVsa52"
      },
      "source": [
        "Now its time build our first binary classifier!\n",
        "\n",
        "First we create the model object using [LogisticRegression](https://scikit-learn.org/stable/modules/generated/sklearn.linear_model.LogisticRegression.html)"
      ]
    },
    {
      "cell_type": "code",
      "execution_count": 29,
      "metadata": {
        "id": "p4omwU8Csa56"
      },
      "outputs": [],
      "source": [
        "#initialize the model\n",
        "logistic_model = LogisticRegression()\n"
      ]
    },
    {
      "cell_type": "markdown",
      "metadata": {
        "id": "I990knOKsa5-"
      },
      "source": [
        "Now we [fit](https://scikit-learn.org/stable/modules/generated/sklearn.linear_model.LogisticRegression.html#sklearn.linear_model.LogisticRegression.fit) the training data!"
      ]
    },
    {
      "cell_type": "code",
      "execution_count": 30,
      "metadata": {
        "colab": {
          "base_uri": "https://localhost:8080/",
          "height": 328
        },
        "id": "UIsoUMd0sa6A",
        "outputId": "515519d1-3862-4660-e6d7-440ad8846b34"
      },
      "outputs": [
        {
          "output_type": "error",
          "ename": "ValueError",
          "evalue": "ignored",
          "traceback": [
            "\u001b[0;31m---------------------------------------------------------------------------\u001b[0m",
            "\u001b[0;31mValueError\u001b[0m                                Traceback (most recent call last)",
            "\u001b[0;32m<ipython-input-30-5754e7318dea>\u001b[0m in \u001b[0;36m<module>\u001b[0;34m\u001b[0m\n\u001b[1;32m      1\u001b[0m \u001b[0;31m#fit the logistic model\u001b[0m\u001b[0;34m\u001b[0m\u001b[0;34m\u001b[0m\u001b[0m\n\u001b[0;32m----> 2\u001b[0;31m \u001b[0mlogistic_model\u001b[0m\u001b[0;34m.\u001b[0m\u001b[0mfit\u001b[0m\u001b[0;34m(\u001b[0m\u001b[0mx_train\u001b[0m\u001b[0;34m,\u001b[0m\u001b[0my_train\u001b[0m\u001b[0;34m)\u001b[0m\u001b[0;34m\u001b[0m\u001b[0;34m\u001b[0m\u001b[0m\n\u001b[0m",
            "\u001b[0;32m/usr/local/lib/python3.9/dist-packages/sklearn/linear_model/_logistic.py\u001b[0m in \u001b[0;36mfit\u001b[0;34m(self, X, y, sample_weight)\u001b[0m\n\u001b[1;32m   1194\u001b[0m             \u001b[0m_dtype\u001b[0m \u001b[0;34m=\u001b[0m \u001b[0;34m[\u001b[0m\u001b[0mnp\u001b[0m\u001b[0;34m.\u001b[0m\u001b[0mfloat64\u001b[0m\u001b[0;34m,\u001b[0m \u001b[0mnp\u001b[0m\u001b[0;34m.\u001b[0m\u001b[0mfloat32\u001b[0m\u001b[0;34m]\u001b[0m\u001b[0;34m\u001b[0m\u001b[0;34m\u001b[0m\u001b[0m\n\u001b[1;32m   1195\u001b[0m \u001b[0;34m\u001b[0m\u001b[0m\n\u001b[0;32m-> 1196\u001b[0;31m         X, y = self._validate_data(\n\u001b[0m\u001b[1;32m   1197\u001b[0m             \u001b[0mX\u001b[0m\u001b[0;34m,\u001b[0m\u001b[0;34m\u001b[0m\u001b[0;34m\u001b[0m\u001b[0m\n\u001b[1;32m   1198\u001b[0m             \u001b[0my\u001b[0m\u001b[0;34m,\u001b[0m\u001b[0;34m\u001b[0m\u001b[0;34m\u001b[0m\u001b[0m\n",
            "\u001b[0;32m/usr/local/lib/python3.9/dist-packages/sklearn/base.py\u001b[0m in \u001b[0;36m_validate_data\u001b[0;34m(self, X, y, reset, validate_separately, **check_params)\u001b[0m\n\u001b[1;32m    582\u001b[0m                 \u001b[0my\u001b[0m \u001b[0;34m=\u001b[0m \u001b[0mcheck_array\u001b[0m\u001b[0;34m(\u001b[0m\u001b[0my\u001b[0m\u001b[0;34m,\u001b[0m \u001b[0minput_name\u001b[0m\u001b[0;34m=\u001b[0m\u001b[0;34m\"y\"\u001b[0m\u001b[0;34m,\u001b[0m \u001b[0;34m**\u001b[0m\u001b[0mcheck_y_params\u001b[0m\u001b[0;34m)\u001b[0m\u001b[0;34m\u001b[0m\u001b[0;34m\u001b[0m\u001b[0m\n\u001b[1;32m    583\u001b[0m             \u001b[0;32melse\u001b[0m\u001b[0;34m:\u001b[0m\u001b[0;34m\u001b[0m\u001b[0;34m\u001b[0m\u001b[0m\n\u001b[0;32m--> 584\u001b[0;31m                 \u001b[0mX\u001b[0m\u001b[0;34m,\u001b[0m \u001b[0my\u001b[0m \u001b[0;34m=\u001b[0m \u001b[0mcheck_X_y\u001b[0m\u001b[0;34m(\u001b[0m\u001b[0mX\u001b[0m\u001b[0;34m,\u001b[0m \u001b[0my\u001b[0m\u001b[0;34m,\u001b[0m \u001b[0;34m**\u001b[0m\u001b[0mcheck_params\u001b[0m\u001b[0;34m)\u001b[0m\u001b[0;34m\u001b[0m\u001b[0;34m\u001b[0m\u001b[0m\n\u001b[0m\u001b[1;32m    585\u001b[0m             \u001b[0mout\u001b[0m \u001b[0;34m=\u001b[0m \u001b[0mX\u001b[0m\u001b[0;34m,\u001b[0m \u001b[0my\u001b[0m\u001b[0;34m\u001b[0m\u001b[0;34m\u001b[0m\u001b[0m\n\u001b[1;32m    586\u001b[0m \u001b[0;34m\u001b[0m\u001b[0m\n",
            "\u001b[0;32m/usr/local/lib/python3.9/dist-packages/sklearn/utils/validation.py\u001b[0m in \u001b[0;36mcheck_X_y\u001b[0;34m(X, y, accept_sparse, accept_large_sparse, dtype, order, copy, force_all_finite, ensure_2d, allow_nd, multi_output, ensure_min_samples, ensure_min_features, y_numeric, estimator)\u001b[0m\n\u001b[1;32m   1104\u001b[0m         )\n\u001b[1;32m   1105\u001b[0m \u001b[0;34m\u001b[0m\u001b[0m\n\u001b[0;32m-> 1106\u001b[0;31m     X = check_array(\n\u001b[0m\u001b[1;32m   1107\u001b[0m         \u001b[0mX\u001b[0m\u001b[0;34m,\u001b[0m\u001b[0;34m\u001b[0m\u001b[0;34m\u001b[0m\u001b[0m\n\u001b[1;32m   1108\u001b[0m         \u001b[0maccept_sparse\u001b[0m\u001b[0;34m=\u001b[0m\u001b[0maccept_sparse\u001b[0m\u001b[0;34m,\u001b[0m\u001b[0;34m\u001b[0m\u001b[0;34m\u001b[0m\u001b[0m\n",
            "\u001b[0;32m/usr/local/lib/python3.9/dist-packages/sklearn/utils/validation.py\u001b[0m in \u001b[0;36mcheck_array\u001b[0;34m(array, accept_sparse, accept_large_sparse, dtype, order, copy, force_all_finite, ensure_2d, allow_nd, ensure_min_samples, ensure_min_features, estimator, input_name)\u001b[0m\n\u001b[1;32m    877\u001b[0m                     \u001b[0marray\u001b[0m \u001b[0;34m=\u001b[0m \u001b[0mxp\u001b[0m\u001b[0;34m.\u001b[0m\u001b[0mastype\u001b[0m\u001b[0;34m(\u001b[0m\u001b[0marray\u001b[0m\u001b[0;34m,\u001b[0m \u001b[0mdtype\u001b[0m\u001b[0;34m,\u001b[0m \u001b[0mcopy\u001b[0m\u001b[0;34m=\u001b[0m\u001b[0;32mFalse\u001b[0m\u001b[0;34m)\u001b[0m\u001b[0;34m\u001b[0m\u001b[0;34m\u001b[0m\u001b[0m\n\u001b[1;32m    878\u001b[0m                 \u001b[0;32melse\u001b[0m\u001b[0;34m:\u001b[0m\u001b[0;34m\u001b[0m\u001b[0;34m\u001b[0m\u001b[0m\n\u001b[0;32m--> 879\u001b[0;31m                     \u001b[0marray\u001b[0m \u001b[0;34m=\u001b[0m \u001b[0m_asarray_with_order\u001b[0m\u001b[0;34m(\u001b[0m\u001b[0marray\u001b[0m\u001b[0;34m,\u001b[0m \u001b[0morder\u001b[0m\u001b[0;34m=\u001b[0m\u001b[0morder\u001b[0m\u001b[0;34m,\u001b[0m \u001b[0mdtype\u001b[0m\u001b[0;34m=\u001b[0m\u001b[0mdtype\u001b[0m\u001b[0;34m,\u001b[0m \u001b[0mxp\u001b[0m\u001b[0;34m=\u001b[0m\u001b[0mxp\u001b[0m\u001b[0;34m)\u001b[0m\u001b[0;34m\u001b[0m\u001b[0;34m\u001b[0m\u001b[0m\n\u001b[0m\u001b[1;32m    880\u001b[0m             \u001b[0;32mexcept\u001b[0m \u001b[0mComplexWarning\u001b[0m \u001b[0;32mas\u001b[0m \u001b[0mcomplex_warning\u001b[0m\u001b[0;34m:\u001b[0m\u001b[0;34m\u001b[0m\u001b[0;34m\u001b[0m\u001b[0m\n\u001b[1;32m    881\u001b[0m                 raise ValueError(\n",
            "\u001b[0;32m/usr/local/lib/python3.9/dist-packages/sklearn/utils/_array_api.py\u001b[0m in \u001b[0;36m_asarray_with_order\u001b[0;34m(array, dtype, order, copy, xp)\u001b[0m\n\u001b[1;32m    183\u001b[0m     \u001b[0;32mif\u001b[0m \u001b[0mxp\u001b[0m\u001b[0;34m.\u001b[0m\u001b[0m__name__\u001b[0m \u001b[0;32min\u001b[0m \u001b[0;34m{\u001b[0m\u001b[0;34m\"numpy\"\u001b[0m\u001b[0;34m,\u001b[0m \u001b[0;34m\"numpy.array_api\"\u001b[0m\u001b[0;34m}\u001b[0m\u001b[0;34m:\u001b[0m\u001b[0;34m\u001b[0m\u001b[0;34m\u001b[0m\u001b[0m\n\u001b[1;32m    184\u001b[0m         \u001b[0;31m# Use NumPy API to support order\u001b[0m\u001b[0;34m\u001b[0m\u001b[0;34m\u001b[0m\u001b[0m\n\u001b[0;32m--> 185\u001b[0;31m         \u001b[0marray\u001b[0m \u001b[0;34m=\u001b[0m \u001b[0mnumpy\u001b[0m\u001b[0;34m.\u001b[0m\u001b[0masarray\u001b[0m\u001b[0;34m(\u001b[0m\u001b[0marray\u001b[0m\u001b[0;34m,\u001b[0m \u001b[0morder\u001b[0m\u001b[0;34m=\u001b[0m\u001b[0morder\u001b[0m\u001b[0;34m,\u001b[0m \u001b[0mdtype\u001b[0m\u001b[0;34m=\u001b[0m\u001b[0mdtype\u001b[0m\u001b[0;34m)\u001b[0m\u001b[0;34m\u001b[0m\u001b[0;34m\u001b[0m\u001b[0m\n\u001b[0m\u001b[1;32m    186\u001b[0m         \u001b[0;32mreturn\u001b[0m \u001b[0mxp\u001b[0m\u001b[0;34m.\u001b[0m\u001b[0masarray\u001b[0m\u001b[0;34m(\u001b[0m\u001b[0marray\u001b[0m\u001b[0;34m,\u001b[0m \u001b[0mcopy\u001b[0m\u001b[0;34m=\u001b[0m\u001b[0mcopy\u001b[0m\u001b[0;34m)\u001b[0m\u001b[0;34m\u001b[0m\u001b[0;34m\u001b[0m\u001b[0m\n\u001b[1;32m    187\u001b[0m     \u001b[0;32melse\u001b[0m\u001b[0;34m:\u001b[0m\u001b[0;34m\u001b[0m\u001b[0;34m\u001b[0m\u001b[0m\n",
            "\u001b[0;32m/usr/local/lib/python3.9/dist-packages/pandas/core/generic.py\u001b[0m in \u001b[0;36m__array__\u001b[0;34m(self, dtype)\u001b[0m\n\u001b[1;32m   2062\u001b[0m \u001b[0;34m\u001b[0m\u001b[0m\n\u001b[1;32m   2063\u001b[0m     \u001b[0;32mdef\u001b[0m \u001b[0m__array__\u001b[0m\u001b[0;34m(\u001b[0m\u001b[0mself\u001b[0m\u001b[0;34m,\u001b[0m \u001b[0mdtype\u001b[0m\u001b[0;34m:\u001b[0m \u001b[0mnpt\u001b[0m\u001b[0;34m.\u001b[0m\u001b[0mDTypeLike\u001b[0m \u001b[0;34m|\u001b[0m \u001b[0;32mNone\u001b[0m \u001b[0;34m=\u001b[0m \u001b[0;32mNone\u001b[0m\u001b[0;34m)\u001b[0m \u001b[0;34m->\u001b[0m \u001b[0mnp\u001b[0m\u001b[0;34m.\u001b[0m\u001b[0mndarray\u001b[0m\u001b[0;34m:\u001b[0m\u001b[0;34m\u001b[0m\u001b[0;34m\u001b[0m\u001b[0m\n\u001b[0;32m-> 2064\u001b[0;31m         \u001b[0;32mreturn\u001b[0m \u001b[0mnp\u001b[0m\u001b[0;34m.\u001b[0m\u001b[0masarray\u001b[0m\u001b[0;34m(\u001b[0m\u001b[0mself\u001b[0m\u001b[0;34m.\u001b[0m\u001b[0m_values\u001b[0m\u001b[0;34m,\u001b[0m \u001b[0mdtype\u001b[0m\u001b[0;34m=\u001b[0m\u001b[0mdtype\u001b[0m\u001b[0;34m)\u001b[0m\u001b[0;34m\u001b[0m\u001b[0;34m\u001b[0m\u001b[0m\n\u001b[0m\u001b[1;32m   2065\u001b[0m \u001b[0;34m\u001b[0m\u001b[0m\n\u001b[1;32m   2066\u001b[0m     def __array_wrap__(\n",
            "\u001b[0;31mValueError\u001b[0m: could not convert string to float: '60k - 75k'"
          ]
        }
      ],
      "source": [
        "#fit the logistic model\n",
        "logistic_model.fit(x_train,y_train)"
      ]
    },
    {
      "cell_type": "markdown",
      "metadata": {
        "id": "eGxwnxR9sa6C"
      },
      "source": [
        "### One Hot Encoding \n",
        "\n",
        "Ok, looks like we made a mistake!\n",
        "\n",
        "The problem is that Logistic Regression, like most machine learning methods, does not know how to deal with string data\n",
        "\n",
        "We can use [pd.get_dummies](https://pandas.pydata.org/pandas-docs/stable/reference/api/pandas.get_dummies.html) to one hot encode our categorical variables \n",
        "\n",
        "- Remember in lesson 1 we converted our categorical variables to the 'category' data type \n",
        "- If we didn't do this, variables like STATE_ID which contained integer representations of categories would be missed by [pd.get_dummies](https://pandas.pydata.org/pandas-docs/stable/reference/api/pandas.get_dummies.html)\n",
        "- Then they would be incorrectly treated as continuous variables\n",
        "\n",
        "Lets one hot encode our small dataframe and assign it to a new variable 'loan_data_dumm'\n"
      ]
    },
    {
      "cell_type": "code",
      "execution_count": 31,
      "metadata": {
        "id": "ssBBKUUcsa6G"
      },
      "outputs": [],
      "source": [
        "#one hot encode\n",
        "loan_data_dumm = pd.get_dummies(loan_df_sml, prefix_sep='_', drop_first=True)"
      ]
    },
    {
      "cell_type": "markdown",
      "metadata": {
        "id": "nfcQoMITsa67"
      },
      "source": [
        "We are passing three parameters to [pd.get_dummies](https://pandas.pydata.org/pandas-docs/stable/reference/api/pandas.get_dummies.html)\n",
        "\n",
        "- loan_df_sml: our small dataframe which we want to encode \n",
        "- prefix_sep: prefix separator for the dummy variables, new columns will be created like 'CNS_SCORE_CAT_Low'\n",
        "- drop_first: drop the first dummy variable for each category \n",
        "\n",
        "HOLD ON! Why are we dropping the first dummy variable for each category?\n",
        "- Think about it\n",
        "- If we have 10 boolean variables indicating the presence of some category and there are no missing values \n",
        "- Then if the variable doesn't belong to one of 9 of the categories \n",
        "- It must belong to the 10th \n",
        "- So we can drop one of the dummy columns without losing any information\n",
        "- This helps to simplify the model and reduce the impact of correlated variables \n",
        "\n",
        "Let's look at the results of [pd.get_dummies](https://pandas.pydata.org/pandas-docs/stable/reference/api/pandas.get_dummies.html)"
      ]
    },
    {
      "cell_type": "code",
      "execution_count": 32,
      "metadata": {
        "colab": {
          "base_uri": "https://localhost:8080/"
        },
        "id": "mp2gkVGRsa6-",
        "outputId": "eecbf908-aeb5-4c2c-dd9f-10819abf9e3e"
      },
      "outputs": [
        {
          "output_type": "stream",
          "name": "stdout",
          "text": [
            "<class 'pandas.core.frame.DataFrame'>\n",
            "Int64Index: 233154 entries, 420825 to 630213\n",
            "Data columns (total 40 columns):\n",
            " #   Column                    Non-Null Count   Dtype  \n",
            "---  ------                    --------------   -----  \n",
            " 0   LTV                       233154 non-null  float64\n",
            " 1   PERFORM_CNS_SCORE         233154 non-null  float64\n",
            " 2   LOAN_DEFAULT              233154 non-null  int64  \n",
            " 3   STATE_ID_2                233154 non-null  uint8  \n",
            " 4   STATE_ID_3                233154 non-null  uint8  \n",
            " 5   STATE_ID_4                233154 non-null  uint8  \n",
            " 6   STATE_ID_5                233154 non-null  uint8  \n",
            " 7   STATE_ID_6                233154 non-null  uint8  \n",
            " 8   STATE_ID_7                233154 non-null  uint8  \n",
            " 9   STATE_ID_8                233154 non-null  uint8  \n",
            " 10  STATE_ID_9                233154 non-null  uint8  \n",
            " 11  STATE_ID_10               233154 non-null  uint8  \n",
            " 12  STATE_ID_11               233154 non-null  uint8  \n",
            " 13  STATE_ID_12               233154 non-null  uint8  \n",
            " 14  STATE_ID_13               233154 non-null  uint8  \n",
            " 15  STATE_ID_14               233154 non-null  uint8  \n",
            " 16  STATE_ID_15               233154 non-null  uint8  \n",
            " 17  STATE_ID_16               233154 non-null  uint8  \n",
            " 18  STATE_ID_17               233154 non-null  uint8  \n",
            " 19  STATE_ID_18               233154 non-null  uint8  \n",
            " 20  STATE_ID_19               233154 non-null  uint8  \n",
            " 21  STATE_ID_20               233154 non-null  uint8  \n",
            " 22  STATE_ID_21               233154 non-null  uint8  \n",
            " 23  STATE_ID_22               233154 non-null  uint8  \n",
            " 24  DISBURSED_CAT_150k - 1m   233154 non-null  uint8  \n",
            " 25  DISBURSED_CAT_30k - 45k   233154 non-null  uint8  \n",
            " 26  DISBURSED_CAT_45k - 60k   233154 non-null  uint8  \n",
            " 27  DISBURSED_CAT_60k - 75k   233154 non-null  uint8  \n",
            " 28  DISBURSED_CAT_75k - 150k  233154 non-null  uint8  \n",
            " 29  DISBURSAL_MONTH_2         233154 non-null  uint8  \n",
            " 30  DISBURSAL_MONTH_3         233154 non-null  uint8  \n",
            " 31  DISBURSAL_MONTH_4         233154 non-null  uint8  \n",
            " 32  DISBURSAL_MONTH_5         233154 non-null  uint8  \n",
            " 33  DISBURSAL_MONTH_6         233154 non-null  uint8  \n",
            " 34  DISBURSAL_MONTH_7         233154 non-null  uint8  \n",
            " 35  DISBURSAL_MONTH_8         233154 non-null  uint8  \n",
            " 36  DISBURSAL_MONTH_9         233154 non-null  uint8  \n",
            " 37  DISBURSAL_MONTH_10        233154 non-null  uint8  \n",
            " 38  DISBURSAL_MONTH_11        233154 non-null  uint8  \n",
            " 39  DISBURSAL_MONTH_12        233154 non-null  uint8  \n",
            "dtypes: float64(2), int64(1), uint8(37)\n",
            "memory usage: 15.3 MB\n"
          ]
        }
      ],
      "source": [
        "#check the columns\n",
        "loan_data_dumm.info()"
      ]
    },
    {
      "cell_type": "markdown",
      "metadata": {
        "id": "JulE5H8Xsa7R"
      },
      "source": [
        "Great! Looks like we have dummy columns for our categoricals\n",
        "\n",
        "### EXERCISE \n",
        "\n",
        "- Take time to investigate the contents these new columns \n",
        "- Make sure you understand how [pd.get_dummies](https://pandas.pydata.org/pandas-docs/stable/reference/api/pandas.get_dummies.html) is transforming our dataset"
      ]
    },
    {
      "cell_type": "markdown",
      "metadata": {
        "id": "jI-8j8xasa7T"
      },
      "source": [
        "### SOLUTION"
      ]
    },
    {
      "cell_type": "code",
      "execution_count": 34,
      "metadata": {
        "colab": {
          "base_uri": "https://localhost:8080/"
        },
        "id": "gMKrGZCisa7W",
        "outputId": "80e53c0b-7cb7-43ed-d48e-44bcf16caf57"
      },
      "outputs": [
        {
          "output_type": "stream",
          "name": "stdout",
          "text": [
            "0    233090\n",
            "1        64\n",
            "Name: DISBURSED_CAT_150k - 1m, dtype: int64\n",
            "0    0.999726\n",
            "1    0.000274\n",
            "Name: DISBURSED_CAT_150k - 1m, dtype: float64\n",
            "0    148279\n",
            "1     84875\n",
            "Name: DISBURSAL_MONTH_10, dtype: int64\n",
            "0    0.63597\n",
            "1    0.36403\n",
            "Name: DISBURSAL_MONTH_10, dtype: float64\n"
          ]
        }
      ],
      "source": [
        "#Extra space for exploration\n",
        "print(loan_data_dumm['DISBURSED_CAT_150k - 1m'].value_counts())\n",
        "print(loan_data_dumm['DISBURSED_CAT_150k - 1m'].value_counts(normalize=True))\n",
        "\n",
        "print(loan_data_dumm['DISBURSAL_MONTH_10'].value_counts())\n",
        "print(loan_data_dumm['DISBURSAL_MONTH_10'].value_counts(normalize=True))"
      ]
    },
    {
      "cell_type": "markdown",
      "metadata": {
        "id": "Zd2yDWSwsa7a"
      },
      "source": [
        "## Lesson 3 - Train and Validate"
      ]
    },
    {
      "cell_type": "markdown",
      "metadata": {
        "id": "GfLfmGj3sa7e"
      },
      "source": [
        "### EXERCISE \n",
        "\n",
        "- Recreate our training and test set using loan_data_dumm\n",
        "- Make sure the class distributions are correct"
      ]
    },
    {
      "cell_type": "markdown",
      "metadata": {
        "id": "eghxdIlHsa7g"
      },
      "source": [
        "### SOLUTION "
      ]
    },
    {
      "cell_type": "code",
      "execution_count": 35,
      "metadata": {
        "colab": {
          "base_uri": "https://localhost:8080/"
        },
        "id": "ATkWVx0rsa7j",
        "outputId": "cc91730e-1429-4631-9fed-53c736a7ab3b"
      },
      "outputs": [
        {
          "output_type": "stream",
          "name": "stdout",
          "text": [
            "0    0.782975\n",
            "1    0.217025\n",
            "Name: LOAN_DEFAULT, dtype: float64\n",
            "0    0.782821\n",
            "1    0.217179\n",
            "Name: LOAN_DEFAULT, dtype: float64\n"
          ]
        }
      ],
      "source": [
        "#type solution here\n",
        "x = loan_data_dumm.drop(['LOAN_DEFAULT'], axis=1)\n",
        "y = loan_data_dumm['LOAN_DEFAULT']\n",
        "\n",
        "x_train, x_test, y_train, y_test = train_test_split(x, y, test_size=0.3, random_state=42)\n",
        "\n",
        "print(y_train.value_counts(normalize=True))\n",
        "print(y_test.value_counts(normalize=True))"
      ]
    },
    {
      "cell_type": "markdown",
      "metadata": {
        "id": "yHLdvam3sa7m"
      },
      "source": [
        "Now let's try to [fit](https://scikit-learn.org/stable/modules/generated/sklearn.linear_model.LogisticRegression.html#sklearn.linear_model.LogisticRegression.fit) our model again"
      ]
    },
    {
      "cell_type": "code",
      "execution_count": 36,
      "metadata": {
        "colab": {
          "base_uri": "https://localhost:8080/",
          "height": 234
        },
        "id": "yKhlOxcLsa7p",
        "outputId": "bfb1d897-d66c-4fda-bfbf-eeb064779359"
      },
      "outputs": [
        {
          "output_type": "stream",
          "name": "stderr",
          "text": [
            "/usr/local/lib/python3.9/dist-packages/sklearn/linear_model/_logistic.py:458: ConvergenceWarning: lbfgs failed to converge (status=1):\n",
            "STOP: TOTAL NO. of ITERATIONS REACHED LIMIT.\n",
            "\n",
            "Increase the number of iterations (max_iter) or scale the data as shown in:\n",
            "    https://scikit-learn.org/stable/modules/preprocessing.html\n",
            "Please also refer to the documentation for alternative solver options:\n",
            "    https://scikit-learn.org/stable/modules/linear_model.html#logistic-regression\n",
            "  n_iter_i = _check_optimize_result(\n"
          ]
        },
        {
          "output_type": "execute_result",
          "data": {
            "text/plain": [
              "LogisticRegression()"
            ],
            "text/html": [
              "<style>#sk-container-id-1 {color: black;background-color: white;}#sk-container-id-1 pre{padding: 0;}#sk-container-id-1 div.sk-toggleable {background-color: white;}#sk-container-id-1 label.sk-toggleable__label {cursor: pointer;display: block;width: 100%;margin-bottom: 0;padding: 0.3em;box-sizing: border-box;text-align: center;}#sk-container-id-1 label.sk-toggleable__label-arrow:before {content: \"▸\";float: left;margin-right: 0.25em;color: #696969;}#sk-container-id-1 label.sk-toggleable__label-arrow:hover:before {color: black;}#sk-container-id-1 div.sk-estimator:hover label.sk-toggleable__label-arrow:before {color: black;}#sk-container-id-1 div.sk-toggleable__content {max-height: 0;max-width: 0;overflow: hidden;text-align: left;background-color: #f0f8ff;}#sk-container-id-1 div.sk-toggleable__content pre {margin: 0.2em;color: black;border-radius: 0.25em;background-color: #f0f8ff;}#sk-container-id-1 input.sk-toggleable__control:checked~div.sk-toggleable__content {max-height: 200px;max-width: 100%;overflow: auto;}#sk-container-id-1 input.sk-toggleable__control:checked~label.sk-toggleable__label-arrow:before {content: \"▾\";}#sk-container-id-1 div.sk-estimator input.sk-toggleable__control:checked~label.sk-toggleable__label {background-color: #d4ebff;}#sk-container-id-1 div.sk-label input.sk-toggleable__control:checked~label.sk-toggleable__label {background-color: #d4ebff;}#sk-container-id-1 input.sk-hidden--visually {border: 0;clip: rect(1px 1px 1px 1px);clip: rect(1px, 1px, 1px, 1px);height: 1px;margin: -1px;overflow: hidden;padding: 0;position: absolute;width: 1px;}#sk-container-id-1 div.sk-estimator {font-family: monospace;background-color: #f0f8ff;border: 1px dotted black;border-radius: 0.25em;box-sizing: border-box;margin-bottom: 0.5em;}#sk-container-id-1 div.sk-estimator:hover {background-color: #d4ebff;}#sk-container-id-1 div.sk-parallel-item::after {content: \"\";width: 100%;border-bottom: 1px solid gray;flex-grow: 1;}#sk-container-id-1 div.sk-label:hover label.sk-toggleable__label {background-color: #d4ebff;}#sk-container-id-1 div.sk-serial::before {content: \"\";position: absolute;border-left: 1px solid gray;box-sizing: border-box;top: 0;bottom: 0;left: 50%;z-index: 0;}#sk-container-id-1 div.sk-serial {display: flex;flex-direction: column;align-items: center;background-color: white;padding-right: 0.2em;padding-left: 0.2em;position: relative;}#sk-container-id-1 div.sk-item {position: relative;z-index: 1;}#sk-container-id-1 div.sk-parallel {display: flex;align-items: stretch;justify-content: center;background-color: white;position: relative;}#sk-container-id-1 div.sk-item::before, #sk-container-id-1 div.sk-parallel-item::before {content: \"\";position: absolute;border-left: 1px solid gray;box-sizing: border-box;top: 0;bottom: 0;left: 50%;z-index: -1;}#sk-container-id-1 div.sk-parallel-item {display: flex;flex-direction: column;z-index: 1;position: relative;background-color: white;}#sk-container-id-1 div.sk-parallel-item:first-child::after {align-self: flex-end;width: 50%;}#sk-container-id-1 div.sk-parallel-item:last-child::after {align-self: flex-start;width: 50%;}#sk-container-id-1 div.sk-parallel-item:only-child::after {width: 0;}#sk-container-id-1 div.sk-dashed-wrapped {border: 1px dashed gray;margin: 0 0.4em 0.5em 0.4em;box-sizing: border-box;padding-bottom: 0.4em;background-color: white;}#sk-container-id-1 div.sk-label label {font-family: monospace;font-weight: bold;display: inline-block;line-height: 1.2em;}#sk-container-id-1 div.sk-label-container {text-align: center;}#sk-container-id-1 div.sk-container {/* jupyter's `normalize.less` sets `[hidden] { display: none; }` but bootstrap.min.css set `[hidden] { display: none !important; }` so we also need the `!important` here to be able to override the default hidden behavior on the sphinx rendered scikit-learn.org. See: https://github.com/scikit-learn/scikit-learn/issues/21755 */display: inline-block !important;position: relative;}#sk-container-id-1 div.sk-text-repr-fallback {display: none;}</style><div id=\"sk-container-id-1\" class=\"sk-top-container\"><div class=\"sk-text-repr-fallback\"><pre>LogisticRegression()</pre><b>In a Jupyter environment, please rerun this cell to show the HTML representation or trust the notebook. <br />On GitHub, the HTML representation is unable to render, please try loading this page with nbviewer.org.</b></div><div class=\"sk-container\" hidden><div class=\"sk-item\"><div class=\"sk-estimator sk-toggleable\"><input class=\"sk-toggleable__control sk-hidden--visually\" id=\"sk-estimator-id-1\" type=\"checkbox\" checked><label for=\"sk-estimator-id-1\" class=\"sk-toggleable__label sk-toggleable__label-arrow\">LogisticRegression</label><div class=\"sk-toggleable__content\"><pre>LogisticRegression()</pre></div></div></div></div></div>"
            ]
          },
          "metadata": {},
          "execution_count": 36
        }
      ],
      "source": [
        "#intialize and train logistic regression\n",
        "logistic_model = LogisticRegression()\n",
        "logistic_model.fit(x_train,y_train)"
      ]
    },
    {
      "cell_type": "markdown",
      "metadata": {
        "id": "oqBZfmWisa7r"
      },
      "source": [
        "Ok! We are nearly there. We have successfully trained our model. But there is a warning we should take care of.\n",
        "\n",
        "The above warning is telling us that the LogisticRegression did not find a solution to fit our data within the maximum number of iterations. \n",
        "\n",
        "The specifics of this error are out of the scope of this course but the likely explanations are that our data is not actually linearly separable or that our selected columns and pre-processing do not provide enough information to make distinct separations on the data. \n",
        "\n",
        "Something to keep in mind, but for now, we can try to resolve the warning by increasing the maximum allowed iterations.\n",
        "\n",
        "The default value is 100, so let's try 200!\n",
        "\n",
        "*The waring may or may not appear depending on your system, if you don't see any problems you can skip this step*"
      ]
    },
    {
      "cell_type": "code",
      "execution_count": 37,
      "metadata": {
        "colab": {
          "base_uri": "https://localhost:8080/",
          "height": 75
        },
        "id": "VnsbaSNQsa8T",
        "outputId": "9cbb3ed1-bba2-447f-f84e-473f5ca2932d"
      },
      "outputs": [
        {
          "output_type": "execute_result",
          "data": {
            "text/plain": [
              "LogisticRegression(max_iter=200)"
            ],
            "text/html": [
              "<style>#sk-container-id-2 {color: black;background-color: white;}#sk-container-id-2 pre{padding: 0;}#sk-container-id-2 div.sk-toggleable {background-color: white;}#sk-container-id-2 label.sk-toggleable__label {cursor: pointer;display: block;width: 100%;margin-bottom: 0;padding: 0.3em;box-sizing: border-box;text-align: center;}#sk-container-id-2 label.sk-toggleable__label-arrow:before {content: \"▸\";float: left;margin-right: 0.25em;color: #696969;}#sk-container-id-2 label.sk-toggleable__label-arrow:hover:before {color: black;}#sk-container-id-2 div.sk-estimator:hover label.sk-toggleable__label-arrow:before {color: black;}#sk-container-id-2 div.sk-toggleable__content {max-height: 0;max-width: 0;overflow: hidden;text-align: left;background-color: #f0f8ff;}#sk-container-id-2 div.sk-toggleable__content pre {margin: 0.2em;color: black;border-radius: 0.25em;background-color: #f0f8ff;}#sk-container-id-2 input.sk-toggleable__control:checked~div.sk-toggleable__content {max-height: 200px;max-width: 100%;overflow: auto;}#sk-container-id-2 input.sk-toggleable__control:checked~label.sk-toggleable__label-arrow:before {content: \"▾\";}#sk-container-id-2 div.sk-estimator input.sk-toggleable__control:checked~label.sk-toggleable__label {background-color: #d4ebff;}#sk-container-id-2 div.sk-label input.sk-toggleable__control:checked~label.sk-toggleable__label {background-color: #d4ebff;}#sk-container-id-2 input.sk-hidden--visually {border: 0;clip: rect(1px 1px 1px 1px);clip: rect(1px, 1px, 1px, 1px);height: 1px;margin: -1px;overflow: hidden;padding: 0;position: absolute;width: 1px;}#sk-container-id-2 div.sk-estimator {font-family: monospace;background-color: #f0f8ff;border: 1px dotted black;border-radius: 0.25em;box-sizing: border-box;margin-bottom: 0.5em;}#sk-container-id-2 div.sk-estimator:hover {background-color: #d4ebff;}#sk-container-id-2 div.sk-parallel-item::after {content: \"\";width: 100%;border-bottom: 1px solid gray;flex-grow: 1;}#sk-container-id-2 div.sk-label:hover label.sk-toggleable__label {background-color: #d4ebff;}#sk-container-id-2 div.sk-serial::before {content: \"\";position: absolute;border-left: 1px solid gray;box-sizing: border-box;top: 0;bottom: 0;left: 50%;z-index: 0;}#sk-container-id-2 div.sk-serial {display: flex;flex-direction: column;align-items: center;background-color: white;padding-right: 0.2em;padding-left: 0.2em;position: relative;}#sk-container-id-2 div.sk-item {position: relative;z-index: 1;}#sk-container-id-2 div.sk-parallel {display: flex;align-items: stretch;justify-content: center;background-color: white;position: relative;}#sk-container-id-2 div.sk-item::before, #sk-container-id-2 div.sk-parallel-item::before {content: \"\";position: absolute;border-left: 1px solid gray;box-sizing: border-box;top: 0;bottom: 0;left: 50%;z-index: -1;}#sk-container-id-2 div.sk-parallel-item {display: flex;flex-direction: column;z-index: 1;position: relative;background-color: white;}#sk-container-id-2 div.sk-parallel-item:first-child::after {align-self: flex-end;width: 50%;}#sk-container-id-2 div.sk-parallel-item:last-child::after {align-self: flex-start;width: 50%;}#sk-container-id-2 div.sk-parallel-item:only-child::after {width: 0;}#sk-container-id-2 div.sk-dashed-wrapped {border: 1px dashed gray;margin: 0 0.4em 0.5em 0.4em;box-sizing: border-box;padding-bottom: 0.4em;background-color: white;}#sk-container-id-2 div.sk-label label {font-family: monospace;font-weight: bold;display: inline-block;line-height: 1.2em;}#sk-container-id-2 div.sk-label-container {text-align: center;}#sk-container-id-2 div.sk-container {/* jupyter's `normalize.less` sets `[hidden] { display: none; }` but bootstrap.min.css set `[hidden] { display: none !important; }` so we also need the `!important` here to be able to override the default hidden behavior on the sphinx rendered scikit-learn.org. See: https://github.com/scikit-learn/scikit-learn/issues/21755 */display: inline-block !important;position: relative;}#sk-container-id-2 div.sk-text-repr-fallback {display: none;}</style><div id=\"sk-container-id-2\" class=\"sk-top-container\"><div class=\"sk-text-repr-fallback\"><pre>LogisticRegression(max_iter=200)</pre><b>In a Jupyter environment, please rerun this cell to show the HTML representation or trust the notebook. <br />On GitHub, the HTML representation is unable to render, please try loading this page with nbviewer.org.</b></div><div class=\"sk-container\" hidden><div class=\"sk-item\"><div class=\"sk-estimator sk-toggleable\"><input class=\"sk-toggleable__control sk-hidden--visually\" id=\"sk-estimator-id-2\" type=\"checkbox\" checked><label for=\"sk-estimator-id-2\" class=\"sk-toggleable__label sk-toggleable__label-arrow\">LogisticRegression</label><div class=\"sk-toggleable__content\"><pre>LogisticRegression(max_iter=200)</pre></div></div></div></div></div>"
            ]
          },
          "metadata": {},
          "execution_count": 37
        }
      ],
      "source": [
        "#fit model\n",
        "logistic_model = LogisticRegression(max_iter=200)\n",
        "logistic_model.fit(x_train, y_train)"
      ]
    },
    {
      "cell_type": "markdown",
      "metadata": {
        "id": "6TMe5DANsa8b"
      },
      "source": [
        "Great! We have successfully trained our model\n",
        "\n",
        "Now we need to generate some predictions for our test set\n",
        "\n",
        "We pass our test features to the model to generate predictions, using [predict](https://scikit-learn.org/stable/modules/generated/sklearn.linear_model.LogisticRegression.html#sklearn.linear_model.LogisticRegression.predict)\n",
        "\n"
      ]
    },
    {
      "cell_type": "code",
      "execution_count": 38,
      "metadata": {
        "colab": {
          "base_uri": "https://localhost:8080/"
        },
        "id": "-_Webm-nsa8f",
        "outputId": "111c88d0-75ef-4fea-d548-4c4ff642ad1a"
      },
      "outputs": [
        {
          "output_type": "execute_result",
          "data": {
            "text/plain": [
              "array([0, 0, 0, ..., 0, 0, 0])"
            ]
          },
          "metadata": {},
          "execution_count": 38
        }
      ],
      "source": [
        "#generate predictions\n",
        "preds = logistic_model.predict(x_test)\n",
        "preds"
      ]
    },
    {
      "cell_type": "markdown",
      "metadata": {
        "id": "nFOMgigssa8h"
      },
      "source": [
        "The output of predict is an array of 0s and 1s representing the loan default prediction\n",
        "\n",
        "This is great but we need some measure of model performance\n",
        "\n",
        "The [score](https://scikit-learn.org/stable/modules/generated/sklearn.linear_model.LogisticRegression.html#sklearn.linear_model.LogisticRegression.score) function generates predictions and compares the predicted class with the actual class. The output is a floating-point number between 0 and 1 telling us the percentage of loans we correctly classified!"
      ]
    },
    {
      "cell_type": "code",
      "execution_count": 39,
      "metadata": {
        "colab": {
          "base_uri": "https://localhost:8080/"
        },
        "id": "b1XlIQtysa8k",
        "outputId": "fc8915ec-2318-4d0b-b1d1-cdf4718e68eb"
      },
      "outputs": [
        {
          "output_type": "execute_result",
          "data": {
            "text/plain": [
              "0.7828212789683617"
            ]
          },
          "metadata": {},
          "execution_count": 39
        }
      ],
      "source": [
        "#get accuracy\n",
        "logistic_model.score(x_test, y_test)"
      ]
    },
    {
      "cell_type": "markdown",
      "metadata": {
        "id": "f1AFpM2Lsa8m"
      },
      "source": [
        "Wow! Looks like our model performed quite well, it predicted 78% of our test cases correctly.\n",
        "\n",
        "Don't get too excited, accuracy can be a misleading measure of model performance! The next chapter will look at other measures of model performance"
      ]
    }
  ],
  "metadata": {
    "kernelspec": {
      "display_name": "Python 3",
      "language": "python",
      "name": "python3"
    },
    "language_info": {
      "codemirror_mode": {
        "name": "ipython",
        "version": 3
      },
      "file_extension": ".py",
      "mimetype": "text/x-python",
      "name": "python",
      "nbconvert_exporter": "python",
      "pygments_lexer": "ipython3",
      "version": "3.8.3"
    },
    "colab": {
      "provenance": []
    }
  },
  "nbformat": 4,
  "nbformat_minor": 0
}