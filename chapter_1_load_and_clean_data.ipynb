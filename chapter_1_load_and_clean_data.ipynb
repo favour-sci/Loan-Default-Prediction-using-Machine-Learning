{
  "cells": [
    {
      "cell_type": "markdown",
      "metadata": {
        "id": "7fxTrssDiduU"
      },
      "source": [
        "# Vehicle Loan Prediction Machine Learning Model\n",
        "\n",
        "# Chapter 2 - Load and Clean the Data\n",
        "\n",
        "## Lesson 1 - Getting Started\n",
        "\n",
        "In this lesson, we will import the required libraries and load the data!\n",
        "\n",
        "### Import Libraries"
      ]
    },
    {
      "cell_type": "code",
      "execution_count": 20,
      "metadata": {
        "id": "3SDH3wMZidvT"
      },
      "outputs": [],
      "source": [
        "import pandas as pd\n",
        "import matplotlib.pyplot as plt\n",
        "import numpy as np\n",
        "import seaborn as sns"
      ]
    },
    {
      "cell_type": "markdown",
      "metadata": {
        "id": "MohsdBPridvi"
      },
      "source": [
        "### Loading the Data\n",
        "\n",
        "- Our vehicle loan data is provided in csv format \n",
        "- We can load it into python as a [DataFrame](https://pandas.pydata.org/pandas-docs/stable/reference/api/pandas.DataFrame.html) with [pd.read_csv](https://pandas.pydata.org/pandas-docs/stable/reference/api/pandas.read_csv.html)\n",
        "- Each loan in our dataset has a UNIQUEID which we will use as the row index\n",
        "\n",
        "First, let's use pandas to load our loan data and store it in a variable called loan_df\n",
        "\n",
        "- Replace ‘../data/vehicle_loans.csv’ with your local file path and name"
      ]
    },
    {
      "cell_type": "code",
      "execution_count": 21,
      "metadata": {
        "id": "2AIRaGEfidvy"
      },
      "outputs": [],
      "source": [
        "#Load data\n",
        "loan_df = pd.read_csv(\"/content/vehicle_loans.csv\", index_col = \"UNIQUEID\")"
      ]
    },
    {
      "cell_type": "markdown",
      "metadata": {
        "id": "X5L-9NSlidvy"
      },
      "source": [
        "We can use [df.head](https://pandas.pydata.org/pandas-docs/stable/reference/api/pandas.DataFrame.head.html) to get the first n rows from a DataFrame\n",
        "\n",
        "- defaults to bring out the first 5 rows"
      ]
    },
    {
      "cell_type": "code",
      "execution_count": 22,
      "metadata": {
        "colab": {
          "base_uri": "https://localhost:8080/",
          "height": 331
        },
        "id": "TQMsFFG8idwC",
        "outputId": "bba8daab-b8b5-4483-a99c-3e3599b1b1db"
      },
      "outputs": [
        {
          "output_type": "execute_result",
          "data": {
            "text/plain": [
              "          DISBURSED_AMOUNT  ASSET_COST    LTV  BRANCH_ID  SUPPLIER_ID  \\\n",
              "UNIQUEID                                                                \n",
              "420825               50578       58400  89.55         67        22807   \n",
              "537409               47145       65550  73.23         67        22807   \n",
              "417566               53278       61360  89.63         67        22807   \n",
              "624493               57513       66113  88.48         67        22807   \n",
              "539055               52378       60300  88.39         67        22807   \n",
              "\n",
              "          MANUFACTURER_ID  CURRENT_PINCODE_ID DATE_OF_BIRTH EMPLOYMENT_TYPE  \\\n",
              "UNIQUEID                                                                      \n",
              "420825                 45                1441    01-01-1984        Salaried   \n",
              "537409                 45                1502    31-07-1985   Self employed   \n",
              "417566                 45                1497    24-08-1985   Self employed   \n",
              "624493                 45                1501    30-12-1993   Self employed   \n",
              "539055                 45                1495    09-12-1977   Self employed   \n",
              "\n",
              "         DISBURSAL_DATE  ...  SEC_SANCTIONED_AMOUNT  SEC_DISBURSED_AMOUNT  \\\n",
              "UNIQUEID                 ...                                                \n",
              "420825       03-08-2018  ...                      0                     0   \n",
              "537409       26-09-2018  ...                      0                     0   \n",
              "417566       01-08-2018  ...                      0                     0   \n",
              "624493       26-10-2018  ...                      0                     0   \n",
              "539055       26-09-2018  ...                      0                     0   \n",
              "\n",
              "          PRIMARY_INSTAL_AMT  SEC_INSTAL_AMT  NEW_ACCTS_IN_LAST_SIX_MONTHS  \\\n",
              "UNIQUEID                                                                     \n",
              "420825                     0               0                             0   \n",
              "537409                  1991               0                             0   \n",
              "417566                     0               0                             0   \n",
              "624493                    31               0                             0   \n",
              "539055                     0               0                             0   \n",
              "\n",
              "          DELINQUENT_ACCTS_IN_LAST_SIX_MONTHS  AVERAGE_ACCT_AGE  \\\n",
              "UNIQUEID                                                          \n",
              "420825                                      0         0yrs 0mon   \n",
              "537409                                      1        1yrs 11mon   \n",
              "417566                                      0         0yrs 0mon   \n",
              "624493                                      0         0yrs 8mon   \n",
              "539055                                      0         0yrs 0mon   \n",
              "\n",
              "          CREDIT_HISTORY_LENGTH  NO_OF_INQUIRIES LOAN_DEFAULT  \n",
              "UNIQUEID                                                       \n",
              "420825                0yrs 0mon                0            0  \n",
              "537409               1yrs 11mon                0            1  \n",
              "417566                0yrs 0mon                0            0  \n",
              "624493                1yrs 3mon                1            1  \n",
              "539055                0yrs 0mon                1            1  \n",
              "\n",
              "[5 rows x 40 columns]"
            ],
            "text/html": [
              "\n",
              "  <div id=\"df-20f26be1-d9a5-43ea-b922-b245f2448f02\">\n",
              "    <div class=\"colab-df-container\">\n",
              "      <div>\n",
              "<style scoped>\n",
              "    .dataframe tbody tr th:only-of-type {\n",
              "        vertical-align: middle;\n",
              "    }\n",
              "\n",
              "    .dataframe tbody tr th {\n",
              "        vertical-align: top;\n",
              "    }\n",
              "\n",
              "    .dataframe thead th {\n",
              "        text-align: right;\n",
              "    }\n",
              "</style>\n",
              "<table border=\"1\" class=\"dataframe\">\n",
              "  <thead>\n",
              "    <tr style=\"text-align: right;\">\n",
              "      <th></th>\n",
              "      <th>DISBURSED_AMOUNT</th>\n",
              "      <th>ASSET_COST</th>\n",
              "      <th>LTV</th>\n",
              "      <th>BRANCH_ID</th>\n",
              "      <th>SUPPLIER_ID</th>\n",
              "      <th>MANUFACTURER_ID</th>\n",
              "      <th>CURRENT_PINCODE_ID</th>\n",
              "      <th>DATE_OF_BIRTH</th>\n",
              "      <th>EMPLOYMENT_TYPE</th>\n",
              "      <th>DISBURSAL_DATE</th>\n",
              "      <th>...</th>\n",
              "      <th>SEC_SANCTIONED_AMOUNT</th>\n",
              "      <th>SEC_DISBURSED_AMOUNT</th>\n",
              "      <th>PRIMARY_INSTAL_AMT</th>\n",
              "      <th>SEC_INSTAL_AMT</th>\n",
              "      <th>NEW_ACCTS_IN_LAST_SIX_MONTHS</th>\n",
              "      <th>DELINQUENT_ACCTS_IN_LAST_SIX_MONTHS</th>\n",
              "      <th>AVERAGE_ACCT_AGE</th>\n",
              "      <th>CREDIT_HISTORY_LENGTH</th>\n",
              "      <th>NO_OF_INQUIRIES</th>\n",
              "      <th>LOAN_DEFAULT</th>\n",
              "    </tr>\n",
              "    <tr>\n",
              "      <th>UNIQUEID</th>\n",
              "      <th></th>\n",
              "      <th></th>\n",
              "      <th></th>\n",
              "      <th></th>\n",
              "      <th></th>\n",
              "      <th></th>\n",
              "      <th></th>\n",
              "      <th></th>\n",
              "      <th></th>\n",
              "      <th></th>\n",
              "      <th></th>\n",
              "      <th></th>\n",
              "      <th></th>\n",
              "      <th></th>\n",
              "      <th></th>\n",
              "      <th></th>\n",
              "      <th></th>\n",
              "      <th></th>\n",
              "      <th></th>\n",
              "      <th></th>\n",
              "      <th></th>\n",
              "    </tr>\n",
              "  </thead>\n",
              "  <tbody>\n",
              "    <tr>\n",
              "      <th>420825</th>\n",
              "      <td>50578</td>\n",
              "      <td>58400</td>\n",
              "      <td>89.55</td>\n",
              "      <td>67</td>\n",
              "      <td>22807</td>\n",
              "      <td>45</td>\n",
              "      <td>1441</td>\n",
              "      <td>01-01-1984</td>\n",
              "      <td>Salaried</td>\n",
              "      <td>03-08-2018</td>\n",
              "      <td>...</td>\n",
              "      <td>0</td>\n",
              "      <td>0</td>\n",
              "      <td>0</td>\n",
              "      <td>0</td>\n",
              "      <td>0</td>\n",
              "      <td>0</td>\n",
              "      <td>0yrs 0mon</td>\n",
              "      <td>0yrs 0mon</td>\n",
              "      <td>0</td>\n",
              "      <td>0</td>\n",
              "    </tr>\n",
              "    <tr>\n",
              "      <th>537409</th>\n",
              "      <td>47145</td>\n",
              "      <td>65550</td>\n",
              "      <td>73.23</td>\n",
              "      <td>67</td>\n",
              "      <td>22807</td>\n",
              "      <td>45</td>\n",
              "      <td>1502</td>\n",
              "      <td>31-07-1985</td>\n",
              "      <td>Self employed</td>\n",
              "      <td>26-09-2018</td>\n",
              "      <td>...</td>\n",
              "      <td>0</td>\n",
              "      <td>0</td>\n",
              "      <td>1991</td>\n",
              "      <td>0</td>\n",
              "      <td>0</td>\n",
              "      <td>1</td>\n",
              "      <td>1yrs 11mon</td>\n",
              "      <td>1yrs 11mon</td>\n",
              "      <td>0</td>\n",
              "      <td>1</td>\n",
              "    </tr>\n",
              "    <tr>\n",
              "      <th>417566</th>\n",
              "      <td>53278</td>\n",
              "      <td>61360</td>\n",
              "      <td>89.63</td>\n",
              "      <td>67</td>\n",
              "      <td>22807</td>\n",
              "      <td>45</td>\n",
              "      <td>1497</td>\n",
              "      <td>24-08-1985</td>\n",
              "      <td>Self employed</td>\n",
              "      <td>01-08-2018</td>\n",
              "      <td>...</td>\n",
              "      <td>0</td>\n",
              "      <td>0</td>\n",
              "      <td>0</td>\n",
              "      <td>0</td>\n",
              "      <td>0</td>\n",
              "      <td>0</td>\n",
              "      <td>0yrs 0mon</td>\n",
              "      <td>0yrs 0mon</td>\n",
              "      <td>0</td>\n",
              "      <td>0</td>\n",
              "    </tr>\n",
              "    <tr>\n",
              "      <th>624493</th>\n",
              "      <td>57513</td>\n",
              "      <td>66113</td>\n",
              "      <td>88.48</td>\n",
              "      <td>67</td>\n",
              "      <td>22807</td>\n",
              "      <td>45</td>\n",
              "      <td>1501</td>\n",
              "      <td>30-12-1993</td>\n",
              "      <td>Self employed</td>\n",
              "      <td>26-10-2018</td>\n",
              "      <td>...</td>\n",
              "      <td>0</td>\n",
              "      <td>0</td>\n",
              "      <td>31</td>\n",
              "      <td>0</td>\n",
              "      <td>0</td>\n",
              "      <td>0</td>\n",
              "      <td>0yrs 8mon</td>\n",
              "      <td>1yrs 3mon</td>\n",
              "      <td>1</td>\n",
              "      <td>1</td>\n",
              "    </tr>\n",
              "    <tr>\n",
              "      <th>539055</th>\n",
              "      <td>52378</td>\n",
              "      <td>60300</td>\n",
              "      <td>88.39</td>\n",
              "      <td>67</td>\n",
              "      <td>22807</td>\n",
              "      <td>45</td>\n",
              "      <td>1495</td>\n",
              "      <td>09-12-1977</td>\n",
              "      <td>Self employed</td>\n",
              "      <td>26-09-2018</td>\n",
              "      <td>...</td>\n",
              "      <td>0</td>\n",
              "      <td>0</td>\n",
              "      <td>0</td>\n",
              "      <td>0</td>\n",
              "      <td>0</td>\n",
              "      <td>0</td>\n",
              "      <td>0yrs 0mon</td>\n",
              "      <td>0yrs 0mon</td>\n",
              "      <td>1</td>\n",
              "      <td>1</td>\n",
              "    </tr>\n",
              "  </tbody>\n",
              "</table>\n",
              "<p>5 rows × 40 columns</p>\n",
              "</div>\n",
              "      <button class=\"colab-df-convert\" onclick=\"convertToInteractive('df-20f26be1-d9a5-43ea-b922-b245f2448f02')\"\n",
              "              title=\"Convert this dataframe to an interactive table.\"\n",
              "              style=\"display:none;\">\n",
              "        \n",
              "  <svg xmlns=\"http://www.w3.org/2000/svg\" height=\"24px\"viewBox=\"0 0 24 24\"\n",
              "       width=\"24px\">\n",
              "    <path d=\"M0 0h24v24H0V0z\" fill=\"none\"/>\n",
              "    <path d=\"M18.56 5.44l.94 2.06.94-2.06 2.06-.94-2.06-.94-.94-2.06-.94 2.06-2.06.94zm-11 1L8.5 8.5l.94-2.06 2.06-.94-2.06-.94L8.5 2.5l-.94 2.06-2.06.94zm10 10l.94 2.06.94-2.06 2.06-.94-2.06-.94-.94-2.06-.94 2.06-2.06.94z\"/><path d=\"M17.41 7.96l-1.37-1.37c-.4-.4-.92-.59-1.43-.59-.52 0-1.04.2-1.43.59L10.3 9.45l-7.72 7.72c-.78.78-.78 2.05 0 2.83L4 21.41c.39.39.9.59 1.41.59.51 0 1.02-.2 1.41-.59l7.78-7.78 2.81-2.81c.8-.78.8-2.07 0-2.86zM5.41 20L4 18.59l7.72-7.72 1.47 1.35L5.41 20z\"/>\n",
              "  </svg>\n",
              "      </button>\n",
              "      \n",
              "  <style>\n",
              "    .colab-df-container {\n",
              "      display:flex;\n",
              "      flex-wrap:wrap;\n",
              "      gap: 12px;\n",
              "    }\n",
              "\n",
              "    .colab-df-convert {\n",
              "      background-color: #E8F0FE;\n",
              "      border: none;\n",
              "      border-radius: 50%;\n",
              "      cursor: pointer;\n",
              "      display: none;\n",
              "      fill: #1967D2;\n",
              "      height: 32px;\n",
              "      padding: 0 0 0 0;\n",
              "      width: 32px;\n",
              "    }\n",
              "\n",
              "    .colab-df-convert:hover {\n",
              "      background-color: #E2EBFA;\n",
              "      box-shadow: 0px 1px 2px rgba(60, 64, 67, 0.3), 0px 1px 3px 1px rgba(60, 64, 67, 0.15);\n",
              "      fill: #174EA6;\n",
              "    }\n",
              "\n",
              "    [theme=dark] .colab-df-convert {\n",
              "      background-color: #3B4455;\n",
              "      fill: #D2E3FC;\n",
              "    }\n",
              "\n",
              "    [theme=dark] .colab-df-convert:hover {\n",
              "      background-color: #434B5C;\n",
              "      box-shadow: 0px 1px 3px 1px rgba(0, 0, 0, 0.15);\n",
              "      filter: drop-shadow(0px 1px 2px rgba(0, 0, 0, 0.3));\n",
              "      fill: #FFFFFF;\n",
              "    }\n",
              "  </style>\n",
              "\n",
              "      <script>\n",
              "        const buttonEl =\n",
              "          document.querySelector('#df-20f26be1-d9a5-43ea-b922-b245f2448f02 button.colab-df-convert');\n",
              "        buttonEl.style.display =\n",
              "          google.colab.kernel.accessAllowed ? 'block' : 'none';\n",
              "\n",
              "        async function convertToInteractive(key) {\n",
              "          const element = document.querySelector('#df-20f26be1-d9a5-43ea-b922-b245f2448f02');\n",
              "          const dataTable =\n",
              "            await google.colab.kernel.invokeFunction('convertToInteractive',\n",
              "                                                     [key], {});\n",
              "          if (!dataTable) return;\n",
              "\n",
              "          const docLinkHtml = 'Like what you see? Visit the ' +\n",
              "            '<a target=\"_blank\" href=https://colab.research.google.com/notebooks/data_table.ipynb>data table notebook</a>'\n",
              "            + ' to learn more about interactive tables.';\n",
              "          element.innerHTML = '';\n",
              "          dataTable['output_type'] = 'display_data';\n",
              "          await google.colab.output.renderOutput(dataTable, element);\n",
              "          const docLink = document.createElement('div');\n",
              "          docLink.innerHTML = docLinkHtml;\n",
              "          element.appendChild(docLink);\n",
              "        }\n",
              "      </script>\n",
              "    </div>\n",
              "  </div>\n",
              "  "
            ]
          },
          "metadata": {},
          "execution_count": 22
        }
      ],
      "source": [
        "#get loan_df head\n",
        "loan_df.head()"
      ]
    },
    {
      "cell_type": "markdown",
      "metadata": {
        "id": "YWvLKJv-idwC"
      },
      "source": [
        "## Lesson 2 - First Look\n",
        "\n",
        "Now that we have loaded the data, let's take a closer Look\n",
        "\n",
        "### Rows and Columns\n",
        "\n",
        "- How many data points do we have?\n",
        "- How many attributes are there?\n",
        "- We can get the dimensions of our DataFrame using [df.shape](https://pandas.pydata.org/pandas-docs/stable/reference/api/pandas.DataFrame.shape.html)"
      ]
    },
    {
      "cell_type": "code",
      "execution_count": 23,
      "metadata": {
        "colab": {
          "base_uri": "https://localhost:8080/"
        },
        "id": "9y6XdKqNidwR",
        "outputId": "533cefed-86c0-4374-8738-a109e5f19f73"
      },
      "outputs": [
        {
          "output_type": "execute_result",
          "data": {
            "text/plain": [
              "(233154, 40)"
            ]
          },
          "metadata": {},
          "execution_count": 23
        }
      ],
      "source": [
        "#Investigate shape\n",
        "loan_df.shape"
      ]
    },
    {
      "cell_type": "markdown",
      "metadata": {
        "id": "K1KOO6owidwR"
      },
      "source": [
        "- The shape property of a dataframe contains a tuple with the dimensions of the dataframe\n",
        "- A tuple is an ordered immutable (unchangeable) collection \n",
        "- Tuple elements can be accessed using indexes, like lists"
      ]
    },
    {
      "cell_type": "code",
      "execution_count": 24,
      "metadata": {
        "colab": {
          "base_uri": "https://localhost:8080/"
        },
        "id": "SRyg_B2aidwh",
        "outputId": "bb83778c-c077-493d-d2f7-5adaf1af0e20"
      },
      "outputs": [
        {
          "output_type": "stream",
          "name": "stdout",
          "text": [
            "Number of rows:  233154\n",
            "Number of columns:  40\n"
          ]
        }
      ],
      "source": [
        "#print rows and cols\n",
        "print(\"Number of rows: \", loan_df.shape[0])\n",
        "print(\"Number of columns: \", loan_df.shape[1])"
      ]
    },
    {
      "cell_type": "markdown",
      "metadata": {
        "id": "a14wsAqVidww"
      },
      "source": [
        "Ok, so we have 233154 data points each with 40 variables\n"
      ]
    },
    {
      "cell_type": "markdown",
      "metadata": {
        "id": "Txm1pSKzidww"
      },
      "source": [
        "### Variable Types\n",
        "\n",
        "- Before we go any further it is important to understand the type of data stored in our columns\n",
        "- Pandas [df.info()](https://pandas.pydata.org/pandas-docs/stable/reference/api/pandas.DataFrame.info.html) shows us both the data type and the not null count for each column\n"
      ]
    },
    {
      "cell_type": "code",
      "execution_count": 25,
      "metadata": {
        "colab": {
          "base_uri": "https://localhost:8080/"
        },
        "id": "BziZ3_I3idww",
        "outputId": "8fa47bdf-f2bb-4c1d-94d1-71762224a665"
      },
      "outputs": [
        {
          "output_type": "stream",
          "name": "stdout",
          "text": [
            "<class 'pandas.core.frame.DataFrame'>\n",
            "Int64Index: 233154 entries, 420825 to 630213\n",
            "Data columns (total 40 columns):\n",
            " #   Column                               Non-Null Count   Dtype  \n",
            "---  ------                               --------------   -----  \n",
            " 0   DISBURSED_AMOUNT                     233154 non-null  int64  \n",
            " 1   ASSET_COST                           233154 non-null  int64  \n",
            " 2   LTV                                  233154 non-null  float64\n",
            " 3   BRANCH_ID                            233154 non-null  int64  \n",
            " 4   SUPPLIER_ID                          233154 non-null  int64  \n",
            " 5   MANUFACTURER_ID                      233154 non-null  int64  \n",
            " 6   CURRENT_PINCODE_ID                   233154 non-null  int64  \n",
            " 7   DATE_OF_BIRTH                        233154 non-null  object \n",
            " 8   EMPLOYMENT_TYPE                      225493 non-null  object \n",
            " 9   DISBURSAL_DATE                       233154 non-null  object \n",
            " 10  STATE_ID                             233154 non-null  int64  \n",
            " 11  EMPLOYEE_CODE_ID                     233154 non-null  int64  \n",
            " 12  MOBILENO_AVL_FLAG                    233154 non-null  int64  \n",
            " 13  AADHAR_FLAG                          233154 non-null  int64  \n",
            " 14  PAN_FLAG                             233154 non-null  int64  \n",
            " 15  VOTERID_FLAG                         233154 non-null  int64  \n",
            " 16  DRIVING_FLAG                         233154 non-null  int64  \n",
            " 17  PASSPORT_FLAG                        233154 non-null  int64  \n",
            " 18  PERFORM_CNS_SCORE                    233154 non-null  int64  \n",
            " 19  PERFORM_CNS_SCORE_DESCRIPTION        233154 non-null  object \n",
            " 20  PRI_NO_OF_ACCTS                      233154 non-null  int64  \n",
            " 21  PRI_ACTIVE_ACCTS                     233154 non-null  int64  \n",
            " 22  PRI_OVERDUE_ACCTS                    233154 non-null  int64  \n",
            " 23  PRI_CURRENT_BALANCE                  233154 non-null  int64  \n",
            " 24  PRI_SANCTIONED_AMOUNT                233154 non-null  int64  \n",
            " 25  PRI_DISBURSED_AMOUNT                 233154 non-null  int64  \n",
            " 26  SEC_NO_OF_ACCTS                      233154 non-null  int64  \n",
            " 27  SEC_ACTIVE_ACCTS                     233154 non-null  int64  \n",
            " 28  SEC_OVERDUE_ACCTS                    233154 non-null  int64  \n",
            " 29  SEC_CURRENT_BALANCE                  233154 non-null  int64  \n",
            " 30  SEC_SANCTIONED_AMOUNT                233154 non-null  int64  \n",
            " 31  SEC_DISBURSED_AMOUNT                 233154 non-null  int64  \n",
            " 32  PRIMARY_INSTAL_AMT                   233154 non-null  int64  \n",
            " 33  SEC_INSTAL_AMT                       233154 non-null  int64  \n",
            " 34  NEW_ACCTS_IN_LAST_SIX_MONTHS         233154 non-null  int64  \n",
            " 35  DELINQUENT_ACCTS_IN_LAST_SIX_MONTHS  233154 non-null  int64  \n",
            " 36  AVERAGE_ACCT_AGE                     233154 non-null  object \n",
            " 37  CREDIT_HISTORY_LENGTH                233154 non-null  object \n",
            " 38  NO_OF_INQUIRIES                      233154 non-null  int64  \n",
            " 39  LOAN_DEFAULT                         233154 non-null  int64  \n",
            "dtypes: float64(1), int64(33), object(6)\n",
            "memory usage: 72.9+ MB\n"
          ]
        }
      ],
      "source": [
        "#Look at column types\n",
        "loan_df.info()"
      ]
    },
    {
      "cell_type": "markdown",
      "metadata": {
        "id": "MytIhPxVidxA"
      },
      "source": [
        "Now we know we have 3 data types:\n",
        "- int64 (whole number)\n",
        "- float64 (floating point number)\n",
        "- object (string or non-numeric)\n",
        "\n",
        "Straight away there are some interesting things,\n",
        "\n",
        "DATE_OF_BIRTH, EMPLOYMENT_TYPE, DISBURSAL_DATE, PERFORM_CNS_SCORE_DESCRIPTION, AVERAGE_ACCT_AGE and CREDIT_HISTORY_LENGTH are all object data types, meaning they contain non-numeric values such as strings or dates. \n",
        "\n",
        "EMPLOYMENT_TYPE has some missing values\n"
      ]
    },
    {
      "cell_type": "markdown",
      "metadata": {
        "id": "Is7xs0IOidxQ"
      },
      "source": [
        "### Date Range\n",
        "\n",
        "DISBURSAL_DATE contains the date the agreed loan amount was transferred to the applicant, let's use it to get an idea of the timeframe covered by the data \n",
        "\n",
        "The first step is to convert DISBURSAL_DATE to a datetime\n",
        "- We can use [pd.to_datetime](https://pandas.pydata.org/pandas-docs/stable/reference/api/pandas.to_datetime.html) to convert an entire column to datetime \n",
        "\n"
      ]
    },
    {
      "cell_type": "code",
      "execution_count": 26,
      "metadata": {
        "colab": {
          "base_uri": "https://localhost:8080/"
        },
        "id": "PFOJcCR7idxQ",
        "outputId": "e0e7a712-67eb-430b-c5dd-43abe2ef5ed4"
      },
      "outputs": [
        {
          "output_type": "stream",
          "name": "stderr",
          "text": [
            "/usr/local/lib/python3.9/dist-packages/pandas/core/tools/datetimes.py:1047: UserWarning: Parsing '26-09-2018' in DD/MM/YYYY format. Provide format or specify infer_datetime_format=True for consistent parsing.\n",
            "  cache_array = _maybe_cache(arg, format, cache, convert_listlike)\n",
            "/usr/local/lib/python3.9/dist-packages/pandas/core/tools/datetimes.py:1047: UserWarning: Parsing '26-10-2018' in DD/MM/YYYY format. Provide format or specify infer_datetime_format=True for consistent parsing.\n",
            "  cache_array = _maybe_cache(arg, format, cache, convert_listlike)\n",
            "/usr/local/lib/python3.9/dist-packages/pandas/core/tools/datetimes.py:1047: UserWarning: Parsing '19-09-2018' in DD/MM/YYYY format. Provide format or specify infer_datetime_format=True for consistent parsing.\n",
            "  cache_array = _maybe_cache(arg, format, cache, convert_listlike)\n",
            "/usr/local/lib/python3.9/dist-packages/pandas/core/tools/datetimes.py:1047: UserWarning: Parsing '23-09-2018' in DD/MM/YYYY format. Provide format or specify infer_datetime_format=True for consistent parsing.\n",
            "  cache_array = _maybe_cache(arg, format, cache, convert_listlike)\n",
            "/usr/local/lib/python3.9/dist-packages/pandas/core/tools/datetimes.py:1047: UserWarning: Parsing '16-09-2018' in DD/MM/YYYY format. Provide format or specify infer_datetime_format=True for consistent parsing.\n",
            "  cache_array = _maybe_cache(arg, format, cache, convert_listlike)\n",
            "/usr/local/lib/python3.9/dist-packages/pandas/core/tools/datetimes.py:1047: UserWarning: Parsing '29-09-2018' in DD/MM/YYYY format. Provide format or specify infer_datetime_format=True for consistent parsing.\n",
            "  cache_array = _maybe_cache(arg, format, cache, convert_listlike)\n",
            "/usr/local/lib/python3.9/dist-packages/pandas/core/tools/datetimes.py:1047: UserWarning: Parsing '30-08-2018' in DD/MM/YYYY format. Provide format or specify infer_datetime_format=True for consistent parsing.\n",
            "  cache_array = _maybe_cache(arg, format, cache, convert_listlike)\n",
            "/usr/local/lib/python3.9/dist-packages/pandas/core/tools/datetimes.py:1047: UserWarning: Parsing '31-08-2018' in DD/MM/YYYY format. Provide format or specify infer_datetime_format=True for consistent parsing.\n",
            "  cache_array = _maybe_cache(arg, format, cache, convert_listlike)\n",
            "/usr/local/lib/python3.9/dist-packages/pandas/core/tools/datetimes.py:1047: UserWarning: Parsing '22-10-2018' in DD/MM/YYYY format. Provide format or specify infer_datetime_format=True for consistent parsing.\n",
            "  cache_array = _maybe_cache(arg, format, cache, convert_listlike)\n",
            "/usr/local/lib/python3.9/dist-packages/pandas/core/tools/datetimes.py:1047: UserWarning: Parsing '18-09-2018' in DD/MM/YYYY format. Provide format or specify infer_datetime_format=True for consistent parsing.\n",
            "  cache_array = _maybe_cache(arg, format, cache, convert_listlike)\n",
            "/usr/local/lib/python3.9/dist-packages/pandas/core/tools/datetimes.py:1047: UserWarning: Parsing '20-09-2018' in DD/MM/YYYY format. Provide format or specify infer_datetime_format=True for consistent parsing.\n",
            "  cache_array = _maybe_cache(arg, format, cache, convert_listlike)\n",
            "/usr/local/lib/python3.9/dist-packages/pandas/core/tools/datetimes.py:1047: UserWarning: Parsing '20-10-2018' in DD/MM/YYYY format. Provide format or specify infer_datetime_format=True for consistent parsing.\n",
            "  cache_array = _maybe_cache(arg, format, cache, convert_listlike)\n",
            "/usr/local/lib/python3.9/dist-packages/pandas/core/tools/datetimes.py:1047: UserWarning: Parsing '27-08-2018' in DD/MM/YYYY format. Provide format or specify infer_datetime_format=True for consistent parsing.\n",
            "  cache_array = _maybe_cache(arg, format, cache, convert_listlike)\n",
            "/usr/local/lib/python3.9/dist-packages/pandas/core/tools/datetimes.py:1047: UserWarning: Parsing '17-09-2018' in DD/MM/YYYY format. Provide format or specify infer_datetime_format=True for consistent parsing.\n",
            "  cache_array = _maybe_cache(arg, format, cache, convert_listlike)\n",
            "/usr/local/lib/python3.9/dist-packages/pandas/core/tools/datetimes.py:1047: UserWarning: Parsing '18-10-2018' in DD/MM/YYYY format. Provide format or specify infer_datetime_format=True for consistent parsing.\n",
            "  cache_array = _maybe_cache(arg, format, cache, convert_listlike)\n",
            "/usr/local/lib/python3.9/dist-packages/pandas/core/tools/datetimes.py:1047: UserWarning: Parsing '16-08-2018' in DD/MM/YYYY format. Provide format or specify infer_datetime_format=True for consistent parsing.\n",
            "  cache_array = _maybe_cache(arg, format, cache, convert_listlike)\n",
            "/usr/local/lib/python3.9/dist-packages/pandas/core/tools/datetimes.py:1047: UserWarning: Parsing '23-10-2018' in DD/MM/YYYY format. Provide format or specify infer_datetime_format=True for consistent parsing.\n",
            "  cache_array = _maybe_cache(arg, format, cache, convert_listlike)\n",
            "/usr/local/lib/python3.9/dist-packages/pandas/core/tools/datetimes.py:1047: UserWarning: Parsing '30-09-2018' in DD/MM/YYYY format. Provide format or specify infer_datetime_format=True for consistent parsing.\n",
            "  cache_array = _maybe_cache(arg, format, cache, convert_listlike)\n",
            "/usr/local/lib/python3.9/dist-packages/pandas/core/tools/datetimes.py:1047: UserWarning: Parsing '21-09-2018' in DD/MM/YYYY format. Provide format or specify infer_datetime_format=True for consistent parsing.\n",
            "  cache_array = _maybe_cache(arg, format, cache, convert_listlike)\n",
            "/usr/local/lib/python3.9/dist-packages/pandas/core/tools/datetimes.py:1047: UserWarning: Parsing '21-08-2018' in DD/MM/YYYY format. Provide format or specify infer_datetime_format=True for consistent parsing.\n",
            "  cache_array = _maybe_cache(arg, format, cache, convert_listlike)\n",
            "/usr/local/lib/python3.9/dist-packages/pandas/core/tools/datetimes.py:1047: UserWarning: Parsing '14-08-2018' in DD/MM/YYYY format. Provide format or specify infer_datetime_format=True for consistent parsing.\n",
            "  cache_array = _maybe_cache(arg, format, cache, convert_listlike)\n",
            "/usr/local/lib/python3.9/dist-packages/pandas/core/tools/datetimes.py:1047: UserWarning: Parsing '17-10-2018' in DD/MM/YYYY format. Provide format or specify infer_datetime_format=True for consistent parsing.\n",
            "  cache_array = _maybe_cache(arg, format, cache, convert_listlike)\n",
            "/usr/local/lib/python3.9/dist-packages/pandas/core/tools/datetimes.py:1047: UserWarning: Parsing '30-10-2018' in DD/MM/YYYY format. Provide format or specify infer_datetime_format=True for consistent parsing.\n",
            "  cache_array = _maybe_cache(arg, format, cache, convert_listlike)\n",
            "/usr/local/lib/python3.9/dist-packages/pandas/core/tools/datetimes.py:1047: UserWarning: Parsing '16-10-2018' in DD/MM/YYYY format. Provide format or specify infer_datetime_format=True for consistent parsing.\n",
            "  cache_array = _maybe_cache(arg, format, cache, convert_listlike)\n",
            "/usr/local/lib/python3.9/dist-packages/pandas/core/tools/datetimes.py:1047: UserWarning: Parsing '21-10-2018' in DD/MM/YYYY format. Provide format or specify infer_datetime_format=True for consistent parsing.\n",
            "  cache_array = _maybe_cache(arg, format, cache, convert_listlike)\n",
            "/usr/local/lib/python3.9/dist-packages/pandas/core/tools/datetimes.py:1047: UserWarning: Parsing '15-09-2018' in DD/MM/YYYY format. Provide format or specify infer_datetime_format=True for consistent parsing.\n",
            "  cache_array = _maybe_cache(arg, format, cache, convert_listlike)\n",
            "/usr/local/lib/python3.9/dist-packages/pandas/core/tools/datetimes.py:1047: UserWarning: Parsing '24-10-2018' in DD/MM/YYYY format. Provide format or specify infer_datetime_format=True for consistent parsing.\n",
            "  cache_array = _maybe_cache(arg, format, cache, convert_listlike)\n",
            "/usr/local/lib/python3.9/dist-packages/pandas/core/tools/datetimes.py:1047: UserWarning: Parsing '28-08-2018' in DD/MM/YYYY format. Provide format or specify infer_datetime_format=True for consistent parsing.\n",
            "  cache_array = _maybe_cache(arg, format, cache, convert_listlike)\n",
            "/usr/local/lib/python3.9/dist-packages/pandas/core/tools/datetimes.py:1047: UserWarning: Parsing '13-09-2018' in DD/MM/YYYY format. Provide format or specify infer_datetime_format=True for consistent parsing.\n",
            "  cache_array = _maybe_cache(arg, format, cache, convert_listlike)\n",
            "/usr/local/lib/python3.9/dist-packages/pandas/core/tools/datetimes.py:1047: UserWarning: Parsing '31-10-2018' in DD/MM/YYYY format. Provide format or specify infer_datetime_format=True for consistent parsing.\n",
            "  cache_array = _maybe_cache(arg, format, cache, convert_listlike)\n",
            "/usr/local/lib/python3.9/dist-packages/pandas/core/tools/datetimes.py:1047: UserWarning: Parsing '24-08-2018' in DD/MM/YYYY format. Provide format or specify infer_datetime_format=True for consistent parsing.\n",
            "  cache_array = _maybe_cache(arg, format, cache, convert_listlike)\n",
            "/usr/local/lib/python3.9/dist-packages/pandas/core/tools/datetimes.py:1047: UserWarning: Parsing '14-10-2018' in DD/MM/YYYY format. Provide format or specify infer_datetime_format=True for consistent parsing.\n",
            "  cache_array = _maybe_cache(arg, format, cache, convert_listlike)\n",
            "/usr/local/lib/python3.9/dist-packages/pandas/core/tools/datetimes.py:1047: UserWarning: Parsing '13-10-2018' in DD/MM/YYYY format. Provide format or specify infer_datetime_format=True for consistent parsing.\n",
            "  cache_array = _maybe_cache(arg, format, cache, convert_listlike)\n",
            "/usr/local/lib/python3.9/dist-packages/pandas/core/tools/datetimes.py:1047: UserWarning: Parsing '28-09-2018' in DD/MM/YYYY format. Provide format or specify infer_datetime_format=True for consistent parsing.\n",
            "  cache_array = _maybe_cache(arg, format, cache, convert_listlike)\n",
            "/usr/local/lib/python3.9/dist-packages/pandas/core/tools/datetimes.py:1047: UserWarning: Parsing '25-10-2018' in DD/MM/YYYY format. Provide format or specify infer_datetime_format=True for consistent parsing.\n",
            "  cache_array = _maybe_cache(arg, format, cache, convert_listlike)\n",
            "/usr/local/lib/python3.9/dist-packages/pandas/core/tools/datetimes.py:1047: UserWarning: Parsing '29-10-2018' in DD/MM/YYYY format. Provide format or specify infer_datetime_format=True for consistent parsing.\n",
            "  cache_array = _maybe_cache(arg, format, cache, convert_listlike)\n",
            "/usr/local/lib/python3.9/dist-packages/pandas/core/tools/datetimes.py:1047: UserWarning: Parsing '25-08-2018' in DD/MM/YYYY format. Provide format or specify infer_datetime_format=True for consistent parsing.\n",
            "  cache_array = _maybe_cache(arg, format, cache, convert_listlike)\n",
            "/usr/local/lib/python3.9/dist-packages/pandas/core/tools/datetimes.py:1047: UserWarning: Parsing '26-08-2018' in DD/MM/YYYY format. Provide format or specify infer_datetime_format=True for consistent parsing.\n",
            "  cache_array = _maybe_cache(arg, format, cache, convert_listlike)\n",
            "/usr/local/lib/python3.9/dist-packages/pandas/core/tools/datetimes.py:1047: UserWarning: Parsing '27-10-2018' in DD/MM/YYYY format. Provide format or specify infer_datetime_format=True for consistent parsing.\n",
            "  cache_array = _maybe_cache(arg, format, cache, convert_listlike)\n",
            "/usr/local/lib/python3.9/dist-packages/pandas/core/tools/datetimes.py:1047: UserWarning: Parsing '18-08-2018' in DD/MM/YYYY format. Provide format or specify infer_datetime_format=True for consistent parsing.\n",
            "  cache_array = _maybe_cache(arg, format, cache, convert_listlike)\n",
            "/usr/local/lib/python3.9/dist-packages/pandas/core/tools/datetimes.py:1047: UserWarning: Parsing '23-08-2018' in DD/MM/YYYY format. Provide format or specify infer_datetime_format=True for consistent parsing.\n",
            "  cache_array = _maybe_cache(arg, format, cache, convert_listlike)\n",
            "/usr/local/lib/python3.9/dist-packages/pandas/core/tools/datetimes.py:1047: UserWarning: Parsing '20-08-2018' in DD/MM/YYYY format. Provide format or specify infer_datetime_format=True for consistent parsing.\n",
            "  cache_array = _maybe_cache(arg, format, cache, convert_listlike)\n",
            "/usr/local/lib/python3.9/dist-packages/pandas/core/tools/datetimes.py:1047: UserWarning: Parsing '22-09-2018' in DD/MM/YYYY format. Provide format or specify infer_datetime_format=True for consistent parsing.\n",
            "  cache_array = _maybe_cache(arg, format, cache, convert_listlike)\n",
            "/usr/local/lib/python3.9/dist-packages/pandas/core/tools/datetimes.py:1047: UserWarning: Parsing '24-09-2018' in DD/MM/YYYY format. Provide format or specify infer_datetime_format=True for consistent parsing.\n",
            "  cache_array = _maybe_cache(arg, format, cache, convert_listlike)\n",
            "/usr/local/lib/python3.9/dist-packages/pandas/core/tools/datetimes.py:1047: UserWarning: Parsing '15-10-2018' in DD/MM/YYYY format. Provide format or specify infer_datetime_format=True for consistent parsing.\n",
            "  cache_array = _maybe_cache(arg, format, cache, convert_listlike)\n",
            "/usr/local/lib/python3.9/dist-packages/pandas/core/tools/datetimes.py:1047: UserWarning: Parsing '28-10-2018' in DD/MM/YYYY format. Provide format or specify infer_datetime_format=True for consistent parsing.\n",
            "  cache_array = _maybe_cache(arg, format, cache, convert_listlike)\n",
            "/usr/local/lib/python3.9/dist-packages/pandas/core/tools/datetimes.py:1047: UserWarning: Parsing '14-09-2018' in DD/MM/YYYY format. Provide format or specify infer_datetime_format=True for consistent parsing.\n",
            "  cache_array = _maybe_cache(arg, format, cache, convert_listlike)\n",
            "/usr/local/lib/python3.9/dist-packages/pandas/core/tools/datetimes.py:1047: UserWarning: Parsing '13-08-2018' in DD/MM/YYYY format. Provide format or specify infer_datetime_format=True for consistent parsing.\n",
            "  cache_array = _maybe_cache(arg, format, cache, convert_listlike)\n",
            "/usr/local/lib/python3.9/dist-packages/pandas/core/tools/datetimes.py:1047: UserWarning: Parsing '17-08-2018' in DD/MM/YYYY format. Provide format or specify infer_datetime_format=True for consistent parsing.\n",
            "  cache_array = _maybe_cache(arg, format, cache, convert_listlike)\n",
            "/usr/local/lib/python3.9/dist-packages/pandas/core/tools/datetimes.py:1047: UserWarning: Parsing '29-08-2018' in DD/MM/YYYY format. Provide format or specify infer_datetime_format=True for consistent parsing.\n",
            "  cache_array = _maybe_cache(arg, format, cache, convert_listlike)\n",
            "/usr/local/lib/python3.9/dist-packages/pandas/core/tools/datetimes.py:1047: UserWarning: Parsing '27-09-2018' in DD/MM/YYYY format. Provide format or specify infer_datetime_format=True for consistent parsing.\n",
            "  cache_array = _maybe_cache(arg, format, cache, convert_listlike)\n",
            "/usr/local/lib/python3.9/dist-packages/pandas/core/tools/datetimes.py:1047: UserWarning: Parsing '25-09-2018' in DD/MM/YYYY format. Provide format or specify infer_datetime_format=True for consistent parsing.\n",
            "  cache_array = _maybe_cache(arg, format, cache, convert_listlike)\n",
            "/usr/local/lib/python3.9/dist-packages/pandas/core/tools/datetimes.py:1047: UserWarning: Parsing '22-08-2018' in DD/MM/YYYY format. Provide format or specify infer_datetime_format=True for consistent parsing.\n",
            "  cache_array = _maybe_cache(arg, format, cache, convert_listlike)\n",
            "/usr/local/lib/python3.9/dist-packages/pandas/core/tools/datetimes.py:1047: UserWarning: Parsing '19-10-2018' in DD/MM/YYYY format. Provide format or specify infer_datetime_format=True for consistent parsing.\n",
            "  cache_array = _maybe_cache(arg, format, cache, convert_listlike)\n"
          ]
        }
      ],
      "source": [
        "#covert disbursal date\n",
        "loan_df[\"DISBURSAL_DATE\"] = pd.to_datetime(loan_df[\"DISBURSAL_DATE\"])"
      ]
    },
    {
      "cell_type": "markdown",
      "metadata": {
        "id": "UjSz63PDidxf"
      },
      "source": [
        "Now we can use [min](https://pandas.pydata.org/pandas-docs/stable/reference/api/pandas.Series.min.html) and [max] to look for the first and last loan disbursals in our data"
      ]
    },
    {
      "cell_type": "code",
      "execution_count": 27,
      "metadata": {
        "colab": {
          "base_uri": "https://localhost:8080/"
        },
        "id": "gocgZkpQidxf",
        "outputId": "eeca64f9-24a1-4e06-ba2d-6de328fbbb16"
      },
      "outputs": [
        {
          "output_type": "stream",
          "name": "stdout",
          "text": [
            "Maximum Disbursal Date:  2018-12-10 00:00:00\n",
            "Manimum Disbursal Date:  2018-01-08 00:00:00\n"
          ]
        }
      ],
      "source": [
        "#get minimum and maximum date\n",
        "print(\"Maximum Disbursal Date: \", loan_df[\"DISBURSAL_DATE\"].max())\n",
        "print(\"Manimum Disbursal Date: \", loan_df[\"DISBURSAL_DATE\"].min())"
      ]
    },
    {
      "cell_type": "markdown",
      "metadata": {
        "id": "o-zNUdwFidxf"
      },
      "source": [
        "We can do mathematical operations on datetimes to get the difference in days"
      ]
    },
    {
      "cell_type": "code",
      "execution_count": 28,
      "metadata": {
        "colab": {
          "base_uri": "https://localhost:8080/"
        },
        "id": "74nPKlF5idxf",
        "outputId": "736be143-16c1-40e7-abc0-0f939e1b83bf"
      },
      "outputs": [
        {
          "output_type": "stream",
          "name": "stdout",
          "text": [
            "Timespan of data Set:  336 days 00:00:00\n"
          ]
        }
      ],
      "source": [
        "#print timespan\n",
        "print(\"Timespan of data Set: \", loan_df[\"DISBURSAL_DATE\"].max() - loan_df[\"DISBURSAL_DATE\"].min())"
      ]
    },
    {
      "cell_type": "markdown",
      "metadata": {
        "id": "Bz8f6daeidxv"
      },
      "source": [
        "### Now we know\n",
        "\n",
        "- Our dataset has information for 233154 loans \n",
        "- There are 40 variables \n",
        "- The data covers loans over 336 days between January and December 2018\n",
        "\n",
        "More detailed exploratory analysis will be covered in the next chapter\n",
        "\n",
        "For now, let's move on to look at what we are actually trying to predict"
      ]
    },
    {
      "cell_type": "markdown",
      "metadata": {
        "id": "oqqdkU_qidxv"
      },
      "source": [
        "## Lesson 3 - Target Variable\n",
        "\n",
        "### What is the target variable?\n",
        "\n",
        "- Variable we are trying to predict\n",
        "- LOAN_DEFAULT is our target variable so lets investigate it further\n",
        "\n",
        "\n",
        "### Explore the Target Variable\n",
        "- How many people defaulted on their loans?\n",
        "- To count the frequency of unique values in a dataframe column we can use [value_counts](https://pandas.pydata.org/pandas-docs/stable/reference/api/pandas.Series.value_counts.html)"
      ]
    },
    {
      "cell_type": "code",
      "execution_count": 29,
      "metadata": {
        "colab": {
          "base_uri": "https://localhost:8080/"
        },
        "id": "60eMLjxaidx7",
        "outputId": "fb02e46d-aa00-4c68-de48-22b649a29ced"
      },
      "outputs": [
        {
          "output_type": "execute_result",
          "data": {
            "text/plain": [
              "0    182543\n",
              "1     50611\n",
              "Name: LOAN_DEFAULT, dtype: int64"
            ]
          },
          "metadata": {},
          "execution_count": 29
        }
      ],
      "source": [
        "#look at LOAN_DEFAULT\n",
        "loan_df[\"LOAN_DEFAULT\"].value_counts()"
      ]
    },
    {
      "cell_type": "markdown",
      "metadata": {
        "id": "2uWibaufidyA"
      },
      "source": [
        "Great! We can see that out of our 233154 loans, there are 50611 which defaulted\n",
        "\n",
        "The 'normalize' parameter lets us use value_counts to get a percentage"
      ]
    },
    {
      "cell_type": "code",
      "execution_count": 30,
      "metadata": {
        "colab": {
          "base_uri": "https://localhost:8080/"
        },
        "id": "QAzIexosidyE",
        "outputId": "65415667-9ea7-4aa7-dfdb-24b1114873f1"
      },
      "outputs": [
        {
          "output_type": "execute_result",
          "data": {
            "text/plain": [
              "0    0.782929\n",
              "1    0.217071\n",
              "Name: LOAN_DEFAULT, dtype: float64"
            ]
          },
          "metadata": {},
          "execution_count": 30
        }
      ],
      "source": [
        "#look at LOAN_DEFAULT normalized\n",
        "loan_df[\"LOAN_DEFAULT\"].value_counts(normalize=True)"
      ]
    },
    {
      "cell_type": "markdown",
      "metadata": {
        "id": "W3HiRDKOidyG"
      },
      "source": [
        "The rate of defaulted loans is about 21.7% keep this in mind!"
      ]
    },
    {
      "cell_type": "markdown",
      "source": [],
      "metadata": {
        "id": "mnP3M4VKymkP"
      }
    },
    {
      "cell_type": "markdown",
      "metadata": {
        "id": "jbyOBIl2idyJ"
      },
      "source": [
        "### Visualize the Target Variable\n",
        "\n",
        "Just for good measure lets visualize our target variable using the [countplot](https://seaborn.pydata.org/generated/seaborn.countplot.html) function from seaborn"
      ]
    },
    {
      "cell_type": "code",
      "execution_count": 31,
      "metadata": {
        "colab": {
          "base_uri": "https://localhost:8080/",
          "height": 280
        },
        "id": "mt5EiBGNidyM",
        "outputId": "504befee-4ae1-4b0c-bd4d-6af16f58a706"
      },
      "outputs": [
        {
          "output_type": "display_data",
          "data": {
            "text/plain": [
              "<Figure size 432x288 with 1 Axes>"
            ],
            "image/png": "[encoded data removed]"
          },
          "metadata": {
            "needs_background": "light"
          }
        }
      ],
      "source": [
        "#plot loan default\n",
        "sns.countplot(x = \"LOAN_DEFAULT\", data = loan_df)\n",
        "plt.show()"
      ]
    },
    {
      "cell_type": "markdown",
      "metadata": {
        "id": "AFaEoHYLidyP"
      },
      "source": [
        "## Lesson 4 - Missing Values\n",
        "\n",
        "We saw earlier that our dataset contains some missing values, specifically for the EMPLOYMENT_TYPE column.\n",
        "\n",
        "### Identifying Missing Data\n",
        "\n",
        "Time to investigate what we saw earlier by identifying the columns with missing values\n",
        "\n",
        "Using [df.isnull](https://pandas.pydata.org/pandas-docs/stable/reference/api/pandas.isnull.html) we can find those columns which have at least one null value\n"
      ]
    },
    {
      "cell_type": "code",
      "execution_count": 32,
      "metadata": {
        "colab": {
          "base_uri": "https://localhost:8080/",
          "height": 519
        },
        "id": "2DVt1J1tidyT",
        "outputId": "48316355-46a9-4078-b423-e9c8b97df5e8"
      },
      "outputs": [
        {
          "output_type": "execute_result",
          "data": {
            "text/plain": [
              "          DISBURSED_AMOUNT  ASSET_COST    LTV  BRANCH_ID  SUPPLIER_ID  \\\n",
              "UNIQUEID                                                                \n",
              "420825               False       False  False      False        False   \n",
              "537409               False       False  False      False        False   \n",
              "417566               False       False  False      False        False   \n",
              "624493               False       False  False      False        False   \n",
              "539055               False       False  False      False        False   \n",
              "...                    ...         ...    ...        ...          ...   \n",
              "626432               False       False  False      False        False   \n",
              "606141               False       False  False      False        False   \n",
              "613658               False       False  False      False        False   \n",
              "548084               False       False  False      False        False   \n",
              "630213               False       False  False      False        False   \n",
              "\n",
              "          MANUFACTURER_ID  CURRENT_PINCODE_ID  DATE_OF_BIRTH  EMPLOYMENT_TYPE  \\\n",
              "UNIQUEID                                                                        \n",
              "420825              False               False          False            False   \n",
              "537409              False               False          False            False   \n",
              "417566              False               False          False            False   \n",
              "624493              False               False          False            False   \n",
              "539055              False               False          False            False   \n",
              "...                   ...                 ...            ...              ...   \n",
              "626432              False               False          False            False   \n",
              "606141              False               False          False            False   \n",
              "613658              False               False          False            False   \n",
              "548084              False               False          False            False   \n",
              "630213              False               False          False            False   \n",
              "\n",
              "          DISBURSAL_DATE  ...  SEC_SANCTIONED_AMOUNT  SEC_DISBURSED_AMOUNT  \\\n",
              "UNIQUEID                  ...                                                \n",
              "420825             False  ...                  False                 False   \n",
              "537409             False  ...                  False                 False   \n",
              "417566             False  ...                  False                 False   \n",
              "624493             False  ...                  False                 False   \n",
              "539055             False  ...                  False                 False   \n",
              "...                  ...  ...                    ...                   ...   \n",
              "626432             False  ...                  False                 False   \n",
              "606141             False  ...                  False                 False   \n",
              "613658             False  ...                  False                 False   \n",
              "548084             False  ...                  False                 False   \n",
              "630213             False  ...                  False                 False   \n",
              "\n",
              "          PRIMARY_INSTAL_AMT  SEC_INSTAL_AMT  NEW_ACCTS_IN_LAST_SIX_MONTHS  \\\n",
              "UNIQUEID                                                                     \n",
              "420825                 False           False                         False   \n",
              "537409                 False           False                         False   \n",
              "417566                 False           False                         False   \n",
              "624493                 False           False                         False   \n",
              "539055                 False           False                         False   \n",
              "...                      ...             ...                           ...   \n",
              "626432                 False           False                         False   \n",
              "606141                 False           False                         False   \n",
              "613658                 False           False                         False   \n",
              "548084                 False           False                         False   \n",
              "630213                 False           False                         False   \n",
              "\n",
              "          DELINQUENT_ACCTS_IN_LAST_SIX_MONTHS  AVERAGE_ACCT_AGE  \\\n",
              "UNIQUEID                                                          \n",
              "420825                                  False             False   \n",
              "537409                                  False             False   \n",
              "417566                                  False             False   \n",
              "624493                                  False             False   \n",
              "539055                                  False             False   \n",
              "...                                       ...               ...   \n",
              "626432                                  False             False   \n",
              "606141                                  False             False   \n",
              "613658                                  False             False   \n",
              "548084                                  False             False   \n",
              "630213                                  False             False   \n",
              "\n",
              "          CREDIT_HISTORY_LENGTH  NO_OF_INQUIRIES  LOAN_DEFAULT  \n",
              "UNIQUEID                                                        \n",
              "420825                    False            False         False  \n",
              "537409                    False            False         False  \n",
              "417566                    False            False         False  \n",
              "624493                    False            False         False  \n",
              "539055                    False            False         False  \n",
              "...                         ...              ...           ...  \n",
              "626432                    False            False         False  \n",
              "606141                    False            False         False  \n",
              "613658                    False            False         False  \n",
              "548084                    False            False         False  \n",
              "630213                    False            False         False  \n",
              "\n",
              "[233154 rows x 40 columns]"
            ],
            "text/html": [
              "\n",
              "  <div id=\"df-5cc97526-2b9c-437b-bef2-3afc21b35ab3\">\n",
              "    <div class=\"colab-df-container\">\n",
              "      <div>\n",
              "<style scoped>\n",
              "    .dataframe tbody tr th:only-of-type {\n",
              "        vertical-align: middle;\n",
              "    }\n",
              "\n",
              "    .dataframe tbody tr th {\n",
              "        vertical-align: top;\n",
              "    }\n",
              "\n",
              "    .dataframe thead th {\n",
              "        text-align: right;\n",
              "    }\n",
              "</style>\n",
              "<table border=\"1\" class=\"dataframe\">\n",
              "  <thead>\n",
              "    <tr style=\"text-align: right;\">\n",
              "      <th></th>\n",
              "      <th>DISBURSED_AMOUNT</th>\n",
              "      <th>ASSET_COST</th>\n",
              "      <th>LTV</th>\n",
              "      <th>BRANCH_ID</th>\n",
              "      <th>SUPPLIER_ID</th>\n",
              "      <th>MANUFACTURER_ID</th>\n",
              "      <th>CURRENT_PINCODE_ID</th>\n",
              "      <th>DATE_OF_BIRTH</th>\n",
              "      <th>EMPLOYMENT_TYPE</th>\n",
              "      <th>DISBURSAL_DATE</th>\n",
              "      <th>...</th>\n",
              "      <th>SEC_SANCTIONED_AMOUNT</th>\n",
              "      <th>SEC_DISBURSED_AMOUNT</th>\n",
              "      <th>PRIMARY_INSTAL_AMT</th>\n",
              "      <th>SEC_INSTAL_AMT</th>\n",
              "      <th>NEW_ACCTS_IN_LAST_SIX_MONTHS</th>\n",
              "      <th>DELINQUENT_ACCTS_IN_LAST_SIX_MONTHS</th>\n",
              "      <th>AVERAGE_ACCT_AGE</th>\n",
              "      <th>CREDIT_HISTORY_LENGTH</th>\n",
              "      <th>NO_OF_INQUIRIES</th>\n",
              "      <th>LOAN_DEFAULT</th>\n",
              "    </tr>\n",
              "    <tr>\n",
              "      <th>UNIQUEID</th>\n",
              "      <th></th>\n",
              "      <th></th>\n",
              "      <th></th>\n",
              "      <th></th>\n",
              "      <th></th>\n",
              "      <th></th>\n",
              "      <th></th>\n",
              "      <th></th>\n",
              "      <th></th>\n",
              "      <th></th>\n",
              "      <th></th>\n",
              "      <th></th>\n",
              "      <th></th>\n",
              "      <th></th>\n",
              "      <th></th>\n",
              "      <th></th>\n",
              "      <th></th>\n",
              "      <th></th>\n",
              "      <th></th>\n",
              "      <th></th>\n",
              "      <th></th>\n",
              "    </tr>\n",
              "  </thead>\n",
              "  <tbody>\n",
              "    <tr>\n",
              "      <th>420825</th>\n",
              "      <td>False</td>\n",
              "      <td>False</td>\n",
              "      <td>False</td>\n",
              "      <td>False</td>\n",
              "      <td>False</td>\n",
              "      <td>False</td>\n",
              "      <td>False</td>\n",
              "      <td>False</td>\n",
              "      <td>False</td>\n",
              "      <td>False</td>\n",
              "      <td>...</td>\n",
              "      <td>False</td>\n",
              "      <td>False</td>\n",
              "      <td>False</td>\n",
              "      <td>False</td>\n",
              "      <td>False</td>\n",
              "      <td>False</td>\n",
              "      <td>False</td>\n",
              "      <td>False</td>\n",
              "      <td>False</td>\n",
              "      <td>False</td>\n",
              "    </tr>\n",
              "    <tr>\n",
              "      <th>537409</th>\n",
              "      <td>False</td>\n",
              "      <td>False</td>\n",
              "      <td>False</td>\n",
              "      <td>False</td>\n",
              "      <td>False</td>\n",
              "      <td>False</td>\n",
              "      <td>False</td>\n",
              "      <td>False</td>\n",
              "      <td>False</td>\n",
              "      <td>False</td>\n",
              "      <td>...</td>\n",
              "      <td>False</td>\n",
              "      <td>False</td>\n",
              "      <td>False</td>\n",
              "      <td>False</td>\n",
              "      <td>False</td>\n",
              "      <td>False</td>\n",
              "      <td>False</td>\n",
              "      <td>False</td>\n",
              "      <td>False</td>\n",
              "      <td>False</td>\n",
              "    </tr>\n",
              "    <tr>\n",
              "      <th>417566</th>\n",
              "      <td>False</td>\n",
              "      <td>False</td>\n",
              "      <td>False</td>\n",
              "      <td>False</td>\n",
              "      <td>False</td>\n",
              "      <td>False</td>\n",
              "      <td>False</td>\n",
              "      <td>False</td>\n",
              "      <td>False</td>\n",
              "      <td>False</td>\n",
              "      <td>...</td>\n",
              "      <td>False</td>\n",
              "      <td>False</td>\n",
              "      <td>False</td>\n",
              "      <td>False</td>\n",
              "      <td>False</td>\n",
              "      <td>False</td>\n",
              "      <td>False</td>\n",
              "      <td>False</td>\n",
              "      <td>False</td>\n",
              "      <td>False</td>\n",
              "    </tr>\n",
              "    <tr>\n",
              "      <th>624493</th>\n",
              "      <td>False</td>\n",
              "      <td>False</td>\n",
              "      <td>False</td>\n",
              "      <td>False</td>\n",
              "      <td>False</td>\n",
              "      <td>False</td>\n",
              "      <td>False</td>\n",
              "      <td>False</td>\n",
              "      <td>False</td>\n",
              "      <td>False</td>\n",
              "      <td>...</td>\n",
              "      <td>False</td>\n",
              "      <td>False</td>\n",
              "      <td>False</td>\n",
              "      <td>False</td>\n",
              "      <td>False</td>\n",
              "      <td>False</td>\n",
              "      <td>False</td>\n",
              "      <td>False</td>\n",
              "      <td>False</td>\n",
              "      <td>False</td>\n",
              "    </tr>\n",
              "    <tr>\n",
              "      <th>539055</th>\n",
              "      <td>False</td>\n",
              "      <td>False</td>\n",
              "      <td>False</td>\n",
              "      <td>False</td>\n",
              "      <td>False</td>\n",
              "      <td>False</td>\n",
              "      <td>False</td>\n",
              "      <td>False</td>\n",
              "      <td>False</td>\n",
              "      <td>False</td>\n",
              "      <td>...</td>\n",
              "      <td>False</td>\n",
              "      <td>False</td>\n",
              "      <td>False</td>\n",
              "      <td>False</td>\n",
              "      <td>False</td>\n",
              "      <td>False</td>\n",
              "      <td>False</td>\n",
              "      <td>False</td>\n",
              "      <td>False</td>\n",
              "      <td>False</td>\n",
              "    </tr>\n",
              "    <tr>\n",
              "      <th>...</th>\n",
              "      <td>...</td>\n",
              "      <td>...</td>\n",
              "      <td>...</td>\n",
              "      <td>...</td>\n",
              "      <td>...</td>\n",
              "      <td>...</td>\n",
              "      <td>...</td>\n",
              "      <td>...</td>\n",
              "      <td>...</td>\n",
              "      <td>...</td>\n",
              "      <td>...</td>\n",
              "      <td>...</td>\n",
              "      <td>...</td>\n",
              "      <td>...</td>\n",
              "      <td>...</td>\n",
              "      <td>...</td>\n",
              "      <td>...</td>\n",
              "      <td>...</td>\n",
              "      <td>...</td>\n",
              "      <td>...</td>\n",
              "      <td>...</td>\n",
              "    </tr>\n",
              "    <tr>\n",
              "      <th>626432</th>\n",
              "      <td>False</td>\n",
              "      <td>False</td>\n",
              "      <td>False</td>\n",
              "      <td>False</td>\n",
              "      <td>False</td>\n",
              "      <td>False</td>\n",
              "      <td>False</td>\n",
              "      <td>False</td>\n",
              "      <td>False</td>\n",
              "      <td>False</td>\n",
              "      <td>...</td>\n",
              "      <td>False</td>\n",
              "      <td>False</td>\n",
              "      <td>False</td>\n",
              "      <td>False</td>\n",
              "      <td>False</td>\n",
              "      <td>False</td>\n",
              "      <td>False</td>\n",
              "      <td>False</td>\n",
              "      <td>False</td>\n",
              "      <td>False</td>\n",
              "    </tr>\n",
              "    <tr>\n",
              "      <th>606141</th>\n",
              "      <td>False</td>\n",
              "      <td>False</td>\n",
              "      <td>False</td>\n",
              "      <td>False</td>\n",
              "      <td>False</td>\n",
              "      <td>False</td>\n",
              "      <td>False</td>\n",
              "      <td>False</td>\n",
              "      <td>False</td>\n",
              "      <td>False</td>\n",
              "      <td>...</td>\n",
              "      <td>False</td>\n",
              "      <td>False</td>\n",
              "      <td>False</td>\n",
              "      <td>False</td>\n",
              "      <td>False</td>\n",
              "      <td>False</td>\n",
              "      <td>False</td>\n",
              "      <td>False</td>\n",
              "      <td>False</td>\n",
              "      <td>False</td>\n",
              "    </tr>\n",
              "    <tr>\n",
              "      <th>613658</th>\n",
              "      <td>False</td>\n",
              "      <td>False</td>\n",
              "      <td>False</td>\n",
              "      <td>False</td>\n",
              "      <td>False</td>\n",
              "      <td>False</td>\n",
              "      <td>False</td>\n",
              "      <td>False</td>\n",
              "      <td>False</td>\n",
              "      <td>False</td>\n",
              "      <td>...</td>\n",
              "      <td>False</td>\n",
              "      <td>False</td>\n",
              "      <td>False</td>\n",
              "      <td>False</td>\n",
              "      <td>False</td>\n",
              "      <td>False</td>\n",
              "      <td>False</td>\n",
              "      <td>False</td>\n",
              "      <td>False</td>\n",
              "      <td>False</td>\n",
              "    </tr>\n",
              "    <tr>\n",
              "      <th>548084</th>\n",
              "      <td>False</td>\n",
              "      <td>False</td>\n",
              "      <td>False</td>\n",
              "      <td>False</td>\n",
              "      <td>False</td>\n",
              "      <td>False</td>\n",
              "      <td>False</td>\n",
              "      <td>False</td>\n",
              "      <td>False</td>\n",
              "      <td>False</td>\n",
              "      <td>...</td>\n",
              "      <td>False</td>\n",
              "      <td>False</td>\n",
              "      <td>False</td>\n",
              "      <td>False</td>\n",
              "      <td>False</td>\n",
              "      <td>False</td>\n",
              "      <td>False</td>\n",
              "      <td>False</td>\n",
              "      <td>False</td>\n",
              "      <td>False</td>\n",
              "    </tr>\n",
              "    <tr>\n",
              "      <th>630213</th>\n",
              "      <td>False</td>\n",
              "      <td>False</td>\n",
              "      <td>False</td>\n",
              "      <td>False</td>\n",
              "      <td>False</td>\n",
              "      <td>False</td>\n",
              "      <td>False</td>\n",
              "      <td>False</td>\n",
              "      <td>False</td>\n",
              "      <td>False</td>\n",
              "      <td>...</td>\n",
              "      <td>False</td>\n",
              "      <td>False</td>\n",
              "      <td>False</td>\n",
              "      <td>False</td>\n",
              "      <td>False</td>\n",
              "      <td>False</td>\n",
              "      <td>False</td>\n",
              "      <td>False</td>\n",
              "      <td>False</td>\n",
              "      <td>False</td>\n",
              "    </tr>\n",
              "  </tbody>\n",
              "</table>\n",
              "<p>233154 rows × 40 columns</p>\n",
              "</div>\n",
              "      <button class=\"colab-df-convert\" onclick=\"convertToInteractive('df-5cc97526-2b9c-437b-bef2-3afc21b35ab3')\"\n",
              "              title=\"Convert this dataframe to an interactive table.\"\n",
              "              style=\"display:none;\">\n",
              "        \n",
              "  <svg xmlns=\"http://www.w3.org/2000/svg\" height=\"24px\"viewBox=\"0 0 24 24\"\n",
              "       width=\"24px\">\n",
              "    <path d=\"M0 0h24v24H0V0z\" fill=\"none\"/>\n",
              "    <path d=\"M18.56 5.44l.94 2.06.94-2.06 2.06-.94-2.06-.94-.94-2.06-.94 2.06-2.06.94zm-11 1L8.5 8.5l.94-2.06 2.06-.94-2.06-.94L8.5 2.5l-.94 2.06-2.06.94zm10 10l.94 2.06.94-2.06 2.06-.94-2.06-.94-.94-2.06-.94 2.06-2.06.94z\"/><path d=\"M17.41 7.96l-1.37-1.37c-.4-.4-.92-.59-1.43-.59-.52 0-1.04.2-1.43.59L10.3 9.45l-7.72 7.72c-.78.78-.78 2.05 0 2.83L4 21.41c.39.39.9.59 1.41.59.51 0 1.02-.2 1.41-.59l7.78-7.78 2.81-2.81c.8-.78.8-2.07 0-2.86zM5.41 20L4 18.59l7.72-7.72 1.47 1.35L5.41 20z\"/>\n",
              "  </svg>\n",
              "      </button>\n",
              "      \n",
              "  <style>\n",
              "    .colab-df-container {\n",
              "      display:flex;\n",
              "      flex-wrap:wrap;\n",
              "      gap: 12px;\n",
              "    }\n",
              "\n",
              "    .colab-df-convert {\n",
              "      background-color: #E8F0FE;\n",
              "      border: none;\n",
              "      border-radius: 50%;\n",
              "      cursor: pointer;\n",
              "      display: none;\n",
              "      fill: #1967D2;\n",
              "      height: 32px;\n",
              "      padding: 0 0 0 0;\n",
              "      width: 32px;\n",
              "    }\n",
              "\n",
              "    .colab-df-convert:hover {\n",
              "      background-color: #E2EBFA;\n",
              "      box-shadow: 0px 1px 2px rgba(60, 64, 67, 0.3), 0px 1px 3px 1px rgba(60, 64, 67, 0.15);\n",
              "      fill: #174EA6;\n",
              "    }\n",
              "\n",
              "    [theme=dark] .colab-df-convert {\n",
              "      background-color: #3B4455;\n",
              "      fill: #D2E3FC;\n",
              "    }\n",
              "\n",
              "    [theme=dark] .colab-df-convert:hover {\n",
              "      background-color: #434B5C;\n",
              "      box-shadow: 0px 1px 3px 1px rgba(0, 0, 0, 0.15);\n",
              "      filter: drop-shadow(0px 1px 2px rgba(0, 0, 0, 0.3));\n",
              "      fill: #FFFFFF;\n",
              "    }\n",
              "  </style>\n",
              "\n",
              "      <script>\n",
              "        const buttonEl =\n",
              "          document.querySelector('#df-5cc97526-2b9c-437b-bef2-3afc21b35ab3 button.colab-df-convert');\n",
              "        buttonEl.style.display =\n",
              "          google.colab.kernel.accessAllowed ? 'block' : 'none';\n",
              "\n",
              "        async function convertToInteractive(key) {\n",
              "          const element = document.querySelector('#df-5cc97526-2b9c-437b-bef2-3afc21b35ab3');\n",
              "          const dataTable =\n",
              "            await google.colab.kernel.invokeFunction('convertToInteractive',\n",
              "                                                     [key], {});\n",
              "          if (!dataTable) return;\n",
              "\n",
              "          const docLinkHtml = 'Like what you see? Visit the ' +\n",
              "            '<a target=\"_blank\" href=https://colab.research.google.com/notebooks/data_table.ipynb>data table notebook</a>'\n",
              "            + ' to learn more about interactive tables.';\n",
              "          element.innerHTML = '';\n",
              "          dataTable['output_type'] = 'display_data';\n",
              "          await google.colab.output.renderOutput(dataTable, element);\n",
              "          const docLink = document.createElement('div');\n",
              "          docLink.innerHTML = docLinkHtml;\n",
              "          element.appendChild(docLink);\n",
              "        }\n",
              "      </script>\n",
              "    </div>\n",
              "  </div>\n",
              "  "
            ]
          },
          "metadata": {},
          "execution_count": 32
        }
      ],
      "source": [
        "#get cells with missing values\n",
        "loan_df.isnull()"
      ]
    },
    {
      "cell_type": "markdown",
      "metadata": {
        "id": "UXhYMC0ZidyW"
      },
      "source": [
        "[df.isnull](https://pandas.pydata.org/pandas-docs/stable/reference/api/pandas.isnull.html) outputs a DataFrame with a boolean value in each cell indicating the presence of a null value\n",
        "\n",
        "We can combine [df.isnull](https://pandas.pydata.org/pandas-docs/stable/reference/api/pandas.isnull.html) with [df.any](https://pandas.pydata.org/pandas-docs/stable/reference/api/pandas.DataFrame.any.html) to get a list of all columns with at least one missing value"
      ]
    },
    {
      "cell_type": "code",
      "execution_count": 33,
      "metadata": {
        "colab": {
          "base_uri": "https://localhost:8080/"
        },
        "id": "KSiSUWgbidyY",
        "outputId": "ec162321-ef50-48ac-cae6-8b9227136c73"
      },
      "outputs": [
        {
          "output_type": "execute_result",
          "data": {
            "text/plain": [
              "DISBURSED_AMOUNT                       False\n",
              "ASSET_COST                             False\n",
              "LTV                                    False\n",
              "BRANCH_ID                              False\n",
              "SUPPLIER_ID                            False\n",
              "MANUFACTURER_ID                        False\n",
              "CURRENT_PINCODE_ID                     False\n",
              "DATE_OF_BIRTH                          False\n",
              "EMPLOYMENT_TYPE                         True\n",
              "DISBURSAL_DATE                         False\n",
              "STATE_ID                               False\n",
              "EMPLOYEE_CODE_ID                       False\n",
              "MOBILENO_AVL_FLAG                      False\n",
              "AADHAR_FLAG                            False\n",
              "PAN_FLAG                               False\n",
              "VOTERID_FLAG                           False\n",
              "DRIVING_FLAG                           False\n",
              "PASSPORT_FLAG                          False\n",
              "PERFORM_CNS_SCORE                      False\n",
              "PERFORM_CNS_SCORE_DESCRIPTION          False\n",
              "PRI_NO_OF_ACCTS                        False\n",
              "PRI_ACTIVE_ACCTS                       False\n",
              "PRI_OVERDUE_ACCTS                      False\n",
              "PRI_CURRENT_BALANCE                    False\n",
              "PRI_SANCTIONED_AMOUNT                  False\n",
              "PRI_DISBURSED_AMOUNT                   False\n",
              "SEC_NO_OF_ACCTS                        False\n",
              "SEC_ACTIVE_ACCTS                       False\n",
              "SEC_OVERDUE_ACCTS                      False\n",
              "SEC_CURRENT_BALANCE                    False\n",
              "SEC_SANCTIONED_AMOUNT                  False\n",
              "SEC_DISBURSED_AMOUNT                   False\n",
              "PRIMARY_INSTAL_AMT                     False\n",
              "SEC_INSTAL_AMT                         False\n",
              "NEW_ACCTS_IN_LAST_SIX_MONTHS           False\n",
              "DELINQUENT_ACCTS_IN_LAST_SIX_MONTHS    False\n",
              "AVERAGE_ACCT_AGE                       False\n",
              "CREDIT_HISTORY_LENGTH                  False\n",
              "NO_OF_INQUIRIES                        False\n",
              "LOAN_DEFAULT                           False\n",
              "dtype: bool"
            ]
          },
          "metadata": {},
          "execution_count": 33
        }
      ],
      "source": [
        "#get columns with missing values\n",
        "loan_df.isnull().any()"
      ]
    },
    {
      "cell_type": "markdown",
      "metadata": {
        "id": "7CPAVtB0idyY"
      },
      "source": [
        "As expected, the only column with any null values is EMPLOYMENT_TYPE\n",
        "\n",
        "Combine [df.isnull](https://pandas.pydata.org/pandas-docs/stable/reference/api/pandas.isnull.html) with [df.sum](https://pandas.pydata.org/pandas-docs/stable/reference/api/pandas.DataFrame.sum.html) to get a count of missing values for all columns"
      ]
    },
    {
      "cell_type": "code",
      "execution_count": 34,
      "metadata": {
        "colab": {
          "base_uri": "https://localhost:8080/"
        },
        "id": "AAVLqkKMidyY",
        "outputId": "62da62be-4571-41a8-e54f-dd9c62482dbe"
      },
      "outputs": [
        {
          "output_type": "execute_result",
          "data": {
            "text/plain": [
              "DISBURSED_AMOUNT                          0\n",
              "ASSET_COST                                0\n",
              "LTV                                       0\n",
              "BRANCH_ID                                 0\n",
              "SUPPLIER_ID                               0\n",
              "MANUFACTURER_ID                           0\n",
              "CURRENT_PINCODE_ID                        0\n",
              "DATE_OF_BIRTH                             0\n",
              "EMPLOYMENT_TYPE                        7661\n",
              "DISBURSAL_DATE                            0\n",
              "STATE_ID                                  0\n",
              "EMPLOYEE_CODE_ID                          0\n",
              "MOBILENO_AVL_FLAG                         0\n",
              "AADHAR_FLAG                               0\n",
              "PAN_FLAG                                  0\n",
              "VOTERID_FLAG                              0\n",
              "DRIVING_FLAG                              0\n",
              "PASSPORT_FLAG                             0\n",
              "PERFORM_CNS_SCORE                         0\n",
              "PERFORM_CNS_SCORE_DESCRIPTION             0\n",
              "PRI_NO_OF_ACCTS                           0\n",
              "PRI_ACTIVE_ACCTS                          0\n",
              "PRI_OVERDUE_ACCTS                         0\n",
              "PRI_CURRENT_BALANCE                       0\n",
              "PRI_SANCTIONED_AMOUNT                     0\n",
              "PRI_DISBURSED_AMOUNT                      0\n",
              "SEC_NO_OF_ACCTS                           0\n",
              "SEC_ACTIVE_ACCTS                          0\n",
              "SEC_OVERDUE_ACCTS                         0\n",
              "SEC_CURRENT_BALANCE                       0\n",
              "SEC_SANCTIONED_AMOUNT                     0\n",
              "SEC_DISBURSED_AMOUNT                      0\n",
              "PRIMARY_INSTAL_AMT                        0\n",
              "SEC_INSTAL_AMT                            0\n",
              "NEW_ACCTS_IN_LAST_SIX_MONTHS              0\n",
              "DELINQUENT_ACCTS_IN_LAST_SIX_MONTHS       0\n",
              "AVERAGE_ACCT_AGE                          0\n",
              "CREDIT_HISTORY_LENGTH                     0\n",
              "NO_OF_INQUIRIES                           0\n",
              "LOAN_DEFAULT                              0\n",
              "dtype: int64"
            ]
          },
          "metadata": {},
          "execution_count": 34
        }
      ],
      "source": [
        "#get missing value count per column\n",
        "loan_df.isnull().sum()"
      ]
    },
    {
      "cell_type": "markdown",
      "metadata": {
        "id": "TJyG-ywVidyY"
      },
      "source": [
        "### Handling Missing Values\n",
        "\n",
        "Ok, we can see that EMPLOYMENT_TYPE has 7661 missing values so we should take a closer look,"
      ]
    },
    {
      "cell_type": "markdown",
      "metadata": {
        "id": "1SJ-FrC1idyo"
      },
      "source": [
        "### EXERCISE - Explore EMPLOYMENT_TYPE\n",
        "\n",
        "- Find out how many unique values are in the column\n",
        "- Hint: Remember how we used [value_counts](https://pandas.pydata.org/pandas-docs/stable/reference/api/pandas.Series.value_counts.html) and [catplot](https://seaborn.pydata.org/generated/seaborn.catplot.html) to explore the target variable"
      ]
    },
    {
      "cell_type": "markdown",
      "metadata": {
        "id": "Lt4fJOL6idyo"
      },
      "source": [
        "### SOLUTION"
      ]
    },
    {
      "cell_type": "code",
      "execution_count": 35,
      "metadata": {
        "colab": {
          "base_uri": "https://localhost:8080/",
          "height": 280
        },
        "id": "saenE4eiidy4",
        "outputId": "99a45102-1986-4288-d3bc-7c1db3708e8c"
      },
      "outputs": [
        {
          "output_type": "display_data",
          "data": {
            "text/plain": [
              "<Figure size 432x288 with 1 Axes>"
            ],
            "image/png": "[encoded data removed]"
          },
          "metadata": {
            "needs_background": "light"
          }
        }
      ],
      "source": [
        "#Type solution here\n",
        "loan_df[\"EMPLOYMENT_TYPE\"].value_counts()\n",
        "sns.countplot(x=loan_df[\"EMPLOYMENT_TYPE\"], data = loan_df)\n",
        "plt.show()"
      ]
    },
    {
      "cell_type": "markdown",
      "metadata": {
        "id": "F0xmN6kLidy4"
      },
      "source": [
        "### Handling Missing Values - Continued\n",
        "\n",
        "Note that EMPLOYMENT_TYPE contains two unique values, 'Salaried' and 'Self Employed'\n",
        "\n",
        "Since there are relatively few missing values (7661) we can populate them with a placeholder 'Missing' using pandas [fillna](https://pandas.pydata.org/pandas-docs/stable/reference/api/pandas.DataFrame.fillna.html)"
      ]
    },
    {
      "cell_type": "code",
      "execution_count": 36,
      "metadata": {
        "id": "yEnmCVVzidy4"
      },
      "outputs": [],
      "source": [
        "#Fill missing values\n",
        "loan_df = loan_df.fillna(value={\"EMPLOYMENT_TYPE\" : \"Missing\"})"
      ]
    },
    {
      "cell_type": "code",
      "execution_count": 37,
      "metadata": {
        "colab": {
          "base_uri": "https://localhost:8080/",
          "height": 349
        },
        "id": "y6FUyXzsidy4",
        "outputId": "83c62693-6de3-4d52-f251-919bc8995605"
      },
      "outputs": [
        {
          "output_type": "stream",
          "name": "stdout",
          "text": [
            "Self employed    127635\n",
            "Salaried          97858\n",
            "Missing            7661\n",
            "Name: EMPLOYMENT_TYPE, dtype: int64\n"
          ]
        },
        {
          "output_type": "display_data",
          "data": {
            "text/plain": [
              "<Figure size 432x288 with 1 Axes>"
            ],
            "image/png": "[encoded data removed]"
          },
          "metadata": {
            "needs_background": "light"
          }
        }
      ],
      "source": [
        "#Plot employment type\n",
        "print(loan_df[\"EMPLOYMENT_TYPE\"].value_counts())\n",
        "sns.countplot(x=loan_df[\"EMPLOYMENT_TYPE\"], data = loan_df)\n",
        "plt.show()"
      ]
    },
    {
      "cell_type": "markdown",
      "metadata": {
        "id": "iCujrhSZidy4"
      },
      "source": [
        "We can see that the 7661 missing values for employment type have been labelled with the string 'Missing'"
      ]
    },
    {
      "cell_type": "markdown",
      "metadata": {
        "id": "zHCO6NlBidzH"
      },
      "source": [
        "## Lesson 5 - Dealing with Dates\n",
        "\n",
        "- We have two date columns, DISBURSAL_DATE and DATE_OF_BIRTH\n",
        "- These should be transformed into a more algorithm friendly format"
      ]
    },
    {
      "cell_type": "code",
      "execution_count": 39,
      "metadata": {
        "colab": {
          "base_uri": "https://localhost:8080/",
          "height": 395
        },
        "id": "PmwyLU99idzX",
        "outputId": "fb980474-efe4-46ab-ebbf-34e0226e05e0"
      },
      "outputs": [
        {
          "output_type": "execute_result",
          "data": {
            "text/plain": [
              "         DISBURSAL_DATE DATE_OF_BIRTH\n",
              "UNIQUEID                             \n",
              "564735       2018-09-10    10-07-1996\n",
              "493878       2018-07-09    22-05-2000\n",
              "564812       2018-09-10    12-12-1995\n",
              "643429       2018-10-30    07-06-1996\n",
              "468418       2018-08-28    01-03-1989\n",
              "524650       2018-09-21    11-09-1979\n",
              "579297       2018-10-15    23-11-1973\n",
              "458285       2018-08-23    29-01-1990\n",
              "630638       2018-10-27    01-01-1989\n",
              "477903       2018-08-30    01-01-1982"
            ],
            "text/html": [
              "\n",
              "  <div id=\"df-c2b55ac7-518d-4323-ac2b-67074eccaef8\">\n",
              "    <div class=\"colab-df-container\">\n",
              "      <div>\n",
              "<style scoped>\n",
              "    .dataframe tbody tr th:only-of-type {\n",
              "        vertical-align: middle;\n",
              "    }\n",
              "\n",
              "    .dataframe tbody tr th {\n",
              "        vertical-align: top;\n",
              "    }\n",
              "\n",
              "    .dataframe thead th {\n",
              "        text-align: right;\n",
              "    }\n",
              "</style>\n",
              "<table border=\"1\" class=\"dataframe\">\n",
              "  <thead>\n",
              "    <tr style=\"text-align: right;\">\n",
              "      <th></th>\n",
              "      <th>DISBURSAL_DATE</th>\n",
              "      <th>DATE_OF_BIRTH</th>\n",
              "    </tr>\n",
              "    <tr>\n",
              "      <th>UNIQUEID</th>\n",
              "      <th></th>\n",
              "      <th></th>\n",
              "    </tr>\n",
              "  </thead>\n",
              "  <tbody>\n",
              "    <tr>\n",
              "      <th>564735</th>\n",
              "      <td>2018-09-10</td>\n",
              "      <td>10-07-1996</td>\n",
              "    </tr>\n",
              "    <tr>\n",
              "      <th>493878</th>\n",
              "      <td>2018-07-09</td>\n",
              "      <td>22-05-2000</td>\n",
              "    </tr>\n",
              "    <tr>\n",
              "      <th>564812</th>\n",
              "      <td>2018-09-10</td>\n",
              "      <td>12-12-1995</td>\n",
              "    </tr>\n",
              "    <tr>\n",
              "      <th>643429</th>\n",
              "      <td>2018-10-30</td>\n",
              "      <td>07-06-1996</td>\n",
              "    </tr>\n",
              "    <tr>\n",
              "      <th>468418</th>\n",
              "      <td>2018-08-28</td>\n",
              "      <td>01-03-1989</td>\n",
              "    </tr>\n",
              "    <tr>\n",
              "      <th>524650</th>\n",
              "      <td>2018-09-21</td>\n",
              "      <td>11-09-1979</td>\n",
              "    </tr>\n",
              "    <tr>\n",
              "      <th>579297</th>\n",
              "      <td>2018-10-15</td>\n",
              "      <td>23-11-1973</td>\n",
              "    </tr>\n",
              "    <tr>\n",
              "      <th>458285</th>\n",
              "      <td>2018-08-23</td>\n",
              "      <td>29-01-1990</td>\n",
              "    </tr>\n",
              "    <tr>\n",
              "      <th>630638</th>\n",
              "      <td>2018-10-27</td>\n",
              "      <td>01-01-1989</td>\n",
              "    </tr>\n",
              "    <tr>\n",
              "      <th>477903</th>\n",
              "      <td>2018-08-30</td>\n",
              "      <td>01-01-1982</td>\n",
              "    </tr>\n",
              "  </tbody>\n",
              "</table>\n",
              "</div>\n",
              "      <button class=\"colab-df-convert\" onclick=\"convertToInteractive('df-c2b55ac7-518d-4323-ac2b-67074eccaef8')\"\n",
              "              title=\"Convert this dataframe to an interactive table.\"\n",
              "              style=\"display:none;\">\n",
              "        \n",
              "  <svg xmlns=\"http://www.w3.org/2000/svg\" height=\"24px\"viewBox=\"0 0 24 24\"\n",
              "       width=\"24px\">\n",
              "    <path d=\"M0 0h24v24H0V0z\" fill=\"none\"/>\n",
              "    <path d=\"M18.56 5.44l.94 2.06.94-2.06 2.06-.94-2.06-.94-.94-2.06-.94 2.06-2.06.94zm-11 1L8.5 8.5l.94-2.06 2.06-.94-2.06-.94L8.5 2.5l-.94 2.06-2.06.94zm10 10l.94 2.06.94-2.06 2.06-.94-2.06-.94-.94-2.06-.94 2.06-2.06.94z\"/><path d=\"M17.41 7.96l-1.37-1.37c-.4-.4-.92-.59-1.43-.59-.52 0-1.04.2-1.43.59L10.3 9.45l-7.72 7.72c-.78.78-.78 2.05 0 2.83L4 21.41c.39.39.9.59 1.41.59.51 0 1.02-.2 1.41-.59l7.78-7.78 2.81-2.81c.8-.78.8-2.07 0-2.86zM5.41 20L4 18.59l7.72-7.72 1.47 1.35L5.41 20z\"/>\n",
              "  </svg>\n",
              "      </button>\n",
              "      \n",
              "  <style>\n",
              "    .colab-df-container {\n",
              "      display:flex;\n",
              "      flex-wrap:wrap;\n",
              "      gap: 12px;\n",
              "    }\n",
              "\n",
              "    .colab-df-convert {\n",
              "      background-color: #E8F0FE;\n",
              "      border: none;\n",
              "      border-radius: 50%;\n",
              "      cursor: pointer;\n",
              "      display: none;\n",
              "      fill: #1967D2;\n",
              "      height: 32px;\n",
              "      padding: 0 0 0 0;\n",
              "      width: 32px;\n",
              "    }\n",
              "\n",
              "    .colab-df-convert:hover {\n",
              "      background-color: #E2EBFA;\n",
              "      box-shadow: 0px 1px 2px rgba(60, 64, 67, 0.3), 0px 1px 3px 1px rgba(60, 64, 67, 0.15);\n",
              "      fill: #174EA6;\n",
              "    }\n",
              "\n",
              "    [theme=dark] .colab-df-convert {\n",
              "      background-color: #3B4455;\n",
              "      fill: #D2E3FC;\n",
              "    }\n",
              "\n",
              "    [theme=dark] .colab-df-convert:hover {\n",
              "      background-color: #434B5C;\n",
              "      box-shadow: 0px 1px 3px 1px rgba(0, 0, 0, 0.15);\n",
              "      filter: drop-shadow(0px 1px 2px rgba(0, 0, 0, 0.3));\n",
              "      fill: #FFFFFF;\n",
              "    }\n",
              "  </style>\n",
              "\n",
              "      <script>\n",
              "        const buttonEl =\n",
              "          document.querySelector('#df-c2b55ac7-518d-4323-ac2b-67074eccaef8 button.colab-df-convert');\n",
              "        buttonEl.style.display =\n",
              "          google.colab.kernel.accessAllowed ? 'block' : 'none';\n",
              "\n",
              "        async function convertToInteractive(key) {\n",
              "          const element = document.querySelector('#df-c2b55ac7-518d-4323-ac2b-67074eccaef8');\n",
              "          const dataTable =\n",
              "            await google.colab.kernel.invokeFunction('convertToInteractive',\n",
              "                                                     [key], {});\n",
              "          if (!dataTable) return;\n",
              "\n",
              "          const docLinkHtml = 'Like what you see? Visit the ' +\n",
              "            '<a target=\"_blank\" href=https://colab.research.google.com/notebooks/data_table.ipynb>data table notebook</a>'\n",
              "            + ' to learn more about interactive tables.';\n",
              "          element.innerHTML = '';\n",
              "          dataTable['output_type'] = 'display_data';\n",
              "          await google.colab.output.renderOutput(dataTable, element);\n",
              "          const docLink = document.createElement('div');\n",
              "          docLink.innerHTML = docLinkHtml;\n",
              "          element.appendChild(docLink);\n",
              "        }\n",
              "      </script>\n",
              "    </div>\n",
              "  </div>\n",
              "  "
            ]
          },
          "metadata": {},
          "execution_count": 39
        }
      ],
      "source": [
        "#Print DISBURSAL_DATE and DATE_OF_BIRTH\n",
        "loan_df[[\"DISBURSAL_DATE\", \"DATE_OF_BIRTH\"]].sample(10)"
      ]
    },
    {
      "cell_type": "markdown",
      "metadata": {
        "id": "z0b1vpNgidzX"
      },
      "source": [
        "### Calculating Age \n",
        "\n",
        "- Intuitively it is fair to assume that age is associated with loan default risk \n",
        "- However, we currently do not have a measure of age, only date of birth\n",
        "\n",
        "\n",
        "### EXERCISE \n",
        "\n",
        "- Can you create a new column 'AGE' based on the existing DATE_OF_BIRTH and DISUBURAL_DATE columns\n",
        "- HINT: use [pd.to_datetime](https://pandas.pydata.org/pandas-docs/stable/reference/api/pandas.to_datetime.html) to convert from string to datetime"
      ]
    },
    {
      "cell_type": "markdown",
      "metadata": {
        "id": "LDOVf7WdidzX"
      },
      "source": [
        "### SOLUTION"
      ]
    },
    {
      "cell_type": "code",
      "execution_count": null,
      "metadata": {
        "id": "_c3eLYkhidzX"
      },
      "outputs": [],
      "source": [
        "#type solution here"
      ]
    },
    {
      "cell_type": "markdown",
      "metadata": {
        "id": "UgwYcWdVidzX"
      },
      "source": [
        "### SOLUTION - EXPLAINED\n",
        "\n",
        "- First, make sure that DATE_OF_BIRTH and DISBURSAL_DATE are datetimes"
      ]
    },
    {
      "cell_type": "code",
      "execution_count": 43,
      "metadata": {
        "colab": {
          "base_uri": "https://localhost:8080/"
        },
        "id": "QZTRGkM_idzn",
        "outputId": "84d57675-0afb-4d2a-d998-b20f061ab1a4"
      },
      "outputs": [
        {
          "output_type": "stream",
          "name": "stdout",
          "text": [
            "DATE_OF_BIRTH variable type:  datetime64[ns]\n",
            "DISBURSAL_DATE variable type:  datetime64[ns]\n"
          ]
        }
      ],
      "source": [
        "#step 1\n",
        "loan_df[\"DATE_OF_BIRTH\"] = pd.to_datetime(loan_df[\"DATE_OF_BIRTH\"])\n",
        "loan_df[\"DISBURSAL_DATE\"] = pd.to_datetime(loan_df[\"DISBURSAL_DATE\"])\n",
        "\n",
        "print(\"DATE_OF_BIRTH variable type: \", loan_df[\"DATE_OF_BIRTH\"].dtypes)\n",
        "print(\"DISBURSAL_DATE variable type: \", loan_df[\"DISBURSAL_DATE\"].dtypes)"
      ]
    },
    {
      "cell_type": "markdown",
      "metadata": {
        "id": "RrrxTA41idzn"
      },
      "source": [
        "- now calculate the difference between DISBURSAL_DATE and DATE_OF_BIRTH"
      ]
    },
    {
      "cell_type": "code",
      "execution_count": 44,
      "metadata": {
        "colab": {
          "base_uri": "https://localhost:8080/"
        },
        "id": "cNPFF_6widzn",
        "outputId": "de7d90e9-2156-4313-9d25-67e4bfc2309c"
      },
      "outputs": [
        {
          "output_type": "execute_result",
          "data": {
            "text/plain": [
              "UNIQUEID\n",
              "443919    8094 days\n",
              "431866    8495 days\n",
              "607140   16182 days\n",
              "438312    9356 days\n",
              "565557    7999 days\n",
              "643948    9433 days\n",
              "481081    9112 days\n",
              "478345    9806 days\n",
              "629283   18167 days\n",
              "629635   13448 days\n",
              "Name: AGE, dtype: timedelta64[ns]"
            ]
          },
          "metadata": {},
          "execution_count": 44
        }
      ],
      "source": [
        "#step 2\n",
        "loan_df[\"AGE\"] = loan_df[\"DISBURSAL_DATE\"] - loan_df[\"DATE_OF_BIRTH\"]\n",
        "loan_df[\"AGE\"].sample(n=10)"
      ]
    },
    {
      "cell_type": "markdown",
      "metadata": {
        "id": "dKcIzBKnidzn"
      },
      "source": [
        "- now we have the age in days \n",
        "- divide age by 1 year\n",
        "- // operator performs division and rounds down to the nearest whole number"
      ]
    },
    {
      "cell_type": "code",
      "execution_count": 45,
      "metadata": {
        "id": "y6GnTyxnidzn"
      },
      "outputs": [],
      "source": [
        "#step 3\n",
        "loan_df[\"AGE\"] = loan_df[\"AGE\"] // np.timedelta64(1, 'Y')"
      ]
    },
    {
      "cell_type": "markdown",
      "metadata": {
        "id": "kgxCLUg0idz2"
      },
      "source": [
        "- sanity check our output"
      ]
    },
    {
      "cell_type": "code",
      "execution_count": 46,
      "metadata": {
        "colab": {
          "base_uri": "https://localhost:8080/",
          "height": 395
        },
        "id": "ugLyM73Didz2",
        "outputId": "7f077446-35e7-41be-eec6-f51be644dd0a"
      },
      "outputs": [
        {
          "output_type": "execute_result",
          "data": {
            "text/plain": [
              "         DISBURSAL_DATE  AGE DATE_OF_BIRTH\n",
              "UNIQUEID                                  \n",
              "528373       2018-09-22   40    1978-01-10\n",
              "470975       2018-08-28   37    1981-03-15\n",
              "509055       2018-09-15   31    1987-01-01\n",
              "621816       2018-10-25   25    1993-06-09\n",
              "526503       2018-09-21   43    1975-01-01\n",
              "466210       2018-08-27   32    1986-04-07\n",
              "621218       2018-10-25   33    1985-06-30\n",
              "631921       2018-10-27   46    1972-01-07\n",
              "495352       2018-07-09   31    1987-06-04\n",
              "464344       2018-08-25   51    1967-01-01"
            ],
            "text/html": [
              "\n",
              "  <div id=\"df-59f93133-8a61-4e1f-a3e2-38d3f5c1e9f2\">\n",
              "    <div class=\"colab-df-container\">\n",
              "      <div>\n",
              "<style scoped>\n",
              "    .dataframe tbody tr th:only-of-type {\n",
              "        vertical-align: middle;\n",
              "    }\n",
              "\n",
              "    .dataframe tbody tr th {\n",
              "        vertical-align: top;\n",
              "    }\n",
              "\n",
              "    .dataframe thead th {\n",
              "        text-align: right;\n",
              "    }\n",
              "</style>\n",
              "<table border=\"1\" class=\"dataframe\">\n",
              "  <thead>\n",
              "    <tr style=\"text-align: right;\">\n",
              "      <th></th>\n",
              "      <th>DISBURSAL_DATE</th>\n",
              "      <th>AGE</th>\n",
              "      <th>DATE_OF_BIRTH</th>\n",
              "    </tr>\n",
              "    <tr>\n",
              "      <th>UNIQUEID</th>\n",
              "      <th></th>\n",
              "      <th></th>\n",
              "      <th></th>\n",
              "    </tr>\n",
              "  </thead>\n",
              "  <tbody>\n",
              "    <tr>\n",
              "      <th>528373</th>\n",
              "      <td>2018-09-22</td>\n",
              "      <td>40</td>\n",
              "      <td>1978-01-10</td>\n",
              "    </tr>\n",
              "    <tr>\n",
              "      <th>470975</th>\n",
              "      <td>2018-08-28</td>\n",
              "      <td>37</td>\n",
              "      <td>1981-03-15</td>\n",
              "    </tr>\n",
              "    <tr>\n",
              "      <th>509055</th>\n",
              "      <td>2018-09-15</td>\n",
              "      <td>31</td>\n",
              "      <td>1987-01-01</td>\n",
              "    </tr>\n",
              "    <tr>\n",
              "      <th>621816</th>\n",
              "      <td>2018-10-25</td>\n",
              "      <td>25</td>\n",
              "      <td>1993-06-09</td>\n",
              "    </tr>\n",
              "    <tr>\n",
              "      <th>526503</th>\n",
              "      <td>2018-09-21</td>\n",
              "      <td>43</td>\n",
              "      <td>1975-01-01</td>\n",
              "    </tr>\n",
              "    <tr>\n",
              "      <th>466210</th>\n",
              "      <td>2018-08-27</td>\n",
              "      <td>32</td>\n",
              "      <td>1986-04-07</td>\n",
              "    </tr>\n",
              "    <tr>\n",
              "      <th>621218</th>\n",
              "      <td>2018-10-25</td>\n",
              "      <td>33</td>\n",
              "      <td>1985-06-30</td>\n",
              "    </tr>\n",
              "    <tr>\n",
              "      <th>631921</th>\n",
              "      <td>2018-10-27</td>\n",
              "      <td>46</td>\n",
              "      <td>1972-01-07</td>\n",
              "    </tr>\n",
              "    <tr>\n",
              "      <th>495352</th>\n",
              "      <td>2018-07-09</td>\n",
              "      <td>31</td>\n",
              "      <td>1987-06-04</td>\n",
              "    </tr>\n",
              "    <tr>\n",
              "      <th>464344</th>\n",
              "      <td>2018-08-25</td>\n",
              "      <td>51</td>\n",
              "      <td>1967-01-01</td>\n",
              "    </tr>\n",
              "  </tbody>\n",
              "</table>\n",
              "</div>\n",
              "      <button class=\"colab-df-convert\" onclick=\"convertToInteractive('df-59f93133-8a61-4e1f-a3e2-38d3f5c1e9f2')\"\n",
              "              title=\"Convert this dataframe to an interactive table.\"\n",
              "              style=\"display:none;\">\n",
              "        \n",
              "  <svg xmlns=\"http://www.w3.org/2000/svg\" height=\"24px\"viewBox=\"0 0 24 24\"\n",
              "       width=\"24px\">\n",
              "    <path d=\"M0 0h24v24H0V0z\" fill=\"none\"/>\n",
              "    <path d=\"M18.56 5.44l.94 2.06.94-2.06 2.06-.94-2.06-.94-.94-2.06-.94 2.06-2.06.94zm-11 1L8.5 8.5l.94-2.06 2.06-.94-2.06-.94L8.5 2.5l-.94 2.06-2.06.94zm10 10l.94 2.06.94-2.06 2.06-.94-2.06-.94-.94-2.06-.94 2.06-2.06.94z\"/><path d=\"M17.41 7.96l-1.37-1.37c-.4-.4-.92-.59-1.43-.59-.52 0-1.04.2-1.43.59L10.3 9.45l-7.72 7.72c-.78.78-.78 2.05 0 2.83L4 21.41c.39.39.9.59 1.41.59.51 0 1.02-.2 1.41-.59l7.78-7.78 2.81-2.81c.8-.78.8-2.07 0-2.86zM5.41 20L4 18.59l7.72-7.72 1.47 1.35L5.41 20z\"/>\n",
              "  </svg>\n",
              "      </button>\n",
              "      \n",
              "  <style>\n",
              "    .colab-df-container {\n",
              "      display:flex;\n",
              "      flex-wrap:wrap;\n",
              "      gap: 12px;\n",
              "    }\n",
              "\n",
              "    .colab-df-convert {\n",
              "      background-color: #E8F0FE;\n",
              "      border: none;\n",
              "      border-radius: 50%;\n",
              "      cursor: pointer;\n",
              "      display: none;\n",
              "      fill: #1967D2;\n",
              "      height: 32px;\n",
              "      padding: 0 0 0 0;\n",
              "      width: 32px;\n",
              "    }\n",
              "\n",
              "    .colab-df-convert:hover {\n",
              "      background-color: #E2EBFA;\n",
              "      box-shadow: 0px 1px 2px rgba(60, 64, 67, 0.3), 0px 1px 3px 1px rgba(60, 64, 67, 0.15);\n",
              "      fill: #174EA6;\n",
              "    }\n",
              "\n",
              "    [theme=dark] .colab-df-convert {\n",
              "      background-color: #3B4455;\n",
              "      fill: #D2E3FC;\n",
              "    }\n",
              "\n",
              "    [theme=dark] .colab-df-convert:hover {\n",
              "      background-color: #434B5C;\n",
              "      box-shadow: 0px 1px 3px 1px rgba(0, 0, 0, 0.15);\n",
              "      filter: drop-shadow(0px 1px 2px rgba(0, 0, 0, 0.3));\n",
              "      fill: #FFFFFF;\n",
              "    }\n",
              "  </style>\n",
              "\n",
              "      <script>\n",
              "        const buttonEl =\n",
              "          document.querySelector('#df-59f93133-8a61-4e1f-a3e2-38d3f5c1e9f2 button.colab-df-convert');\n",
              "        buttonEl.style.display =\n",
              "          google.colab.kernel.accessAllowed ? 'block' : 'none';\n",
              "\n",
              "        async function convertToInteractive(key) {\n",
              "          const element = document.querySelector('#df-59f93133-8a61-4e1f-a3e2-38d3f5c1e9f2');\n",
              "          const dataTable =\n",
              "            await google.colab.kernel.invokeFunction('convertToInteractive',\n",
              "                                                     [key], {});\n",
              "          if (!dataTable) return;\n",
              "\n",
              "          const docLinkHtml = 'Like what you see? Visit the ' +\n",
              "            '<a target=\"_blank\" href=https://colab.research.google.com/notebooks/data_table.ipynb>data table notebook</a>'\n",
              "            + ' to learn more about interactive tables.';\n",
              "          element.innerHTML = '';\n",
              "          dataTable['output_type'] = 'display_data';\n",
              "          await google.colab.output.renderOutput(dataTable, element);\n",
              "          const docLink = document.createElement('div');\n",
              "          docLink.innerHTML = docLinkHtml;\n",
              "          element.appendChild(docLink);\n",
              "        }\n",
              "      </script>\n",
              "    </div>\n",
              "  </div>\n",
              "  "
            ]
          },
          "metadata": {},
          "execution_count": 46
        }
      ],
      "source": [
        "#step 4\n",
        "loan_df[[\"DISBURSAL_DATE\",\"AGE\", \"DATE_OF_BIRTH\"]].sample(10)"
      ]
    },
    {
      "cell_type": "markdown",
      "metadata": {
        "id": "8DbX_Cheid0G"
      },
      "source": [
        "### Disbursal Month\n",
        "\n",
        "- At this point, we do not know how the disbursal date might be related to loan defaults\n",
        "- We want to explore this relationship so need to convert to a numeric representation\n",
        "\n",
        "### EXERCISE \n",
        "\n",
        "- Can you create a new column 'DISBURSAL_MONTH' to store the disbursal month as an integer\n",
        "- HINT: pandas [dt](https://pandas.pydata.org/pandas-docs/stable/reference/api/pandas.Series.dt.html) allows us to extract month as an integer from a datetime"
      ]
    },
    {
      "cell_type": "markdown",
      "metadata": {
        "id": "WZKytzWNid0G"
      },
      "source": [
        "### SOLUTION"
      ]
    },
    {
      "cell_type": "code",
      "execution_count": 48,
      "metadata": {
        "colab": {
          "base_uri": "https://localhost:8080/"
        },
        "id": "D4_jxBFZid0G",
        "outputId": "31780439-8502-4be8-c1fd-8f0be156c599"
      },
      "outputs": [
        {
          "output_type": "execute_result",
          "data": {
            "text/plain": [
              "10    84875\n",
              "8     56975\n",
              "9     54443\n",
              "11     6709\n",
              "6      5991\n",
              "12     5613\n",
              "3      5148\n",
              "4      4627\n",
              "7      4150\n",
              "5      2890\n",
              "1      1708\n",
              "2        25\n",
              "Name: DISBURSAL_MONTH, dtype: int64"
            ]
          },
          "metadata": {},
          "execution_count": 48
        }
      ],
      "source": [
        "#Type solution here\n",
        "loan_df[\"DISBURSAL_MONTH\"] = loan_df[\"DISBURSAL_DATE\"].dt.month\n",
        "loan_df[\"DISBURSAL_MONTH\"].value_counts()"
      ]
    },
    {
      "cell_type": "markdown",
      "metadata": {
        "id": "Gt8zNK2qid0G"
      },
      "source": [
        "As we can see, the distribution of loan disbursals is not even across all months, we will look into this in future lessons but for now, we can drop the disbursal date column.\n",
        "\n",
        "We can now [drop](https://pandas.pydata.org/pandas-docs/stable/reference/api/pandas.DataFrame.drop.html) DISBURSAL_DATE and DATE_OF_BIRTH from our data "
      ]
    },
    {
      "cell_type": "code",
      "execution_count": 49,
      "metadata": {
        "id": "0K0iQ6l_id0V"
      },
      "outputs": [],
      "source": [
        "#drop columns\n",
        "loan_df = loan_df.drop([\"DISBURSAL_DATE\", \"DATE_OF_BIRTH\"], axis=1)"
      ]
    },
    {
      "cell_type": "markdown",
      "metadata": {
        "id": "7lmV7Qaiid0V"
      },
      "source": [
        "## Lesson 6 - Fix the Strings\n",
        "\n",
        "- AVERAGE_ACCT_AGE and CREDIT_HISTORY_LENGTH were also strings \n",
        "- Column names suggest they should be numeric, let's take a look "
      ]
    },
    {
      "cell_type": "markdown",
      "metadata": {
        "id": "BaXOkLawid0V"
      },
      "source": [
        "### String Fields\n",
        "\n",
        "- Can select a subset of DataFrame columns by passing in a list of column names,  [indexing](https://pandas.pydata.org/pandas-docs/stable/user_guide/indexing.html)\n",
        "- [df.sample](https://pandas.pydata.org/pandas-docs/stable/reference/api/pandas.DataFrame.sample.html) can be used to pull a random sample of n rows"
      ]
    },
    {
      "cell_type": "code",
      "execution_count": 50,
      "metadata": {
        "colab": {
          "base_uri": "https://localhost:8080/",
          "height": 395
        },
        "id": "XEBx6IBdid0V",
        "outputId": "298c3268-61be-40cd-cdcc-a6fe9d36fe3e"
      },
      "outputs": [
        {
          "output_type": "execute_result",
          "data": {
            "text/plain": [
              "         CREDIT_HISTORY_LENGTH AVERAGE_ACCT_AGE\n",
              "UNIQUEID                                       \n",
              "555561               0yrs 0mon        0yrs 0mon\n",
              "425459               1yrs 6mon        0yrs 8mon\n",
              "466234               0yrs 0mon        0yrs 0mon\n",
              "449342               0yrs 0mon        0yrs 0mon\n",
              "537064              1yrs 11mon       1yrs 11mon\n",
              "448829               0yrs 6mon        0yrs 5mon\n",
              "535921               0yrs 0mon        0yrs 0mon\n",
              "617315               2yrs 7mon        2yrs 7mon\n",
              "480885               0yrs 0mon        0yrs 0mon\n",
              "470860               2yrs 1mon        2yrs 1mon"
            ],
            "text/html": [
              "\n",
              "  <div id=\"df-9344171d-52e3-4631-b6ea-d28bb6a35601\">\n",
              "    <div class=\"colab-df-container\">\n",
              "      <div>\n",
              "<style scoped>\n",
              "    .dataframe tbody tr th:only-of-type {\n",
              "        vertical-align: middle;\n",
              "    }\n",
              "\n",
              "    .dataframe tbody tr th {\n",
              "        vertical-align: top;\n",
              "    }\n",
              "\n",
              "    .dataframe thead th {\n",
              "        text-align: right;\n",
              "    }\n",
              "</style>\n",
              "<table border=\"1\" class=\"dataframe\">\n",
              "  <thead>\n",
              "    <tr style=\"text-align: right;\">\n",
              "      <th></th>\n",
              "      <th>CREDIT_HISTORY_LENGTH</th>\n",
              "      <th>AVERAGE_ACCT_AGE</th>\n",
              "    </tr>\n",
              "    <tr>\n",
              "      <th>UNIQUEID</th>\n",
              "      <th></th>\n",
              "      <th></th>\n",
              "    </tr>\n",
              "  </thead>\n",
              "  <tbody>\n",
              "    <tr>\n",
              "      <th>555561</th>\n",
              "      <td>0yrs 0mon</td>\n",
              "      <td>0yrs 0mon</td>\n",
              "    </tr>\n",
              "    <tr>\n",
              "      <th>425459</th>\n",
              "      <td>1yrs 6mon</td>\n",
              "      <td>0yrs 8mon</td>\n",
              "    </tr>\n",
              "    <tr>\n",
              "      <th>466234</th>\n",
              "      <td>0yrs 0mon</td>\n",
              "      <td>0yrs 0mon</td>\n",
              "    </tr>\n",
              "    <tr>\n",
              "      <th>449342</th>\n",
              "      <td>0yrs 0mon</td>\n",
              "      <td>0yrs 0mon</td>\n",
              "    </tr>\n",
              "    <tr>\n",
              "      <th>537064</th>\n",
              "      <td>1yrs 11mon</td>\n",
              "      <td>1yrs 11mon</td>\n",
              "    </tr>\n",
              "    <tr>\n",
              "      <th>448829</th>\n",
              "      <td>0yrs 6mon</td>\n",
              "      <td>0yrs 5mon</td>\n",
              "    </tr>\n",
              "    <tr>\n",
              "      <th>535921</th>\n",
              "      <td>0yrs 0mon</td>\n",
              "      <td>0yrs 0mon</td>\n",
              "    </tr>\n",
              "    <tr>\n",
              "      <th>617315</th>\n",
              "      <td>2yrs 7mon</td>\n",
              "      <td>2yrs 7mon</td>\n",
              "    </tr>\n",
              "    <tr>\n",
              "      <th>480885</th>\n",
              "      <td>0yrs 0mon</td>\n",
              "      <td>0yrs 0mon</td>\n",
              "    </tr>\n",
              "    <tr>\n",
              "      <th>470860</th>\n",
              "      <td>2yrs 1mon</td>\n",
              "      <td>2yrs 1mon</td>\n",
              "    </tr>\n",
              "  </tbody>\n",
              "</table>\n",
              "</div>\n",
              "      <button class=\"colab-df-convert\" onclick=\"convertToInteractive('df-9344171d-52e3-4631-b6ea-d28bb6a35601')\"\n",
              "              title=\"Convert this dataframe to an interactive table.\"\n",
              "              style=\"display:none;\">\n",
              "        \n",
              "  <svg xmlns=\"http://www.w3.org/2000/svg\" height=\"24px\"viewBox=\"0 0 24 24\"\n",
              "       width=\"24px\">\n",
              "    <path d=\"M0 0h24v24H0V0z\" fill=\"none\"/>\n",
              "    <path d=\"M18.56 5.44l.94 2.06.94-2.06 2.06-.94-2.06-.94-.94-2.06-.94 2.06-2.06.94zm-11 1L8.5 8.5l.94-2.06 2.06-.94-2.06-.94L8.5 2.5l-.94 2.06-2.06.94zm10 10l.94 2.06.94-2.06 2.06-.94-2.06-.94-.94-2.06-.94 2.06-2.06.94z\"/><path d=\"M17.41 7.96l-1.37-1.37c-.4-.4-.92-.59-1.43-.59-.52 0-1.04.2-1.43.59L10.3 9.45l-7.72 7.72c-.78.78-.78 2.05 0 2.83L4 21.41c.39.39.9.59 1.41.59.51 0 1.02-.2 1.41-.59l7.78-7.78 2.81-2.81c.8-.78.8-2.07 0-2.86zM5.41 20L4 18.59l7.72-7.72 1.47 1.35L5.41 20z\"/>\n",
              "  </svg>\n",
              "      </button>\n",
              "      \n",
              "  <style>\n",
              "    .colab-df-container {\n",
              "      display:flex;\n",
              "      flex-wrap:wrap;\n",
              "      gap: 12px;\n",
              "    }\n",
              "\n",
              "    .colab-df-convert {\n",
              "      background-color: #E8F0FE;\n",
              "      border: none;\n",
              "      border-radius: 50%;\n",
              "      cursor: pointer;\n",
              "      display: none;\n",
              "      fill: #1967D2;\n",
              "      height: 32px;\n",
              "      padding: 0 0 0 0;\n",
              "      width: 32px;\n",
              "    }\n",
              "\n",
              "    .colab-df-convert:hover {\n",
              "      background-color: #E2EBFA;\n",
              "      box-shadow: 0px 1px 2px rgba(60, 64, 67, 0.3), 0px 1px 3px 1px rgba(60, 64, 67, 0.15);\n",
              "      fill: #174EA6;\n",
              "    }\n",
              "\n",
              "    [theme=dark] .colab-df-convert {\n",
              "      background-color: #3B4455;\n",
              "      fill: #D2E3FC;\n",
              "    }\n",
              "\n",
              "    [theme=dark] .colab-df-convert:hover {\n",
              "      background-color: #434B5C;\n",
              "      box-shadow: 0px 1px 3px 1px rgba(0, 0, 0, 0.15);\n",
              "      filter: drop-shadow(0px 1px 2px rgba(0, 0, 0, 0.3));\n",
              "      fill: #FFFFFF;\n",
              "    }\n",
              "  </style>\n",
              "\n",
              "      <script>\n",
              "        const buttonEl =\n",
              "          document.querySelector('#df-9344171d-52e3-4631-b6ea-d28bb6a35601 button.colab-df-convert');\n",
              "        buttonEl.style.display =\n",
              "          google.colab.kernel.accessAllowed ? 'block' : 'none';\n",
              "\n",
              "        async function convertToInteractive(key) {\n",
              "          const element = document.querySelector('#df-9344171d-52e3-4631-b6ea-d28bb6a35601');\n",
              "          const dataTable =\n",
              "            await google.colab.kernel.invokeFunction('convertToInteractive',\n",
              "                                                     [key], {});\n",
              "          if (!dataTable) return;\n",
              "\n",
              "          const docLinkHtml = 'Like what you see? Visit the ' +\n",
              "            '<a target=\"_blank\" href=https://colab.research.google.com/notebooks/data_table.ipynb>data table notebook</a>'\n",
              "            + ' to learn more about interactive tables.';\n",
              "          element.innerHTML = '';\n",
              "          dataTable['output_type'] = 'display_data';\n",
              "          await google.colab.output.renderOutput(dataTable, element);\n",
              "          const docLink = document.createElement('div');\n",
              "          docLink.innerHTML = docLinkHtml;\n",
              "          element.appendChild(docLink);\n",
              "        }\n",
              "      </script>\n",
              "    </div>\n",
              "  </div>\n",
              "  "
            ]
          },
          "metadata": {},
          "execution_count": 50
        }
      ],
      "source": [
        "# sample 'CREDIT_HISTORY_LENGTH' and 'AVERAGE_ACCT_AGE'\n",
        "loan_df[[\"CREDIT_HISTORY_LENGTH\",'AVERAGE_ACCT_AGE']].sample(n=10)"
      ]
    },
    {
      "cell_type": "markdown",
      "metadata": {
        "id": "PHeO8HPcid0V"
      },
      "source": [
        "Both columns contain measures of time in the format \"0yrs 0mon\"\n",
        "\n",
        "This string representation is not useful for analysis or prediction so let's convert it into a number"
      ]
    },
    {
      "cell_type": "markdown",
      "metadata": {
        "id": "WKV3JcuDid0l"
      },
      "source": [
        "### String Manipulation\n",
        "\n",
        "The current format of AVERAGE_ACCT_AGE and CREDIT_HISTORY_LENGTH is not useful\n",
        "\n",
        "### EXERCISE\n",
        "\n",
        "- Can you create a new column 'AVERAGE_ACCT_AGE_MONTHS' to store the average account age as an integer of months?\n",
        "- HINT: First think about how to extract numbers from the String\n",
        "- HINT: [df['COL_NAME'].map()](https://pandas.pydata.org/pandas-docs/stable/reference/api/pandas.Series.map.html) can be used to perform functions/operations on an entire column"
      ]
    },
    {
      "cell_type": "markdown",
      "metadata": {
        "id": "86mx6R6Vid01"
      },
      "source": [
        "### SOLUTION \n",
        "\n",
        "### Step 1 - Create a function which can calculate the total number of months based on a list of input strings\n",
        "\n",
        "The calc_months function simply takes the list of two numbers stored in AVERAGE_ACCT_AGE_MONTHS\n",
        "\n",
        "- We recognize that the first number is the number of years \n",
        "- The second is the number of months \n",
        "- Simple calculation to get the total number of years"
      ]
    },
    {
      "cell_type": "code",
      "execution_count": 51,
      "metadata": {
        "id": "Gf74vm_Vid01"
      },
      "outputs": [],
      "source": [
        "# step 1\n",
        "def calc_months(str_list):\n",
        "  years = int(str_list[0])\n",
        "  months = int(str_list[1])\n",
        "  \n",
        "  num_months = (years * 12) + months\n",
        "  return num_months\n"
      ]
    },
    {
      "cell_type": "markdown",
      "metadata": {
        "id": "9CZGUm-Gid01"
      },
      "source": [
        "### Step 2 - Extract the relevant numbers from the original string data\n",
        "\n",
        "Pandas str.findall can be used to find all instances of a string within a column\n",
        "\n",
        "the '\\d+' is a regular expression which finds integers in a string\n",
        "\n",
        "regular expressions can be used to identify and extract patterns in strings\n",
        "all you need to know for know is that loan_df'AVERAGE_ACCT_AGE'.str.findall('\\d+') returns a list of all the numbers in the string stored in the 'AVERAGE_ACCT_AGE' column"
      ]
    },
    {
      "cell_type": "code",
      "execution_count": 52,
      "metadata": {
        "colab": {
          "base_uri": "https://localhost:8080/"
        },
        "id": "naw5CS-lid01",
        "outputId": "4a333426-a30a-4644-d79b-d1cd1b97d61e"
      },
      "outputs": [
        {
          "output_type": "stream",
          "name": "stdout",
          "text": [
            "UNIQUEID\n",
            "508962     [1, 0]\n",
            "478807     [0, 0]\n",
            "566949     [0, 1]\n",
            "425132    [0, 11]\n",
            "584052     [2, 0]\n",
            "466506     [0, 0]\n",
            "455627     [0, 0]\n",
            "508906     [0, 7]\n",
            "457942     [0, 0]\n",
            "451994     [1, 0]\n",
            "Name: AVERAGE_ACCT_AGE_MONTHS, dtype: object\n"
          ]
        }
      ],
      "source": [
        "#step 2\n",
        "loan_df[\"AVERAGE_ACCT_AGE_MONTHS\"] = loan_df[\"AVERAGE_ACCT_AGE\"].str.findall('\\d+')\n",
        "print(loan_df[\"AVERAGE_ACCT_AGE_MONTHS\"].sample(n=10))"
      ]
    },
    {
      "cell_type": "markdown",
      "metadata": {
        "id": "N0thgpfZid01"
      },
      "source": [
        "This creates a column 'AVERAGE_ACCT_AGE_MONTHS' which stores a list of numbers where the first item represents the number of years and the second represents the number of months\n",
        "\n",
        "### Step 3 - Use map to perform calc_months across all rows\n",
        "\n",
        "Use [map](https://pandas.pydata.org/pandas-docs/stable/reference/api/pandas.Series.map.html) to apply a function which calculates the total number of months for each row in the dataframe"
      ]
    },
    {
      "cell_type": "code",
      "execution_count": 53,
      "metadata": {
        "id": "su0HwXr4id1E"
      },
      "outputs": [],
      "source": [
        "#step 3\n",
        "loan_df[\"AVERAGE_ACCT_AGE_MONTHS\"] = loan_df[\"AVERAGE_ACCT_AGE_MONTHS\"].map(calc_months)"
      ]
    },
    {
      "cell_type": "markdown",
      "metadata": {
        "id": "fgRizpWQid1E"
      },
      "source": [
        "### Step 4 - Inspect the results"
      ]
    },
    {
      "cell_type": "code",
      "execution_count": 55,
      "metadata": {
        "colab": {
          "base_uri": "https://localhost:8080/"
        },
        "id": "vXHvB_tIid1E",
        "outputId": "c5dc28dc-6ebc-4b71-8184-9c8aa50414de"
      },
      "outputs": [
        {
          "output_type": "stream",
          "name": "stdout",
          "text": [
            "          AVERAGE_ACCT_AGE_MONTHS AVERAGE_ACCT_AGE\n",
            "UNIQUEID                                          \n",
            "440511                         10       0yrs 10mon\n",
            "419446                         19        1yrs 7mon\n",
            "589153                         39        3yrs 3mon\n",
            "646697                          6        0yrs 6mon\n",
            "439824                          0        0yrs 0mon\n",
            "458479                          9        0yrs 9mon\n",
            "524670                          0        0yrs 0mon\n",
            "639161                          0        0yrs 0mon\n",
            "576373                          0        0yrs 0mon\n",
            "586871                          0        0yrs 0mon\n"
          ]
        }
      ],
      "source": [
        "#step 4\n",
        "print(loan_df[[\"AVERAGE_ACCT_AGE_MONTHS\", \"AVERAGE_ACCT_AGE\"]].sample(n=10))"
      ]
    },
    {
      "cell_type": "markdown",
      "metadata": {
        "id": "4A7SZO0Sid1E"
      },
      "source": [
        "### More String Manipulation\n",
        "\n",
        "- Great, now we have fixed AVERAGE_ACCT_AGE how about CREDIT_HISTORY_LENGTH?\n",
        "- We could simply copy and paste our solution from the previous exercise\n",
        "- How about if we had 20 columns to fix instead of 2?\n",
        "\n",
        "### EXERCISE\n",
        "\n",
        "- Convert your solution to the previous exercise into a function and use it to fix CREDIT_HISTORY_LENGTH"
      ]
    },
    {
      "cell_type": "markdown",
      "metadata": {
        "id": "6uQ5B8Zkid1U"
      },
      "source": [
        "### SOLUTION"
      ]
    },
    {
      "cell_type": "code",
      "execution_count": 59,
      "metadata": {
        "id": "07EBdZzxid1U"
      },
      "outputs": [],
      "source": [
        "def convert_str_to_months(col_name):\n",
        "  new_col = col_name + \"_MONTHS\"\n",
        "  loan_df[new_col] = loan_df[col_name].str.findall('\\d+')\n",
        "  loan_df[new_col] = loan_df[new_col].map(calc_months)"
      ]
    },
    {
      "cell_type": "markdown",
      "metadata": {
        "id": "T7GliXU-id1U"
      },
      "source": [
        "Run the function and check the output"
      ]
    },
    {
      "cell_type": "code",
      "execution_count": 60,
      "metadata": {
        "colab": {
          "base_uri": "https://localhost:8080/"
        },
        "id": "QWpiex2Eid1U",
        "outputId": "1bb04708-6fb1-4d60-e017-1882b9c1cdbf"
      },
      "outputs": [
        {
          "output_type": "stream",
          "name": "stdout",
          "text": [
            "          CREDIT_HISTORY_LENGTH_MONTHS CREDIT_HISTORY_LENGTH\n",
            "UNIQUEID                                                    \n",
            "543982                              12             1yrs 0mon\n",
            "598745                              21             1yrs 9mon\n",
            "443844                              28             2yrs 4mon\n",
            "466868                              14             1yrs 2mon\n",
            "599181                               0             0yrs 0mon\n",
            "469306                              18             1yrs 6mon\n",
            "622779                               0             0yrs 0mon\n",
            "616332                               0             0yrs 0mon\n",
            "527656                              29             2yrs 5mon\n",
            "475665                               0             0yrs 0mon\n"
          ]
        }
      ],
      "source": [
        "#check output\n",
        "convert_str_to_months(\"CREDIT_HISTORY_LENGTH\")\n",
        "print(loan_df[[\"CREDIT_HISTORY_LENGTH_MONTHS\", \"CREDIT_HISTORY_LENGTH\"]].sample(n=10))"
      ]
    },
    {
      "cell_type": "markdown",
      "metadata": {
        "id": "bGx5pWiHid1k"
      },
      "source": [
        "Looks good, remember to drop the columns you don't need"
      ]
    },
    {
      "cell_type": "code",
      "execution_count": 61,
      "metadata": {
        "id": "b2rLfw7jid1k"
      },
      "outputs": [],
      "source": [
        "#drop 'CREDIT_HISTORY_LENGTH' and 'AVERAGE_ACCT_AGE'y\n",
        "loan_df = loan_df.drop([\"CREDIT_HISTORY_LENGTH\", 'AVERAGE_ACCT_AGE'], axis=1)"
      ]
    },
    {
      "cell_type": "markdown",
      "metadata": {
        "id": "YIEkFEKfid1k"
      },
      "source": [
        "### Conclusion \n",
        "\n",
        "- We have now cleaned all of the ‘object’ columns except ‘PERFORM_CNS_SCORE_DESCRIPTION’\n",
        "- Use [value_counts](https://pandas.pydata.org/pandas-docs/stable/reference/api/pandas.Series.value_counts.html) to have a quick look at this "
      ]
    },
    {
      "cell_type": "code",
      "execution_count": 62,
      "metadata": {
        "colab": {
          "base_uri": "https://localhost:8080/"
        },
        "id": "HjaB9v0Oid1k",
        "outputId": "e9724255-6387-46aa-9eb7-241eafd72a3e"
      },
      "outputs": [
        {
          "output_type": "execute_result",
          "data": {
            "text/plain": [
              "No Bureau History Available                                116950\n",
              "C-Very Low Risk                                             16045\n",
              "A-Very Low Risk                                             14124\n",
              "D-Very Low Risk                                             11358\n",
              "B-Very Low Risk                                              9201\n",
              "M-Very High Risk                                             8776\n",
              "F-Low Risk                                                   8485\n",
              "K-High Risk                                                  8277\n",
              "H-Medium Risk                                                6855\n",
              "E-Low Risk                                                   5821\n",
              "I-Medium Risk                                                5557\n",
              "G-Low Risk                                                   3988\n",
              "Not Scored: Sufficient History Not Available                 3765\n",
              "J-High Risk                                                  3748\n",
              "Not Scored: Not Enough Info available on the customer        3672\n",
              "Not Scored: No Activity seen on the customer (Inactive)      2885\n",
              "Not Scored: No Updates available in last 36 months           1534\n",
              "L-Very High Risk                                             1134\n",
              "Not Scored: Only a Guarantor                                  976\n",
              "Not Scored: More than 50 active Accounts found                  3\n",
              "Name: PERFORM_CNS_SCORE_DESCRIPTION, dtype: int64"
            ]
          },
          "metadata": {},
          "execution_count": 62
        }
      ],
      "source": [
        "#use value_counts to investigate PERFORM_CNS_SCORE_DESCRIPTION\n",
        "loan_df[\"PERFORM_CNS_SCORE_DESCRIPTION\"].value_counts()"
      ]
    },
    {
      "cell_type": "markdown",
      "metadata": {
        "id": "GxjfO25qid1k"
      },
      "source": [
        "Looks like a categorical field, we will look at this again in the next chapter\n",
        "\n",
        "We are now finished with our data clean up, let's save our clean data to a new csv using [df.to_csv](https://pandas.pydata.org/pandas-docs/stable/reference/api/pandas.DataFrame.to_csv.html)"
      ]
    },
    {
      "cell_type": "code",
      "execution_count": null,
      "metadata": {
        "id": "yO-hw6NLid1z"
      },
      "outputs": [],
      "source": [
        "#save cleaned data\n"
      ]
    },
    {
      "cell_type": "code",
      "execution_count": 63,
      "metadata": {
        "id": "N5bihOJCid1z"
      },
      "outputs": [],
      "source": [
        "loan_df.to_csv(\"/content/vehicle_loans_clean.csv\")"
      ]
    }
  ],
  "metadata": {
    "kernelspec": {
      "display_name": "Python 3",
      "language": "python",
      "name": "python3"
    },
    "language_info": {
      "codemirror_mode": {
        "name": "ipython",
        "version": 3
      },
      "file_extension": ".py",
      "mimetype": "text/x-python",
      "name": "python",
      "nbconvert_exporter": "python",
      "pygments_lexer": "ipython3",
      "version": "3.8.3"
    },
    "colab": {
      "provenance": []
    }
  },
  "nbformat": 4,
  "nbformat_minor": 0
}