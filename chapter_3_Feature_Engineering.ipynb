{
  "cells": [
    {
      "cell_type": "markdown",
      "metadata": {
        "id": "hPQoTVXGU7Rv"
      },
      "source": [
        "# Vehicle Loan Prediction Machine Learning Model\n",
        "\n",
        "# Chapter 4 - Feature Engineering"
      ]
    },
    {
      "cell_type": "markdown",
      "metadata": {
        "id": "PKe8TGydU7Se"
      },
      "source": [
        "### Recap and Load\n",
        "\n",
        "- As always, let's begin by importing our libraries and loading the data\n",
        "- Notice that we have a new import from sklearn.preprocessing"
      ]
    },
    {
      "cell_type": "code",
      "execution_count": null,
      "metadata": {
        "id": "Osi4EC7RU7Su"
      },
      "outputs": [],
      "source": [
        "import pandas as pd\n",
        "import matplotlib.pyplot as plt\n",
        "import numpy as np\n",
        "import seaborn as sns\n",
        "from sklearn.preprocessing import MinMaxScaler"
      ]
    },
    {
      "cell_type": "code",
      "execution_count": null,
      "metadata": {
        "id": "iRg8fQipU7S-"
      },
      "outputs": [],
      "source": [
        "loan_df = pd.read_csv(\"/content/vehicle_loans_eda.csv\", index_col='UNIQUEID')"
      ]
    },
    {
      "cell_type": "markdown",
      "metadata": {
        "id": "lDV_8RFBU7S-"
      },
      "source": [
        "Let’s bring in the explore_categorical and explore_continuous functions we created in chapter 3"
      ]
    },
    {
      "cell_type": "code",
      "execution_count": null,
      "metadata": {
        "id": "tM9RGV2uU7S-"
      },
      "outputs": [],
      "source": [
        "#explore categorical\n",
        "def explore_categorical(col_name):   \n",
        "    print(\"{0} Summary\".format(col_name))\n",
        "    print(\"\\n\")\n",
        "\n",
        "    print(\"{0} Counts\".format(col_name))\n",
        "    print(loan_df[col_name].value_counts())\n",
        "    print(\"\\n\")\n",
        "\n",
        "    print(\"{0} Ratio\".format(col_name))\n",
        "    print(loan_df[col_name].value_counts(normalize=True))\n",
        "    print(\"\\n\")\n",
        "\n",
        "    print(\"{0} Default Counts\".format(col_name))\n",
        "    print(loan_df.groupby(col_name)['LOAN_DEFAULT'].value_counts().unstack(level=-1))\n",
        "    print(\"\\n\")\n",
        "\n",
        "    print(\"{0} Default Ratio\".format(col_name))\n",
        "    print(loan_df.groupby(col_name)['LOAN_DEFAULT'].value_counts(normalize=True).unstack(level=-1))\n",
        "    print(\"\\n\")\n",
        "\n",
        "    sns.catplot(data=loan_df,kind='count',x=col_name,hue='LOAN_DEFAULT')\n",
        "    plt.show()"
      ]
    },
    {
      "cell_type": "code",
      "execution_count": null,
      "metadata": {
        "id": "N2GOkYQcU7TN"
      },
      "outputs": [],
      "source": [
        "#explore continuous\n",
        "def explore_continuous(col_name):\n",
        "    #print statistical summary\n",
        "    print(\"{0} Summary\".format(col_name))\n",
        "    print(\"\\n\")\n",
        "    print(loan_df[col_name].describe())\n",
        "    print(\"\\n\")\n",
        "\n",
        "    #Look at boxplot\n",
        "    sns.boxplot(x=col_name, data=loan_df)\n",
        "    plt.show()\n",
        "\n",
        "    #Look at the distribution\n",
        "    sns.distplot(loan_df[col_name], hist=False)\n",
        "    plt.show()\n",
        "\n",
        "    #Now lets look deeper by grouping with the target variable \n",
        "    print(\"{0} Grouped Summary\".format(col_name))\n",
        "    print(\"\\n\")\n",
        "    print(loan_df.groupby('LOAN_DEFAULT')[col_name].describe())\n",
        "\n",
        "    #look at grouped boxplot \n",
        "    sns.boxplot(x=col_name, y='LOAN_DEFAULT', data=loan_df, orient=\"h\")\n",
        "    plt.show()"
      ]
    },
    {
      "cell_type": "markdown",
      "metadata": {
        "id": "5ipf_p_hU7TN"
      },
      "source": [
        "## Lesson 1 - Binning\n",
        "\n",
        "Our first lesson is all about binning, so make sure you have covered the theory lesson that accompanies this chapter\n",
        "\n",
        "In our exploratory analysis, we observed that disbursed amount had some extremely large values?\n",
        "\n",
        "Let's take another look at that with our explore_continuous function"
      ]
    },
    {
      "cell_type": "code",
      "execution_count": null,
      "metadata": {
        "colab": {
          "base_uri": "https://localhost:8080/",
          "height": 1000
        },
        "id": "wNxHbXQuU7TN",
        "outputId": "c1ac671f-be85-4747-fe02-4868b50c4c81"
      },
      "outputs": [
        {
          "output_type": "stream",
          "name": "stdout",
          "text": [
            "DISBURSED_AMOUNT Summary\n",
            "\n",
            "\n",
            "count    119249.000000\n",
            "mean      54133.374972\n",
            "std       12663.298486\n",
            "min       13320.000000\n",
            "25%       47038.000000\n",
            "50%       53613.000000\n",
            "75%       60213.000000\n",
            "max      987354.000000\n",
            "Name: DISBURSED_AMOUNT, dtype: float64\n",
            "\n",
            "\n"
          ]
        },
        {
          "output_type": "display_data",
          "data": {
            "text/plain": [
              "<Figure size 432x288 with 1 Axes>"
            ],
            "image/png": "[encoded data removed]"
          },
          "metadata": {
            "needs_background": "light"
          }
        },
        {
          "output_type": "stream",
          "name": "stderr",
          "text": [
            "/usr/local/lib/python3.9/dist-packages/seaborn/distributions.py:2619: FutureWarning: `distplot` is a deprecated function and will be removed in a future version. Please adapt your code to use either `displot` (a figure-level function with similar flexibility) or `kdeplot` (an axes-level function for kernel density plots).\n",
            "  warnings.warn(msg, FutureWarning)\n"
          ]
        },
        {
          "output_type": "display_data",
          "data": {
            "text/plain": [
              "<Figure size 432x288 with 1 Axes>"
            ],
            "image/png": "[encoded data removed]"
          },
          "metadata": {
            "needs_background": "light"
          }
        },
        {
          "output_type": "stream",
          "name": "stdout",
          "text": [
            "DISBURSED_AMOUNT Grouped Summary\n",
            "\n",
            "\n",
            "                count          mean           std      min      25%      50%  \\\n",
            "LOAN_DEFAULT                                                                   \n",
            "0.0           94638.0  53581.201843  12812.764882  13320.0  46349.0  53103.0   \n",
            "1.0           24610.0  56256.553962  11834.148220  13369.0  49503.0  55447.0   \n",
            "\n",
            "                  75%       max  \n",
            "LOAN_DEFAULT                     \n",
            "0.0           59713.0  987354.0  \n",
            "1.0           61947.0  191392.0  \n"
          ]
        },
        {
          "output_type": "display_data",
          "data": {
            "text/plain": [
              "<Figure size 432x288 with 1 Axes>"
            ],
            "image/png": "[encoded data removed]"
          },
          "metadata": {
            "needs_background": "light"
          }
        }
      ],
      "source": [
        "#explore disbursed amount\n",
        "explore_continuous('DISBURSED_AMOUNT')"
      ]
    },
    {
      "cell_type": "markdown",
      "metadata": {
        "id": "MkvaesEgU7Td"
      },
      "source": [
        "Notice that the largest value here is 990,572 this is considerably larger than the next largest value which is also an extreme outlier \n",
        "\n",
        "Is it possible that this could be an error in the data?\n",
        "- If we assume that the disbursal amount is stored in Indian rupees then 990,572 equates to ~ £10,000 or $13,400\n",
        "- Indeed a lot of money but not impossible for a car loan \n",
        "\n",
        "Let's check the row data, LTV and ASSET_COST should give us an idea about whether or not this is a valid piece of data \n",
        "\n",
        "Pandas gives us the [idxmax](https://pandas.pydata.org/pandas-docs/version/0.17.0/generated/pandas.DataFrame.idxmax.html) function to find the index of the row with the maximum value of a column"
      ]
    },
    {
      "cell_type": "code",
      "execution_count": null,
      "metadata": {
        "colab": {
          "base_uri": "https://localhost:8080/",
          "height": 1000
        },
        "id": "YbvBjsiIU7Td",
        "outputId": "326302d6-7708-44a9-aca7-c8c139478e4b"
      },
      "outputs": [
        {
          "output_type": "stream",
          "name": "stdout",
          "text": [
            "DISBURSED_AMOUNT Summary\n",
            "\n",
            "\n",
            "count    119249.000000\n",
            "mean      54133.374972\n",
            "std       12663.298486\n",
            "min       13320.000000\n",
            "25%       47038.000000\n",
            "50%       53613.000000\n",
            "75%       60213.000000\n",
            "max      987354.000000\n",
            "Name: DISBURSED_AMOUNT, dtype: float64\n",
            "\n",
            "\n"
          ]
        },
        {
          "output_type": "display_data",
          "data": {
            "text/plain": [
              "<Figure size 432x288 with 1 Axes>"
            ],
            "image/png": "[encoded data removed]"
          },
          "metadata": {
            "needs_background": "light"
          }
        },
        {
          "output_type": "stream",
          "name": "stderr",
          "text": [
            "/usr/local/lib/python3.9/dist-packages/seaborn/distributions.py:2619: FutureWarning: `distplot` is a deprecated function and will be removed in a future version. Please adapt your code to use either `displot` (a figure-level function with similar flexibility) or `kdeplot` (an axes-level function for kernel density plots).\n",
            "  warnings.warn(msg, FutureWarning)\n"
          ]
        },
        {
          "output_type": "display_data",
          "data": {
            "text/plain": [
              "<Figure size 432x288 with 1 Axes>"
            ],
            "image/png": "[encoded data removed]"
          },
          "metadata": {
            "needs_background": "light"
          }
        },
        {
          "output_type": "stream",
          "name": "stdout",
          "text": [
            "DISBURSED_AMOUNT Grouped Summary\n",
            "\n",
            "\n",
            "                count          mean           std      min      25%      50%  \\\n",
            "LOAN_DEFAULT                                                                   \n",
            "0.0           94638.0  53581.201843  12812.764882  13320.0  46349.0  53103.0   \n",
            "1.0           24610.0  56256.553962  11834.148220  13369.0  49503.0  55447.0   \n",
            "\n",
            "                  75%       max  \n",
            "LOAN_DEFAULT                     \n",
            "0.0           59713.0  987354.0  \n",
            "1.0           61947.0  191392.0  \n"
          ]
        },
        {
          "output_type": "display_data",
          "data": {
            "text/plain": [
              "<Figure size 432x288 with 1 Axes>"
            ],
            "image/png": "[encoded data removed]"
          },
          "metadata": {
            "needs_background": "light"
          }
        },
        {
          "output_type": "error",
          "ename": "AttributeError",
          "evalue": "ignored",
          "traceback": [
            "\u001b[0;31m---------------------------------------------------------------------------\u001b[0m",
            "\u001b[0;31mAttributeError\u001b[0m                            Traceback (most recent call last)",
            "\u001b[0;32m<ipython-input-11-2e1abdf8b0d2>\u001b[0m in \u001b[0;36m<module>\u001b[0;34m\u001b[0m\n\u001b[1;32m      1\u001b[0m \u001b[0;31m#get row index of max disbursed amount\u001b[0m\u001b[0;34m\u001b[0m\u001b[0;34m\u001b[0m\u001b[0m\n\u001b[0;32m----> 2\u001b[0;31m \u001b[0mexplore_continuous\u001b[0m\u001b[0;34m(\u001b[0m\u001b[0;34m'DISBURSED_AMOUNT'\u001b[0m\u001b[0;34m)\u001b[0m\u001b[0;34m.\u001b[0m\u001b[0midxmax\u001b[0m\u001b[0;34m(\u001b[0m\u001b[0;34m)\u001b[0m\u001b[0;34m\u001b[0m\u001b[0;34m\u001b[0m\u001b[0m\n\u001b[0m",
            "\u001b[0;31mAttributeError\u001b[0m: 'NoneType' object has no attribute 'idxmax'"
          ]
        }
      ],
      "source": [
        "#get row index of max disbursed amount\n",
        "loan_df['DISBURSED_AMOUNT'].idxmax()"
      ]
    },
    {
      "cell_type": "markdown",
      "metadata": {
        "id": "WO0Ld9aSU7Ts"
      },
      "source": [
        "Now we have the row index but how can we select the row?\n",
        "\n",
        "Dataframe rows can be selected by their index using the [loc](https://pandas.pydata.org/pandas-docs/stable/reference/api/pandas.DataFrame.loc.html) function"
      ]
    },
    {
      "cell_type": "code",
      "execution_count": null,
      "metadata": {
        "colab": {
          "base_uri": "https://localhost:8080/"
        },
        "id": "a_97nuEUU7Ts",
        "outputId": "4cdff8b5-1bd8-4861-b25a-0a280b7b9f6b"
      },
      "outputs": [
        {
          "output_type": "execute_result",
          "data": {
            "text/plain": [
              "DISBURSED_AMOUNT                              987354\n",
              "ASSET_COST                                   1328954\n",
              "LTV                                            75.25\n",
              "MANUFACTURER_ID                                  156\n",
              "EMPLOYMENT_TYPE                        Self employed\n",
              "STATE_ID                                           4\n",
              "AADHAR_FLAG                                        1\n",
              "PAN_FLAG                                           0\n",
              "VOTERID_FLAG                                       0\n",
              "DRIVING_FLAG                                       0\n",
              "PASSPORT_FLAG                                      0\n",
              "PERFORM_CNS_SCORE                                567\n",
              "PERFORM_CNS_SCORE_DESCRIPTION            J-High Risk\n",
              "PRI_NO_OF_ACCTS                                   10\n",
              "PRI_ACTIVE_ACCTS                                   8\n",
              "PRI_OVERDUE_ACCTS                                  0\n",
              "PRI_CURRENT_BALANCE                          1163274\n",
              "PRI_SANCTIONED_AMOUNT                        1381825\n",
              "PRI_DISBURSED_AMOUNT                         1368528\n",
              "SEC_NO_OF_ACCTS                                    0\n",
              "SEC_ACTIVE_ACCTS                                   0\n",
              "SEC_OVERDUE_ACCTS                                  0\n",
              "SEC_CURRENT_BALANCE                                0\n",
              "SEC_SANCTIONED_AMOUNT                              0\n",
              "SEC_DISBURSED_AMOUNT                               0\n",
              "PRIMARY_INSTAL_AMT                             23836\n",
              "SEC_INSTAL_AMT                                   0.0\n",
              "NEW_ACCTS_IN_LAST_SIX_MONTHS                     2.0\n",
              "DELINQUENT_ACCTS_IN_LAST_SIX_MONTHS              1.0\n",
              "NO_OF_INQUIRIES                                  3.0\n",
              "LOAN_DEFAULT                                     0.0\n",
              "AGE                                             27.0\n",
              "DISBURSAL_MONTH                                 10.0\n",
              "AVERAGE_ACCT_AGE_MONTHS                          9.0\n",
              "CREDIT_HISTORY_LENGTH_MONTHS                    23.0\n",
              "Name: 629503, dtype: object"
            ]
          },
          "metadata": {},
          "execution_count": 12
        }
      ],
      "source": [
        "#use idmax to get row \n",
        "loan_df.loc[loan_df['DISBURSED_AMOUNT'].idxmax()]"
      ]
    },
    {
      "cell_type": "markdown",
      "metadata": {
        "id": "o_vMAGJIU7Ts"
      },
      "source": [
        "Ok, it seems reasonable that the applicant borrowed 990,572 to pay for a car that cost 1,628,992. Let's assume a legitimate value that we want to include in our model \n",
        "\n",
        "One way we can keep extreme values without them skewing the data is through binning\n",
        "- Creating categorical groups from continuous variables \n",
        "\n",
        "Let's create some bins based on the disbursed amount\n"
      ]
    },
    {
      "cell_type": "code",
      "execution_count": 13,
      "metadata": {
        "id": "9bPujzN1U7Ts"
      },
      "outputs": [],
      "source": [
        "#create buckets for disbursed amount\n",
        "disbursed_buckets = [13000, 30000, 45000, 60000, 75000, 150000, 1000000]\n",
        "disbursed_labels = ['13k - 30k', '30k - 45k', '45k - 60k', '60k - 75k', '75k - 150k', '150k - 1m']"
      ]
    },
    {
      "cell_type": "markdown",
      "metadata": {
        "id": "zsGBWUjkU7Ts"
      },
      "source": [
        "Great, now we need to use these bins to categorize our rows based on their disbursed amounts\n",
        "\n",
        "Pandas provides the [cut](https://pandas.pydata.org/pandas-docs/stable/reference/api/pandas.cut.html) which allows us to create buckets and labels"
      ]
    },
    {
      "cell_type": "code",
      "execution_count": 14,
      "metadata": {
        "id": "zwcRPFJ6U7T8"
      },
      "outputs": [],
      "source": [
        "#use cut to assign rows to new buckets\n",
        "loan_df['DISBURSED_CAT'] = pd.cut(loan_df['DISBURSED_AMOUNT'], disbursed_buckets, labels=disbursed_labels)"
      ]
    },
    {
      "cell_type": "markdown",
      "metadata": {
        "id": "3f0vu0tZU7T8"
      },
      "source": [
        "Let's use explore_categorical to take a look at our new column!"
      ]
    },
    {
      "cell_type": "code",
      "execution_count": 15,
      "metadata": {
        "id": "wDMkMrXLU7T8",
        "colab": {
          "base_uri": "https://localhost:8080/",
          "height": 1000
        },
        "outputId": "e26b749b-db42-4735-8fd3-c653fcb29eb3"
      },
      "outputs": [
        {
          "output_type": "stream",
          "name": "stdout",
          "text": [
            "DISBURSED_CAT Summary\n",
            "\n",
            "\n",
            "DISBURSED_CAT Counts\n",
            "45k - 60k     65452\n",
            "60k - 75k     25141\n",
            "30k - 45k     20887\n",
            "75k - 150k     5192\n",
            "13k - 30k      2553\n",
            "150k - 1m        24\n",
            "Name: DISBURSED_CAT, dtype: int64\n",
            "\n",
            "\n",
            "DISBURSED_CAT Ratio\n",
            "45k - 60k     0.548868\n",
            "60k - 75k     0.210828\n",
            "30k - 45k     0.175155\n",
            "75k - 150k    0.043539\n",
            "13k - 30k     0.021409\n",
            "150k - 1m     0.000201\n",
            "Name: DISBURSED_CAT, dtype: float64\n",
            "\n",
            "\n",
            "DISBURSED_CAT Default Counts\n",
            "LOAN_DEFAULT     0.0    1.0\n",
            "DISBURSED_CAT              \n",
            "13k - 30k       2228    325\n",
            "30k - 45k      17980   2907\n",
            "45k - 60k      51616  13835\n",
            "60k - 75k      18877   6264\n",
            "75k - 150k      3914   1278\n",
            "150k - 1m         23      1\n",
            "\n",
            "\n",
            "DISBURSED_CAT Default Ratio\n",
            "LOAN_DEFAULT        0.0       1.0\n",
            "DISBURSED_CAT                    \n",
            "13k - 30k      0.872699  0.127301\n",
            "30k - 45k      0.860823  0.139177\n",
            "45k - 60k      0.788620  0.211380\n",
            "60k - 75k      0.750845  0.249155\n",
            "75k - 150k     0.753852  0.246148\n",
            "150k - 1m      0.958333  0.041667\n",
            "\n",
            "\n"
          ]
        },
        {
          "output_type": "display_data",
          "data": {
            "text/plain": [
              "<Figure size 443.375x360 with 1 Axes>"
            ],
            "image/png": "[encoded data removed]"
          },
          "metadata": {
            "needs_background": "light"
          }
        }
      ],
      "source": [
        "#explore new variable\n",
        "explore_categorical('DISBURSED_CAT')"
      ]
    },
    {
      "cell_type": "markdown",
      "metadata": {
        "id": "tD4uSkaRU7T8"
      },
      "source": [
        "Notice that the vast majority of loans fall in the '45k - 60k' bucket. \n",
        "\n",
        "Also, the higher the loan amount, the more likely it was to default except for loans in the very largest category"
      ]
    },
    {
      "cell_type": "markdown",
      "metadata": {
        "id": "vb12oR6pU7T8"
      },
      "source": [
        "## Lesson 2 - Combine Features"
      ]
    },
    {
      "cell_type": "markdown",
      "metadata": {
        "id": "sLXjz0B5U7UM"
      },
      "source": [
        "### Disbursal Difference\n",
        "\n",
        "One brilliant feature of pandas, is that it allows us to easily create new columns by coming existing ones \n",
        "\n",
        "We can use mathematical operations to create new features from existing ones with just one line of code! \n",
        "\n",
        "- HINT: We already did this to create our AGE column in chapter 2\n",
        "\n",
        "Let's revisit this idea by creating a DISBURSAL_DIFFERENCE column which will be the difference between the ASSET_COST and the DISBURSED_AMOUNT"
      ]
    },
    {
      "cell_type": "code",
      "execution_count": 18,
      "metadata": {
        "id": "6ktdrEyUU7UM"
      },
      "outputs": [],
      "source": [
        "#calculate disbursal difference\n",
        "loan_df[\"DISBURSAL_DIFFERENCE\"] = loan_df[\"ASSET_COST\"] - loan_df[\"DISBURSED_AMOUNT\"]"
      ]
    },
    {
      "cell_type": "markdown",
      "metadata": {
        "id": "jJpGzF02U7UM"
      },
      "source": [
        "Let's inspect our new column"
      ]
    },
    {
      "cell_type": "code",
      "execution_count": 19,
      "metadata": {
        "id": "stdBrF9UU7UM",
        "colab": {
          "base_uri": "https://localhost:8080/",
          "height": 238
        },
        "outputId": "9e70d793-ffa8-4f36-bd79-c4fd74abf6e9"
      },
      "outputs": [
        {
          "output_type": "execute_result",
          "data": {
            "text/plain": [
              "          DISBURSAL_DIFFERENCE  ASSET_COST  DISBURSED_AMOUNT\n",
              "UNIQUEID                                                    \n",
              "626531                   18137       74950             56813\n",
              "531527                   25266       70115             44849\n",
              "577202                   14749       68052             53303\n",
              "631487                   36914      119600             82686\n",
              "569796                    9241       68000             58759"
            ],
            "text/html": [
              "\n",
              "  <div id=\"df-67b6b79b-f761-4235-b607-2101e82c57d5\">\n",
              "    <div class=\"colab-df-container\">\n",
              "      <div>\n",
              "<style scoped>\n",
              "    .dataframe tbody tr th:only-of-type {\n",
              "        vertical-align: middle;\n",
              "    }\n",
              "\n",
              "    .dataframe tbody tr th {\n",
              "        vertical-align: top;\n",
              "    }\n",
              "\n",
              "    .dataframe thead th {\n",
              "        text-align: right;\n",
              "    }\n",
              "</style>\n",
              "<table border=\"1\" class=\"dataframe\">\n",
              "  <thead>\n",
              "    <tr style=\"text-align: right;\">\n",
              "      <th></th>\n",
              "      <th>DISBURSAL_DIFFERENCE</th>\n",
              "      <th>ASSET_COST</th>\n",
              "      <th>DISBURSED_AMOUNT</th>\n",
              "    </tr>\n",
              "    <tr>\n",
              "      <th>UNIQUEID</th>\n",
              "      <th></th>\n",
              "      <th></th>\n",
              "      <th></th>\n",
              "    </tr>\n",
              "  </thead>\n",
              "  <tbody>\n",
              "    <tr>\n",
              "      <th>626531</th>\n",
              "      <td>18137</td>\n",
              "      <td>74950</td>\n",
              "      <td>56813</td>\n",
              "    </tr>\n",
              "    <tr>\n",
              "      <th>531527</th>\n",
              "      <td>25266</td>\n",
              "      <td>70115</td>\n",
              "      <td>44849</td>\n",
              "    </tr>\n",
              "    <tr>\n",
              "      <th>577202</th>\n",
              "      <td>14749</td>\n",
              "      <td>68052</td>\n",
              "      <td>53303</td>\n",
              "    </tr>\n",
              "    <tr>\n",
              "      <th>631487</th>\n",
              "      <td>36914</td>\n",
              "      <td>119600</td>\n",
              "      <td>82686</td>\n",
              "    </tr>\n",
              "    <tr>\n",
              "      <th>569796</th>\n",
              "      <td>9241</td>\n",
              "      <td>68000</td>\n",
              "      <td>58759</td>\n",
              "    </tr>\n",
              "  </tbody>\n",
              "</table>\n",
              "</div>\n",
              "      <button class=\"colab-df-convert\" onclick=\"convertToInteractive('df-67b6b79b-f761-4235-b607-2101e82c57d5')\"\n",
              "              title=\"Convert this dataframe to an interactive table.\"\n",
              "              style=\"display:none;\">\n",
              "        \n",
              "  <svg xmlns=\"http://www.w3.org/2000/svg\" height=\"24px\"viewBox=\"0 0 24 24\"\n",
              "       width=\"24px\">\n",
              "    <path d=\"M0 0h24v24H0V0z\" fill=\"none\"/>\n",
              "    <path d=\"M18.56 5.44l.94 2.06.94-2.06 2.06-.94-2.06-.94-.94-2.06-.94 2.06-2.06.94zm-11 1L8.5 8.5l.94-2.06 2.06-.94-2.06-.94L8.5 2.5l-.94 2.06-2.06.94zm10 10l.94 2.06.94-2.06 2.06-.94-2.06-.94-.94-2.06-.94 2.06-2.06.94z\"/><path d=\"M17.41 7.96l-1.37-1.37c-.4-.4-.92-.59-1.43-.59-.52 0-1.04.2-1.43.59L10.3 9.45l-7.72 7.72c-.78.78-.78 2.05 0 2.83L4 21.41c.39.39.9.59 1.41.59.51 0 1.02-.2 1.41-.59l7.78-7.78 2.81-2.81c.8-.78.8-2.07 0-2.86zM5.41 20L4 18.59l7.72-7.72 1.47 1.35L5.41 20z\"/>\n",
              "  </svg>\n",
              "      </button>\n",
              "      \n",
              "  <style>\n",
              "    .colab-df-container {\n",
              "      display:flex;\n",
              "      flex-wrap:wrap;\n",
              "      gap: 12px;\n",
              "    }\n",
              "\n",
              "    .colab-df-convert {\n",
              "      background-color: #E8F0FE;\n",
              "      border: none;\n",
              "      border-radius: 50%;\n",
              "      cursor: pointer;\n",
              "      display: none;\n",
              "      fill: #1967D2;\n",
              "      height: 32px;\n",
              "      padding: 0 0 0 0;\n",
              "      width: 32px;\n",
              "    }\n",
              "\n",
              "    .colab-df-convert:hover {\n",
              "      background-color: #E2EBFA;\n",
              "      box-shadow: 0px 1px 2px rgba(60, 64, 67, 0.3), 0px 1px 3px 1px rgba(60, 64, 67, 0.15);\n",
              "      fill: #174EA6;\n",
              "    }\n",
              "\n",
              "    [theme=dark] .colab-df-convert {\n",
              "      background-color: #3B4455;\n",
              "      fill: #D2E3FC;\n",
              "    }\n",
              "\n",
              "    [theme=dark] .colab-df-convert:hover {\n",
              "      background-color: #434B5C;\n",
              "      box-shadow: 0px 1px 3px 1px rgba(0, 0, 0, 0.15);\n",
              "      filter: drop-shadow(0px 1px 2px rgba(0, 0, 0, 0.3));\n",
              "      fill: #FFFFFF;\n",
              "    }\n",
              "  </style>\n",
              "\n",
              "      <script>\n",
              "        const buttonEl =\n",
              "          document.querySelector('#df-67b6b79b-f761-4235-b607-2101e82c57d5 button.colab-df-convert');\n",
              "        buttonEl.style.display =\n",
              "          google.colab.kernel.accessAllowed ? 'block' : 'none';\n",
              "\n",
              "        async function convertToInteractive(key) {\n",
              "          const element = document.querySelector('#df-67b6b79b-f761-4235-b607-2101e82c57d5');\n",
              "          const dataTable =\n",
              "            await google.colab.kernel.invokeFunction('convertToInteractive',\n",
              "                                                     [key], {});\n",
              "          if (!dataTable) return;\n",
              "\n",
              "          const docLinkHtml = 'Like what you see? Visit the ' +\n",
              "            '<a target=\"_blank\" href=https://colab.research.google.com/notebooks/data_table.ipynb>data table notebook</a>'\n",
              "            + ' to learn more about interactive tables.';\n",
              "          element.innerHTML = '';\n",
              "          dataTable['output_type'] = 'display_data';\n",
              "          await google.colab.output.renderOutput(dataTable, element);\n",
              "          const docLink = document.createElement('div');\n",
              "          docLink.innerHTML = docLinkHtml;\n",
              "          element.appendChild(docLink);\n",
              "        }\n",
              "      </script>\n",
              "    </div>\n",
              "  </div>\n",
              "  "
            ]
          },
          "metadata": {},
          "execution_count": 19
        }
      ],
      "source": [
        "#inspect new column\n",
        "loan_df[['DISBURSAL_DIFFERENCE', 'ASSET_COST', 'DISBURSED_AMOUNT']].sample(5)"
      ]
    },
    {
      "cell_type": "markdown",
      "metadata": {
        "id": "oHenlX6QU7UM"
      },
      "source": [
        "### Primary and Secondary Account Engineering\n",
        "\n",
        "The loan data contains 14 columns providing information about any existing loans a customer may have. This data is split according to primary and secondary accounts, a primary account is a loan where the customer is the sole recipient of the disbursal, \n",
        "a secondary account is one where the customer is a co-applicant or guarantor for the loan \n",
        "\n",
        "- PRI_NO_OF_ACCTS: count of total loans taken by the customer at the time of disbursement  \n",
        "- PRI_ACTIVE_ACCTS: count of active loans taken by the customer at the time of disbursement\n",
        "- PRI_OVERDUE_ACCTS: count of default accounts at the time of disbursement    \n",
        "- PRI_CURRENT_BALANCE: total Principal outstanding amount of the active loans at the time of disbursement        \n",
        "- PRI_SANCTIONED_AMOUNT: total amount that was sanctioned for all the loans at the time of disbursement  \n",
        "- PRI_DISBURSED_AMOUNT: total amount that was disbursed for all the loans at the time of disbursement\n",
        "- PRIMARY_INSTAL_AMT: EMI Amount of the primary loan\n",
        "- SEC_NO_OF_ACCTS: count of secondary total loans taken by the customer at the time of disbursement \n",
        "- SEC_ACTIVE_ACCTS: count of secondary active loans taken by the customer at the time of disbursement \n",
        "- SEC_OVERDUE_ACCTS: count of secondary accounts at the time of disbursement    \n",
        "- SEC_CURRENT_BALANCE: total Principal outstanding amount of the secondary active loans at the time of disbursement \n",
        "- SEC_SANCTIONED_AMOUNT: total amount that was sanctioned for all the secondary loans at the time of disbursement  \n",
        "- SEC_DISBURSED_AMOUNT: total amount that was disbursed for all the secondary loans at the time of disbursement\n",
        "- SEC_INSTAL_AMT: EMI Amount of the secondary loan \n",
        "\n",
        "If you haven’t done so already please take a few minutes to explore these primary and secondary account variables using the explore_continuous function\n",
        "\n",
        "Hopefully, you will see that in the majority of cases the data in these columns is limited\n",
        "\n",
        "Instead of simply dropping them, we will combine so we can reduce the complexity of our data without losing information\n",
        "\n",
        "For example, we can create a column 'TOTAL_ACCTS' to store the combined total of primary and secondary accounts\n"
      ]
    },
    {
      "cell_type": "code",
      "execution_count": 20,
      "metadata": {
        "id": "B2jDdi64U7Ub"
      },
      "outputs": [],
      "source": [
        "#create new total accounts column\n",
        "loan_df['TOTAL_ACCTS'] = loan_df['PRI_NO_OF_ACCTS'] + loan_df['SEC_NO_OF_ACCTS']"
      ]
    },
    {
      "cell_type": "markdown",
      "metadata": {
        "id": "yf_leggzU7Ub"
      },
      "source": [
        "Let's look at the results of this just to sanity check"
      ]
    },
    {
      "cell_type": "code",
      "execution_count": 21,
      "metadata": {
        "id": "v1tBlWMRU7Ub",
        "colab": {
          "base_uri": "https://localhost:8080/",
          "height": 238
        },
        "outputId": "71dac6d0-228f-4166-8f64-b8bfdc2cc572"
      },
      "outputs": [
        {
          "output_type": "execute_result",
          "data": {
            "text/plain": [
              "          TOTAL_ACCTS  PRI_NO_OF_ACCTS  SEC_NO_OF_ACCTS\n",
              "UNIQUEID                                               \n",
              "503617              2                2                0\n",
              "621061              1                1                0\n",
              "450348              0                0                0\n",
              "614468              5                5                0\n",
              "641224              0                0                0"
            ],
            "text/html": [
              "\n",
              "  <div id=\"df-771cddf3-f115-40e4-9c81-f5a9f758a405\">\n",
              "    <div class=\"colab-df-container\">\n",
              "      <div>\n",
              "<style scoped>\n",
              "    .dataframe tbody tr th:only-of-type {\n",
              "        vertical-align: middle;\n",
              "    }\n",
              "\n",
              "    .dataframe tbody tr th {\n",
              "        vertical-align: top;\n",
              "    }\n",
              "\n",
              "    .dataframe thead th {\n",
              "        text-align: right;\n",
              "    }\n",
              "</style>\n",
              "<table border=\"1\" class=\"dataframe\">\n",
              "  <thead>\n",
              "    <tr style=\"text-align: right;\">\n",
              "      <th></th>\n",
              "      <th>TOTAL_ACCTS</th>\n",
              "      <th>PRI_NO_OF_ACCTS</th>\n",
              "      <th>SEC_NO_OF_ACCTS</th>\n",
              "    </tr>\n",
              "    <tr>\n",
              "      <th>UNIQUEID</th>\n",
              "      <th></th>\n",
              "      <th></th>\n",
              "      <th></th>\n",
              "    </tr>\n",
              "  </thead>\n",
              "  <tbody>\n",
              "    <tr>\n",
              "      <th>503617</th>\n",
              "      <td>2</td>\n",
              "      <td>2</td>\n",
              "      <td>0</td>\n",
              "    </tr>\n",
              "    <tr>\n",
              "      <th>621061</th>\n",
              "      <td>1</td>\n",
              "      <td>1</td>\n",
              "      <td>0</td>\n",
              "    </tr>\n",
              "    <tr>\n",
              "      <th>450348</th>\n",
              "      <td>0</td>\n",
              "      <td>0</td>\n",
              "      <td>0</td>\n",
              "    </tr>\n",
              "    <tr>\n",
              "      <th>614468</th>\n",
              "      <td>5</td>\n",
              "      <td>5</td>\n",
              "      <td>0</td>\n",
              "    </tr>\n",
              "    <tr>\n",
              "      <th>641224</th>\n",
              "      <td>0</td>\n",
              "      <td>0</td>\n",
              "      <td>0</td>\n",
              "    </tr>\n",
              "  </tbody>\n",
              "</table>\n",
              "</div>\n",
              "      <button class=\"colab-df-convert\" onclick=\"convertToInteractive('df-771cddf3-f115-40e4-9c81-f5a9f758a405')\"\n",
              "              title=\"Convert this dataframe to an interactive table.\"\n",
              "              style=\"display:none;\">\n",
              "        \n",
              "  <svg xmlns=\"http://www.w3.org/2000/svg\" height=\"24px\"viewBox=\"0 0 24 24\"\n",
              "       width=\"24px\">\n",
              "    <path d=\"M0 0h24v24H0V0z\" fill=\"none\"/>\n",
              "    <path d=\"M18.56 5.44l.94 2.06.94-2.06 2.06-.94-2.06-.94-.94-2.06-.94 2.06-2.06.94zm-11 1L8.5 8.5l.94-2.06 2.06-.94-2.06-.94L8.5 2.5l-.94 2.06-2.06.94zm10 10l.94 2.06.94-2.06 2.06-.94-2.06-.94-.94-2.06-.94 2.06-2.06.94z\"/><path d=\"M17.41 7.96l-1.37-1.37c-.4-.4-.92-.59-1.43-.59-.52 0-1.04.2-1.43.59L10.3 9.45l-7.72 7.72c-.78.78-.78 2.05 0 2.83L4 21.41c.39.39.9.59 1.41.59.51 0 1.02-.2 1.41-.59l7.78-7.78 2.81-2.81c.8-.78.8-2.07 0-2.86zM5.41 20L4 18.59l7.72-7.72 1.47 1.35L5.41 20z\"/>\n",
              "  </svg>\n",
              "      </button>\n",
              "      \n",
              "  <style>\n",
              "    .colab-df-container {\n",
              "      display:flex;\n",
              "      flex-wrap:wrap;\n",
              "      gap: 12px;\n",
              "    }\n",
              "\n",
              "    .colab-df-convert {\n",
              "      background-color: #E8F0FE;\n",
              "      border: none;\n",
              "      border-radius: 50%;\n",
              "      cursor: pointer;\n",
              "      display: none;\n",
              "      fill: #1967D2;\n",
              "      height: 32px;\n",
              "      padding: 0 0 0 0;\n",
              "      width: 32px;\n",
              "    }\n",
              "\n",
              "    .colab-df-convert:hover {\n",
              "      background-color: #E2EBFA;\n",
              "      box-shadow: 0px 1px 2px rgba(60, 64, 67, 0.3), 0px 1px 3px 1px rgba(60, 64, 67, 0.15);\n",
              "      fill: #174EA6;\n",
              "    }\n",
              "\n",
              "    [theme=dark] .colab-df-convert {\n",
              "      background-color: #3B4455;\n",
              "      fill: #D2E3FC;\n",
              "    }\n",
              "\n",
              "    [theme=dark] .colab-df-convert:hover {\n",
              "      background-color: #434B5C;\n",
              "      box-shadow: 0px 1px 3px 1px rgba(0, 0, 0, 0.15);\n",
              "      filter: drop-shadow(0px 1px 2px rgba(0, 0, 0, 0.3));\n",
              "      fill: #FFFFFF;\n",
              "    }\n",
              "  </style>\n",
              "\n",
              "      <script>\n",
              "        const buttonEl =\n",
              "          document.querySelector('#df-771cddf3-f115-40e4-9c81-f5a9f758a405 button.colab-df-convert');\n",
              "        buttonEl.style.display =\n",
              "          google.colab.kernel.accessAllowed ? 'block' : 'none';\n",
              "\n",
              "        async function convertToInteractive(key) {\n",
              "          const element = document.querySelector('#df-771cddf3-f115-40e4-9c81-f5a9f758a405');\n",
              "          const dataTable =\n",
              "            await google.colab.kernel.invokeFunction('convertToInteractive',\n",
              "                                                     [key], {});\n",
              "          if (!dataTable) return;\n",
              "\n",
              "          const docLinkHtml = 'Like what you see? Visit the ' +\n",
              "            '<a target=\"_blank\" href=https://colab.research.google.com/notebooks/data_table.ipynb>data table notebook</a>'\n",
              "            + ' to learn more about interactive tables.';\n",
              "          element.innerHTML = '';\n",
              "          dataTable['output_type'] = 'display_data';\n",
              "          await google.colab.output.renderOutput(dataTable, element);\n",
              "          const docLink = document.createElement('div');\n",
              "          docLink.innerHTML = docLinkHtml;\n",
              "          element.appendChild(docLink);\n",
              "        }\n",
              "      </script>\n",
              "    </div>\n",
              "  </div>\n",
              "  "
            ]
          },
          "metadata": {},
          "execution_count": 21
        }
      ],
      "source": [
        "#inspect new column\n",
        "loan_df[['TOTAL_ACCTS', 'PRI_NO_OF_ACCTS', 'SEC_NO_OF_ACCTS']].sample(5)"
      ]
    },
    {
      "cell_type": "markdown",
      "metadata": {
        "id": "j29wfo2nU7Ub"
      },
      "source": [
        "### EXERCISE\n",
        "\n",
        "- Use this example to create TOTAL_ columns from the remaining primary/secondary variables\n",
        "- HINT: After this, you should have 7 new columns including 'TOTAL_ACCTS'"
      ]
    },
    {
      "cell_type": "markdown",
      "metadata": {
        "id": "VPfbOXWpU7Ub"
      },
      "source": [
        "### SOLUTION"
      ]
    },
    {
      "cell_type": "code",
      "execution_count": 22,
      "metadata": {
        "id": "3Y7fHY4tU7Ub"
      },
      "outputs": [],
      "source": [
        "# type solution here\n",
        "loan_df['TOTAL_ACTIVE_ACCTS'] = loan_df['PRI_ACTIVE_ACCTS'] + loan_df['SEC_ACTIVE_ACCTS']\n",
        "loan_df['TOTAL_OVERDUE_ACCTS'] = loan_df['PRI_OVERDUE_ACCTS'] + loan_df['SEC_OVERDUE_ACCTS']\n",
        "loan_df['TOTAL_CURRENT_BALANCE'] = loan_df['PRI_CURRENT_BALANCE'] + loan_df['SEC_CURRENT_BALANCE']\n",
        "loan_df['TOTAL_SANCTIONED_AMOUNT'] = loan_df['PRI_SANCTIONED_AMOUNT'] + loan_df['SEC_SANCTIONED_AMOUNT'] \n",
        "loan_df['TOTAL_DISBURSED_AMOUNT'] = loan_df['PRI_DISBURSED_AMOUNT'] + loan_df['SEC_DISBURSED_AMOUNT']\n",
        "loan_df['TOTAL_INSTAL_AMT'] = loan_df['PRIMARY_INSTAL_AMT'] + loan_df['SEC_INSTAL_AMT']"
      ]
    },
    {
      "cell_type": "markdown",
      "metadata": {
        "id": "A58JoFgBU7Ub"
      },
      "source": [
        "Brilliant! Now we have simplified our dataset by combining the primary and secondary account columns \n",
        "\n",
        "Let's drop the ones we no longer need to avoid data duplication"
      ]
    },
    {
      "cell_type": "code",
      "execution_count": 23,
      "metadata": {
        "id": "VNTpAq-BU7Ur"
      },
      "outputs": [],
      "source": [
        "# drop primary and secondary columns\n",
        "drop_cols = ['PRI_NO_OF_ACCTS', 'PRI_ACTIVE_ACCTS', 'PRI_OVERDUE_ACCTS', 'PRI_CURRENT_BALANCE', 'PRI_SANCTIONED_AMOUNT', 'PRI_DISBURSED_AMOUNT', 'PRIMARY_INSTAL_AMT', 'SEC_NO_OF_ACCTS', 'SEC_ACTIVE_ACCTS', 'SEC_OVERDUE_ACCTS', 'SEC_CURRENT_BALANCE', 'SEC_SANCTIONED_AMOUNT', 'SEC_DISBURSED_AMOUNT', 'SEC_INSTAL_AMT']\n",
        "\n",
        "loan_df = loan_df.drop(drop_cols, axis=1)"
      ]
    },
    {
      "cell_type": "markdown",
      "metadata": {
        "id": "VWh2N7ZGU7Ur"
      },
      "source": [
        "We may also be interested in calculating the percentage of overdue accounts a person has"
      ]
    },
    {
      "cell_type": "markdown",
      "metadata": {
        "id": "iXO-2NKzU7Ur"
      },
      "source": [
        "### EXERCISE\n",
        "\n",
        "- Create a column 'OVERDUE_PCT' that stores the percentage of overdue accounts\n",
        "\n",
        "### SOLUTION"
      ]
    },
    {
      "cell_type": "code",
      "execution_count": 24,
      "metadata": {
        "id": "cfkGjOLhU7Ur"
      },
      "outputs": [],
      "source": [
        "#type solution here\n",
        "loan_df[\"OVERDUE_PCT\"] = loan_df['TOTAL_OVERDUE_ACCTS'] / loan_df['TOTAL_ACCTS']"
      ]
    },
    {
      "cell_type": "markdown",
      "metadata": {
        "id": "4N1LGEjwU7Ur"
      },
      "source": [
        "Wait! We better check this new column for missing values, remember a lot of rows will have 0 'TOTAL_ACCTS'\n",
        "\n",
        "We can investigate using [isnull](https://pandas.pydata.org/pandas-docs/stable/reference/api/pandas.Series.isnull.html) and [sum](https://pandas.pydata.org/pandas-docs/stable/reference/api/pandas.Series.sum.html)"
      ]
    },
    {
      "cell_type": "code",
      "execution_count": 25,
      "metadata": {
        "id": "q8XY5DzkU7U7",
        "colab": {
          "base_uri": "https://localhost:8080/"
        },
        "outputId": "2f6fa4b9-a8ef-4834-ee7f-fbeb5c390f66"
      },
      "outputs": [
        {
          "output_type": "execute_result",
          "data": {
            "text/plain": [
              "59486"
            ]
          },
          "metadata": {},
          "execution_count": 25
        }
      ],
      "source": [
        "#check for missing values\n",
        "loan_df[\"OVERDUE_PCT\"].isnull().sum()"
      ]
    },
    {
      "cell_type": "markdown",
      "metadata": {
        "id": "6r4cz8LTU7U7"
      },
      "source": [
        "Ok, we have a lot of missing values we can fill them with 0s using [fillna](https://pandas.pydata.org/pandas-docs/stable/reference/api/pandas.Series.fillna.html)"
      ]
    },
    {
      "cell_type": "code",
      "execution_count": 26,
      "metadata": {
        "id": "dls6vYH4U7U7"
      },
      "outputs": [],
      "source": [
        "#fill missing values\n",
        "loan_df['OVERDUE_PCT'] = loan_df['OVERDUE_PCT'].fillna(0)"
      ]
    },
    {
      "cell_type": "markdown",
      "metadata": {
        "id": "lUy4Ev7qU7VK"
      },
      "source": [
        "Let's use [isnull](https://pandas.pydata.org/pandas-docs/stable/reference/api/pandas.Series.isnull.html) and [sum](https://pandas.pydata.org/pandas-docs/stable/reference/api/pandas.Series.sum.html) again to make sure we no longer have missing values"
      ]
    },
    {
      "cell_type": "code",
      "execution_count": 27,
      "metadata": {
        "id": "nrC0HLIZU7VK",
        "colab": {
          "base_uri": "https://localhost:8080/"
        },
        "outputId": "6c5a4351-1791-4217-dfd2-c9930af71501"
      },
      "outputs": [
        {
          "output_type": "execute_result",
          "data": {
            "text/plain": [
              "0"
            ]
          },
          "metadata": {},
          "execution_count": 27
        }
      ],
      "source": [
        "#double check missing values\n",
        "loan_df[\"OVERDUE_PCT\"].isnull().sum()"
      ]
    },
    {
      "cell_type": "markdown",
      "metadata": {
        "id": "z0kVq1_xU7VK"
      },
      "source": [
        "Brilliant, our new OVERDUE_PCT column no longer has any missing values. \n",
        "\n",
        "We have done a lot of feature engineering so far, so let's use the [info](https://pandas.pydata.org/pandas-docs/stable/reference/api/pandas.DataFrame.info.html) function to take a look at our columns"
      ]
    },
    {
      "cell_type": "code",
      "execution_count": 30,
      "metadata": {
        "id": "NcY0wtnrU7VK",
        "colab": {
          "base_uri": "https://localhost:8080/"
        },
        "outputId": "5b940b0d-6494-4bce-8c4a-1481d86b06bb"
      },
      "outputs": [
        {
          "output_type": "stream",
          "name": "stdout",
          "text": [
            "<class 'pandas.core.frame.DataFrame'>\n",
            "Int64Index: 119249 entries, 420825 to 544685\n",
            "Data columns (total 31 columns):\n",
            " #   Column                               Non-Null Count   Dtype   \n",
            "---  ------                               --------------   -----   \n",
            " 0   DISBURSED_AMOUNT                     119249 non-null  int64   \n",
            " 1   ASSET_COST                           119249 non-null  int64   \n",
            " 2   LTV                                  119249 non-null  float64 \n",
            " 3   MANUFACTURER_ID                      119249 non-null  int64   \n",
            " 4   EMPLOYMENT_TYPE                      119249 non-null  object  \n",
            " 5   STATE_ID                             119249 non-null  int64   \n",
            " 6   AADHAR_FLAG                          119249 non-null  int64   \n",
            " 7   PAN_FLAG                             119249 non-null  int64   \n",
            " 8   VOTERID_FLAG                         119249 non-null  int64   \n",
            " 9   DRIVING_FLAG                         119249 non-null  int64   \n",
            " 10  PASSPORT_FLAG                        119249 non-null  int64   \n",
            " 11  PERFORM_CNS_SCORE                    119249 non-null  int64   \n",
            " 12  PERFORM_CNS_SCORE_DESCRIPTION        119249 non-null  object  \n",
            " 13  NEW_ACCTS_IN_LAST_SIX_MONTHS         119248 non-null  float64 \n",
            " 14  DELINQUENT_ACCTS_IN_LAST_SIX_MONTHS  119248 non-null  float64 \n",
            " 15  NO_OF_INQUIRIES                      119248 non-null  float64 \n",
            " 16  LOAN_DEFAULT                         119248 non-null  float64 \n",
            " 17  AGE                                  119248 non-null  float64 \n",
            " 18  DISBURSAL_MONTH                      119248 non-null  float64 \n",
            " 19  AVERAGE_ACCT_AGE_MONTHS              119248 non-null  float64 \n",
            " 20  CREDIT_HISTORY_LENGTH_MONTHS         119248 non-null  float64 \n",
            " 21  DISBURSED_CAT                        119249 non-null  category\n",
            " 22  DISBURSAL_DIFFERENCE                 119249 non-null  int64   \n",
            " 23  TOTAL_ACCTS                          119249 non-null  int64   \n",
            " 24  TOTAL_ACTIVE_ACCTS                   119249 non-null  int64   \n",
            " 25  TOTAL_OVERDUE_ACCTS                  119249 non-null  int64   \n",
            " 26  TOTAL_CURRENT_BALANCE                119249 non-null  int64   \n",
            " 27  TOTAL_SANCTIONED_AMOUNT              119249 non-null  int64   \n",
            " 28  TOTAL_DISBURSED_AMOUNT               119249 non-null  int64   \n",
            " 29  TOTAL_INSTAL_AMT                     119248 non-null  float64 \n",
            " 30  OVERDUE_PCT                          119249 non-null  float64 \n",
            "dtypes: category(1), float64(11), int64(17), object(2)\n",
            "memory usage: 32.3+ MB\n"
          ]
        }
      ],
      "source": [
        "#take a look at remaining columns\n",
        "loan_df.info()"
      ]
    },
    {
      "cell_type": "markdown",
      "metadata": {
        "id": "cvx8PDidU7Va"
      },
      "source": [
        "Nice! We have reduced our number of columns to 31\n",
        "\n",
        "Also, notice the presence of our new columns at the bottom of the list."
      ]
    },
    {
      "cell_type": "markdown",
      "metadata": {
        "id": "P4fNNuriU7Va"
      },
      "source": [
        "## Lesson 3 - Scaling \n",
        "\n",
        "- We will use min max scaling to bring our continuous variables into the same range \n",
        "- Outliers have been observed in the data. However, we will keep them as they appear to be legitimate\n",
        "- Sklearn provides an implementation of Min Max scaling, [MinMaxScaler](https://scikit-learn.org/stable/modules/generated/sklearn.preprocessing.MinMaxScaler.html)\n",
        "\n",
        "First, we create a list of our continuous columns \n",
        "- We can use this list to select the continuous variables from our dataframe without typing a long list of column names each time \n",
        "- We don't need to scale our categoricals or binaries\n",
        "\n"
      ]
    },
    {
      "cell_type": "code",
      "execution_count": 31,
      "metadata": {
        "id": "89wP0rmUU7Va"
      },
      "outputs": [],
      "source": [
        "#create list of numeric columns\n",
        "numeric_cols = ['DISBURSED_AMOUNT', \n",
        "                'ASSET_COST', \n",
        "                'LTV', \n",
        "                'NEW_ACCTS_IN_LAST_SIX_MONTHS', \n",
        "                'DELINQUENT_ACCTS_IN_LAST_SIX_MONTHS', \n",
        "                'NO_OF_INQUIRIES', \n",
        "                'AGE', \n",
        "                'AVERAGE_ACCT_AGE_MONTHS', \n",
        "                'CREDIT_HISTORY_LENGTH_MONTHS',\n",
        "                'PERFORM_CNS_SCORE',\n",
        "                'TOTAL_ACCTS',\n",
        "                'TOTAL_ACTIVE_ACCTS',\n",
        "                'TOTAL_OVERDUE_ACCTS',\n",
        "                'TOTAL_CURRENT_BALANCE', \n",
        "                'TOTAL_SANCTIONED_AMOUNT', \n",
        "                'TOTAL_DISBURSED_AMOUNT', \n",
        "                'TOTAL_INSTAL_AMT', \n",
        "                'OVERDUE_PCT', \n",
        "                'DISBURSAL_DIFFERENCE']"
      ]
    },
    {
      "cell_type": "markdown",
      "metadata": {
        "id": "PhStPGowU7Va"
      },
      "source": [
        "Let's look at the numeric columns so we have a reference. \n",
        "\n",
        "We can plot multiple columns on the same plot using pandas [boxplot](https://pandas.pydata.org/pandas-docs/stable/reference/api/pandas.DataFrame.boxplot.html)"
      ]
    },
    {
      "cell_type": "code",
      "execution_count": 32,
      "metadata": {
        "id": "5R9wBGeHU7Va",
        "colab": {
          "base_uri": "https://localhost:8080/",
          "height": 282
        },
        "outputId": "e81b001c-33f8-4310-83a3-0a341a8d2a16"
      },
      "outputs": [
        {
          "output_type": "display_data",
          "data": {
            "text/plain": [
              "<Figure size 432x288 with 1 Axes>"
            ],
            "image/png": "[encoded data removed]"
          },
          "metadata": {
            "needs_background": "light"
          }
        }
      ],
      "source": [
        "#visualize the problem\n",
        "loan_df[['LTV', 'ASSET_COST', 'AGE']].boxplot()\n",
        "plt.title('Prior to Scaling')\n",
        "plt.show()"
      ]
    },
    {
      "cell_type": "markdown",
      "metadata": {
        "id": "Xl2EhVySU7Va"
      },
      "source": [
        "Observe that the numeric values are distributed across very different scales.\n",
        "\n",
        "Let's fix this problem using Min Max Scaling. \n",
        "\n",
        "First we need to create an instance of [MinMaxScaler](https://scikit-learn.org/stable/modules/generated/sklearn.preprocessing.MinMaxScaler.html) "
      ]
    },
    {
      "cell_type": "code",
      "execution_count": 33,
      "metadata": {
        "id": "I7Wyr0BTU7Vp"
      },
      "outputs": [],
      "source": [
        "#create instance of min max scaler\n",
        "mm_scaler = MinMaxScaler()"
      ]
    },
    {
      "cell_type": "markdown",
      "metadata": {
        "id": "iQYnF4nzU7Vp"
      },
      "source": [
        "We can use [fit_transform](https://scikit-learn.org/stable/modules/generated/sklearn.preprocessing.MinMaxScaler.html#sklearn.preprocessing.MinMaxScaler.fit_transform) to fit the scaler to our data and perform the scaling"
      ]
    },
    {
      "cell_type": "code",
      "execution_count": 34,
      "metadata": {
        "id": "RN-TmVRLU7Vp"
      },
      "outputs": [],
      "source": [
        "#apply fit transform\n",
        "loan_df[numeric_cols] = mm_scaler.fit_transform(loan_df[numeric_cols])"
      ]
    },
    {
      "cell_type": "markdown",
      "metadata": {
        "id": "FNnPWu8CU7Vp"
      },
      "source": [
        "Let's have a quick look at the boxplots now"
      ]
    },
    {
      "cell_type": "code",
      "execution_count": 35,
      "metadata": {
        "id": "U-uPQEs_U7Vp",
        "colab": {
          "base_uri": "https://localhost:8080/",
          "height": 266
        },
        "outputId": "22263d5d-dcc1-4255-9d92-5bd520fc32cf"
      },
      "outputs": [
        {
          "output_type": "display_data",
          "data": {
            "text/plain": [
              "<Figure size 432x288 with 1 Axes>"
            ],
            "image/png": "[encoded data removed]"
          },
          "metadata": {
            "needs_background": "light"
          }
        }
      ],
      "source": [
        "#visualize transformed column\n",
        "loan_df[['LTV', 'ASSET_COST', 'AGE']].boxplot()\n",
        "plt.show()"
      ]
    },
    {
      "cell_type": "markdown",
      "metadata": {
        "id": "_LMWNYQdU7Vp"
      },
      "source": [
        "Now all the values are ranged between 1 and 0\n",
        "\n",
        "Take some time now to look at some of our other numeric columns after we have scaled them"
      ]
    },
    {
      "cell_type": "markdown",
      "metadata": {
        "id": "6fAJEKWwU7V5"
      },
      "source": [
        "## Conclusion\n",
        "\n",
        "- In this chapter, we have performed some basic feature engineering \n",
        "- We have created a new categorical column using binning on 'DISBURSED_AMOUNT'\n",
        "- We have combined features to create new ones \n",
        "- We have performed MinMax scaling on our numeric variables\n",
        "\n",
        "Let's save our data to file!"
      ]
    },
    {
      "cell_type": "code",
      "execution_count": null,
      "metadata": {
        "id": "2WTZA669U7V5"
      },
      "outputs": [],
      "source": [
        "#save our data"
      ]
    },
    {
      "cell_type": "code",
      "execution_count": 37,
      "metadata": {
        "id": "gyOfgCZsU7V5"
      },
      "outputs": [],
      "source": [
        "loan_df.to_csv('/content/vehicle_loans_feat.csv')"
      ]
    },
    {
      "cell_type": "code",
      "source": [],
      "metadata": {
        "id": "lYMI3p7FnaUp"
      },
      "execution_count": null,
      "outputs": []
    }
  ],
  "metadata": {
    "kernelspec": {
      "display_name": "Python 3",
      "language": "python",
      "name": "python3"
    },
    "language_info": {
      "codemirror_mode": {
        "name": "ipython",
        "version": 3
      },
      "file_extension": ".py",
      "mimetype": "text/x-python",
      "name": "python",
      "nbconvert_exporter": "python",
      "pygments_lexer": "ipython3",
      "version": "3.8.3"
    },
    "colab": {
      "provenance": []
    }
  },
  "nbformat": 4,
  "nbformat_minor": 0
}